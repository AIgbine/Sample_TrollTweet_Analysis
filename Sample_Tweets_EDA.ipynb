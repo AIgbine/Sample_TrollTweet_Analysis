{
  "nbformat": 4,
  "nbformat_minor": 0,
  "metadata": {
    "kernelspec": {
      "display_name": "Python 3",
      "language": "python",
      "name": "python3"
    },
    "language_info": {
      "codemirror_mode": {
        "name": "ipython",
        "version": 3
      },
      "file_extension": ".py",
      "mimetype": "text/x-python",
      "name": "python",
      "nbconvert_exporter": "python",
      "pygments_lexer": "ipython3",
      "version": "3.8.3"
    },
    "colab": {
      "name": "Sample_Tweets_EDA.ipynb",
      "provenance": [],
      "include_colab_link": true
    }
  },
  "cells": [
    {
      "cell_type": "markdown",
      "metadata": {
        "id": "view-in-github",
        "colab_type": "text"
      },
      "source": [
        "<a href=\"https://colab.research.google.com/github/AIgbine/Sample_TrollTweet_Analysis/blob/main/Sample_Tweets_EDA.ipynb\" target=\"_parent\"><img src=\"https://colab.research.google.com/assets/colab-badge.svg\" alt=\"Open In Colab\"/></a>"
      ]
    },
    {
      "cell_type": "code",
      "metadata": {
        "id": "6jEvPbaXiuMz"
      },
      "source": [
        "import numpy as np # linear algebra\n",
        "import pandas as pd # data processing, CSV file I/O (e.g. pd.read_csv)\n",
        "import matplotlib.pyplot as plt\n",
        "%matplotlib inline\n",
        "import seaborn as sns\n",
        "from mpl_toolkits.mplot3d import Axes3D\n",
        "from sklearn.cluster import KMeans\n",
        "\n",
        "from sklearn.preprocessing import scale\n",
        "from sklearn.metrics import confusion_matrix,classification_report"
      ],
      "execution_count": null,
      "outputs": []
    },
    {
      "cell_type": "code",
      "metadata": {
        "id": "3_8slPGEiuNQ",
        "outputId": "052179e6-1ca5-44f9-84c2-313e392c11d3"
      },
      "source": [
        "data = pd.read_csv('sample_tweets.csv')\n",
        "data.head()"
      ],
      "execution_count": null,
      "outputs": [
        {
          "output_type": "execute_result",
          "data": {
            "text/html": [
              "<div>\n",
              "<style scoped>\n",
              "    .dataframe tbody tr th:only-of-type {\n",
              "        vertical-align: middle;\n",
              "    }\n",
              "\n",
              "    .dataframe tbody tr th {\n",
              "        vertical-align: top;\n",
              "    }\n",
              "\n",
              "    .dataframe thead th {\n",
              "        text-align: right;\n",
              "    }\n",
              "</style>\n",
              "<table border=\"1\" class=\"dataframe\">\n",
              "  <thead>\n",
              "    <tr style=\"text-align: right;\">\n",
              "      <th></th>\n",
              "      <th>Unnamed: 0</th>\n",
              "      <th>author</th>\n",
              "      <th>content</th>\n",
              "      <th>region</th>\n",
              "      <th>language</th>\n",
              "      <th>publish_date</th>\n",
              "      <th>following</th>\n",
              "      <th>followers</th>\n",
              "      <th>post_type</th>\n",
              "      <th>account_type</th>\n",
              "      <th>retweet</th>\n",
              "      <th>account_category</th>\n",
              "      <th>tweet_id</th>\n",
              "      <th>article_url</th>\n",
              "      <th>tco1_step1</th>\n",
              "      <th>tco2_step1</th>\n",
              "      <th>tco3_step1</th>\n",
              "    </tr>\n",
              "  </thead>\n",
              "  <tbody>\n",
              "    <tr>\n",
              "      <th>0</th>\n",
              "      <td>0</td>\n",
              "      <td>ADNNELSTR</td>\n",
              "      <td>The empty podium says it all. The Marxists are...</td>\n",
              "      <td>Unknown</td>\n",
              "      <td>English</td>\n",
              "      <td>8/13/2017 21:00</td>\n",
              "      <td>946</td>\n",
              "      <td>83</td>\n",
              "      <td>NaN</td>\n",
              "      <td>Right</td>\n",
              "      <td>0</td>\n",
              "      <td>RightTroll</td>\n",
              "      <td>896838937028775937</td>\n",
              "      <td>http://twitter.com/893370639309996032/statuses...</td>\n",
              "      <td>https://twitter.com/i/web/status/8968383433838...</td>\n",
              "      <td>NaN</td>\n",
              "      <td>NaN</td>\n",
              "    </tr>\n",
              "    <tr>\n",
              "      <th>1</th>\n",
              "      <td>1</td>\n",
              "      <td>ATLANTA_ONLINE</td>\n",
              "      <td>Dust in your house may have toxic chemicals, s...</td>\n",
              "      <td>United States</td>\n",
              "      <td>English</td>\n",
              "      <td>9/15/2016 3:34</td>\n",
              "      <td>7825</td>\n",
              "      <td>17383</td>\n",
              "      <td>NaN</td>\n",
              "      <td>local</td>\n",
              "      <td>0</td>\n",
              "      <td>NewsFeed</td>\n",
              "      <td>776262908388839424</td>\n",
              "      <td>http://twitter.com/Atlanta_Online/statuses/776...</td>\n",
              "      <td>http://on-ajc.com/2coKeyO</td>\n",
              "      <td>NaN</td>\n",
              "      <td>NaN</td>\n",
              "    </tr>\n",
              "    <tr>\n",
              "      <th>2</th>\n",
              "      <td>2</td>\n",
              "      <td>ANTONHAYHAY</td>\n",
              "      <td>singers Get 1 million soundcloud plays for $45...</td>\n",
              "      <td>United States</td>\n",
              "      <td>English</td>\n",
              "      <td>3/3/2017 20:41</td>\n",
              "      <td>303</td>\n",
              "      <td>711</td>\n",
              "      <td>RETWEET</td>\n",
              "      <td>Left</td>\n",
              "      <td>1</td>\n",
              "      <td>LeftTroll</td>\n",
              "      <td>837764807826763781</td>\n",
              "      <td>http://twitter.com/1652262638/statuses/8377648...</td>\n",
              "      <td>https://twitter.com/jayceodpromoter/status/837...</td>\n",
              "      <td>http://bit.ly/2m4KZPJ</td>\n",
              "      <td>NaN</td>\n",
              "    </tr>\n",
              "    <tr>\n",
              "      <th>3</th>\n",
              "      <td>3</td>\n",
              "      <td>AMELIEBALDWIN</td>\n",
              "      <td>.@JohnsonHildy may be on to something about th...</td>\n",
              "      <td>United States</td>\n",
              "      <td>English</td>\n",
              "      <td>2/23/2017 2:05</td>\n",
              "      <td>2322</td>\n",
              "      <td>2743</td>\n",
              "      <td>RETWEET</td>\n",
              "      <td>Right</td>\n",
              "      <td>1</td>\n",
              "      <td>RightTroll</td>\n",
              "      <td>834584872111001601</td>\n",
              "      <td>http://twitter.com/1679279490/statuses/8345848...</td>\n",
              "      <td>http://www.washingtonexaminer.com/james-okeefe...</td>\n",
              "      <td>NaN</td>\n",
              "      <td>NaN</td>\n",
              "    </tr>\n",
              "    <tr>\n",
              "      <th>4</th>\n",
              "      <td>4</td>\n",
              "      <td>AMELIEBALDWIN</td>\n",
              "      <td>.@ViolaDavis just made #Oscars history, and it...</td>\n",
              "      <td>United States</td>\n",
              "      <td>English</td>\n",
              "      <td>1/25/2017 9:36</td>\n",
              "      <td>2340</td>\n",
              "      <td>2726</td>\n",
              "      <td>RETWEET</td>\n",
              "      <td>Right</td>\n",
              "      <td>1</td>\n",
              "      <td>RightTroll</td>\n",
              "      <td>824189182897754117</td>\n",
              "      <td>http://twitter.com/1679279490/statuses/8241891...</td>\n",
              "      <td>https://twitter.com/hellogiggles/status/824184...</td>\n",
              "      <td>http://trib.al/adflVAC</td>\n",
              "      <td>NaN</td>\n",
              "    </tr>\n",
              "  </tbody>\n",
              "</table>\n",
              "</div>"
            ],
            "text/plain": [
              "   Unnamed: 0          author  \\\n",
              "0           0       ADNNELSTR   \n",
              "1           1  ATLANTA_ONLINE   \n",
              "2           2     ANTONHAYHAY   \n",
              "3           3   AMELIEBALDWIN   \n",
              "4           4   AMELIEBALDWIN   \n",
              "\n",
              "                                             content         region language  \\\n",
              "0  The empty podium says it all. The Marxists are...        Unknown  English   \n",
              "1  Dust in your house may have toxic chemicals, s...  United States  English   \n",
              "2  singers Get 1 million soundcloud plays for $45...  United States  English   \n",
              "3  .@JohnsonHildy may be on to something about th...  United States  English   \n",
              "4  .@ViolaDavis just made #Oscars history, and it...  United States  English   \n",
              "\n",
              "      publish_date  following  followers post_type account_type  retweet  \\\n",
              "0  8/13/2017 21:00        946         83       NaN        Right        0   \n",
              "1   9/15/2016 3:34       7825      17383       NaN        local        0   \n",
              "2   3/3/2017 20:41        303        711   RETWEET         Left        1   \n",
              "3   2/23/2017 2:05       2322       2743   RETWEET        Right        1   \n",
              "4   1/25/2017 9:36       2340       2726   RETWEET        Right        1   \n",
              "\n",
              "  account_category            tweet_id  \\\n",
              "0       RightTroll  896838937028775937   \n",
              "1         NewsFeed  776262908388839424   \n",
              "2        LeftTroll  837764807826763781   \n",
              "3       RightTroll  834584872111001601   \n",
              "4       RightTroll  824189182897754117   \n",
              "\n",
              "                                         article_url  \\\n",
              "0  http://twitter.com/893370639309996032/statuses...   \n",
              "1  http://twitter.com/Atlanta_Online/statuses/776...   \n",
              "2  http://twitter.com/1652262638/statuses/8377648...   \n",
              "3  http://twitter.com/1679279490/statuses/8345848...   \n",
              "4  http://twitter.com/1679279490/statuses/8241891...   \n",
              "\n",
              "                                          tco1_step1              tco2_step1  \\\n",
              "0  https://twitter.com/i/web/status/8968383433838...                     NaN   \n",
              "1                          http://on-ajc.com/2coKeyO                     NaN   \n",
              "2  https://twitter.com/jayceodpromoter/status/837...   http://bit.ly/2m4KZPJ   \n",
              "3  http://www.washingtonexaminer.com/james-okeefe...                     NaN   \n",
              "4  https://twitter.com/hellogiggles/status/824184...  http://trib.al/adflVAC   \n",
              "\n",
              "  tco3_step1  \n",
              "0        NaN  \n",
              "1        NaN  \n",
              "2        NaN  \n",
              "3        NaN  \n",
              "4        NaN  "
            ]
          },
          "metadata": {
            "tags": []
          },
          "execution_count": 2
        }
      ]
    },
    {
      "cell_type": "code",
      "metadata": {
        "id": "9taonCGKiuNT",
        "outputId": "36c0f8fc-2538-4b65-ad4f-912af5633867"
      },
      "source": [
        "data.info()"
      ],
      "execution_count": null,
      "outputs": [
        {
          "output_type": "stream",
          "text": [
            "<class 'pandas.core.frame.DataFrame'>\n",
            "RangeIndex: 47708 entries, 0 to 47707\n",
            "Data columns (total 17 columns):\n",
            " #   Column            Non-Null Count  Dtype \n",
            "---  ------            --------------  ----- \n",
            " 0   Unnamed: 0        47708 non-null  int64 \n",
            " 1   author            47708 non-null  object\n",
            " 2   content           47708 non-null  object\n",
            " 3   region            47704 non-null  object\n",
            " 4   language          47708 non-null  object\n",
            " 5   publish_date      47708 non-null  object\n",
            " 6   following         47708 non-null  int64 \n",
            " 7   followers         47708 non-null  int64 \n",
            " 8   post_type         26525 non-null  object\n",
            " 9   account_type      47708 non-null  object\n",
            " 10  retweet           47708 non-null  int64 \n",
            " 11  account_category  47708 non-null  object\n",
            " 12  tweet_id          47708 non-null  int64 \n",
            " 13  article_url       47708 non-null  object\n",
            " 14  tco1_step1        33206 non-null  object\n",
            " 15  tco2_step1        12505 non-null  object\n",
            " 16  tco3_step1        657 non-null    object\n",
            "dtypes: int64(5), object(12)\n",
            "memory usage: 6.2+ MB\n"
          ],
          "name": "stdout"
        }
      ]
    },
    {
      "cell_type": "code",
      "metadata": {
        "id": "8epuPTkpiuNU",
        "outputId": "65ee49f3-641e-47ca-ea15-40376f49f201"
      },
      "source": [
        "data.describe()"
      ],
      "execution_count": null,
      "outputs": [
        {
          "output_type": "execute_result",
          "data": {
            "text/html": [
              "<div>\n",
              "<style scoped>\n",
              "    .dataframe tbody tr th:only-of-type {\n",
              "        vertical-align: middle;\n",
              "    }\n",
              "\n",
              "    .dataframe tbody tr th {\n",
              "        vertical-align: top;\n",
              "    }\n",
              "\n",
              "    .dataframe thead th {\n",
              "        text-align: right;\n",
              "    }\n",
              "</style>\n",
              "<table border=\"1\" class=\"dataframe\">\n",
              "  <thead>\n",
              "    <tr style=\"text-align: right;\">\n",
              "      <th></th>\n",
              "      <th>Unnamed: 0</th>\n",
              "      <th>following</th>\n",
              "      <th>followers</th>\n",
              "      <th>retweet</th>\n",
              "      <th>tweet_id</th>\n",
              "    </tr>\n",
              "  </thead>\n",
              "  <tbody>\n",
              "    <tr>\n",
              "      <th>count</th>\n",
              "      <td>47708.000000</td>\n",
              "      <td>47708.000000</td>\n",
              "      <td>47708.000000</td>\n",
              "      <td>47708.000000</td>\n",
              "      <td>4.770800e+04</td>\n",
              "    </tr>\n",
              "    <tr>\n",
              "      <th>mean</th>\n",
              "      <td>23891.726147</td>\n",
              "      <td>2344.277165</td>\n",
              "      <td>2638.366458</td>\n",
              "      <td>0.555986</td>\n",
              "      <td>7.978748e+17</td>\n",
              "    </tr>\n",
              "    <tr>\n",
              "      <th>std</th>\n",
              "      <td>13793.786237</td>\n",
              "      <td>4025.477360</td>\n",
              "      <td>5265.855312</td>\n",
              "      <td>0.496861</td>\n",
              "      <td>9.578155e+16</td>\n",
              "    </tr>\n",
              "    <tr>\n",
              "      <th>min</th>\n",
              "      <td>0.000000</td>\n",
              "      <td>0.000000</td>\n",
              "      <td>0.000000</td>\n",
              "      <td>0.000000</td>\n",
              "      <td>5.380197e+17</td>\n",
              "    </tr>\n",
              "    <tr>\n",
              "      <th>25%</th>\n",
              "      <td>11945.750000</td>\n",
              "      <td>68.000000</td>\n",
              "      <td>133.000000</td>\n",
              "      <td>0.000000</td>\n",
              "      <td>7.430890e+17</td>\n",
              "    </tr>\n",
              "    <tr>\n",
              "      <th>50%</th>\n",
              "      <td>23890.500000</td>\n",
              "      <td>1008.000000</td>\n",
              "      <td>741.000000</td>\n",
              "      <td>1.000000</td>\n",
              "      <td>8.161280e+17</td>\n",
              "    </tr>\n",
              "    <tr>\n",
              "      <th>75%</th>\n",
              "      <td>35837.250000</td>\n",
              "      <td>2334.000000</td>\n",
              "      <td>2467.000000</td>\n",
              "      <td>1.000000</td>\n",
              "      <td>8.946932e+17</td>\n",
              "    </tr>\n",
              "    <tr>\n",
              "      <th>max</th>\n",
              "      <td>47786.000000</td>\n",
              "      <td>21843.000000</td>\n",
              "      <td>23890.000000</td>\n",
              "      <td>1.000000</td>\n",
              "      <td>9.761708e+17</td>\n",
              "    </tr>\n",
              "  </tbody>\n",
              "</table>\n",
              "</div>"
            ],
            "text/plain": [
              "         Unnamed: 0     following     followers       retweet      tweet_id\n",
              "count  47708.000000  47708.000000  47708.000000  47708.000000  4.770800e+04\n",
              "mean   23891.726147   2344.277165   2638.366458      0.555986  7.978748e+17\n",
              "std    13793.786237   4025.477360   5265.855312      0.496861  9.578155e+16\n",
              "min        0.000000      0.000000      0.000000      0.000000  5.380197e+17\n",
              "25%    11945.750000     68.000000    133.000000      0.000000  7.430890e+17\n",
              "50%    23890.500000   1008.000000    741.000000      1.000000  8.161280e+17\n",
              "75%    35837.250000   2334.000000   2467.000000      1.000000  8.946932e+17\n",
              "max    47786.000000  21843.000000  23890.000000      1.000000  9.761708e+17"
            ]
          },
          "metadata": {
            "tags": []
          },
          "execution_count": 4
        }
      ]
    },
    {
      "cell_type": "code",
      "metadata": {
        "id": "dKpO578AiuNV",
        "outputId": "67b6f9b4-95b0-4700-ae42-7dd163caa061"
      },
      "source": [
        "data['post_type'].value_counts()"
      ],
      "execution_count": null,
      "outputs": [
        {
          "output_type": "execute_result",
          "data": {
            "text/plain": [
              "RETWEET        25549\n",
              "QUOTE_TWEET      976\n",
              "Name: post_type, dtype: int64"
            ]
          },
          "metadata": {
            "tags": []
          },
          "execution_count": 5
        }
      ]
    },
    {
      "cell_type": "code",
      "metadata": {
        "id": "-LCh9OeFiuNW",
        "outputId": "58ea5564-c84e-4583-f77c-f8c23ad937ba"
      },
      "source": [
        "data.columns.values[0] = \"id\"\n",
        "data.head()"
      ],
      "execution_count": null,
      "outputs": [
        {
          "output_type": "execute_result",
          "data": {
            "text/html": [
              "<div>\n",
              "<style scoped>\n",
              "    .dataframe tbody tr th:only-of-type {\n",
              "        vertical-align: middle;\n",
              "    }\n",
              "\n",
              "    .dataframe tbody tr th {\n",
              "        vertical-align: top;\n",
              "    }\n",
              "\n",
              "    .dataframe thead th {\n",
              "        text-align: right;\n",
              "    }\n",
              "</style>\n",
              "<table border=\"1\" class=\"dataframe\">\n",
              "  <thead>\n",
              "    <tr style=\"text-align: right;\">\n",
              "      <th></th>\n",
              "      <th>id</th>\n",
              "      <th>author</th>\n",
              "      <th>content</th>\n",
              "      <th>region</th>\n",
              "      <th>language</th>\n",
              "      <th>publish_date</th>\n",
              "      <th>following</th>\n",
              "      <th>followers</th>\n",
              "      <th>post_type</th>\n",
              "      <th>account_type</th>\n",
              "      <th>retweet</th>\n",
              "      <th>account_category</th>\n",
              "      <th>tweet_id</th>\n",
              "      <th>article_url</th>\n",
              "      <th>tco1_step1</th>\n",
              "      <th>tco2_step1</th>\n",
              "      <th>tco3_step1</th>\n",
              "    </tr>\n",
              "  </thead>\n",
              "  <tbody>\n",
              "    <tr>\n",
              "      <th>0</th>\n",
              "      <td>0</td>\n",
              "      <td>ADNNELSTR</td>\n",
              "      <td>The empty podium says it all. The Marxists are...</td>\n",
              "      <td>Unknown</td>\n",
              "      <td>English</td>\n",
              "      <td>8/13/2017 21:00</td>\n",
              "      <td>946</td>\n",
              "      <td>83</td>\n",
              "      <td>NaN</td>\n",
              "      <td>Right</td>\n",
              "      <td>0</td>\n",
              "      <td>RightTroll</td>\n",
              "      <td>896838937028775937</td>\n",
              "      <td>http://twitter.com/893370639309996032/statuses...</td>\n",
              "      <td>https://twitter.com/i/web/status/8968383433838...</td>\n",
              "      <td>NaN</td>\n",
              "      <td>NaN</td>\n",
              "    </tr>\n",
              "    <tr>\n",
              "      <th>1</th>\n",
              "      <td>1</td>\n",
              "      <td>ATLANTA_ONLINE</td>\n",
              "      <td>Dust in your house may have toxic chemicals, s...</td>\n",
              "      <td>United States</td>\n",
              "      <td>English</td>\n",
              "      <td>9/15/2016 3:34</td>\n",
              "      <td>7825</td>\n",
              "      <td>17383</td>\n",
              "      <td>NaN</td>\n",
              "      <td>local</td>\n",
              "      <td>0</td>\n",
              "      <td>NewsFeed</td>\n",
              "      <td>776262908388839424</td>\n",
              "      <td>http://twitter.com/Atlanta_Online/statuses/776...</td>\n",
              "      <td>http://on-ajc.com/2coKeyO</td>\n",
              "      <td>NaN</td>\n",
              "      <td>NaN</td>\n",
              "    </tr>\n",
              "    <tr>\n",
              "      <th>2</th>\n",
              "      <td>2</td>\n",
              "      <td>ANTONHAYHAY</td>\n",
              "      <td>singers Get 1 million soundcloud plays for $45...</td>\n",
              "      <td>United States</td>\n",
              "      <td>English</td>\n",
              "      <td>3/3/2017 20:41</td>\n",
              "      <td>303</td>\n",
              "      <td>711</td>\n",
              "      <td>RETWEET</td>\n",
              "      <td>Left</td>\n",
              "      <td>1</td>\n",
              "      <td>LeftTroll</td>\n",
              "      <td>837764807826763781</td>\n",
              "      <td>http://twitter.com/1652262638/statuses/8377648...</td>\n",
              "      <td>https://twitter.com/jayceodpromoter/status/837...</td>\n",
              "      <td>http://bit.ly/2m4KZPJ</td>\n",
              "      <td>NaN</td>\n",
              "    </tr>\n",
              "    <tr>\n",
              "      <th>3</th>\n",
              "      <td>3</td>\n",
              "      <td>AMELIEBALDWIN</td>\n",
              "      <td>.@JohnsonHildy may be on to something about th...</td>\n",
              "      <td>United States</td>\n",
              "      <td>English</td>\n",
              "      <td>2/23/2017 2:05</td>\n",
              "      <td>2322</td>\n",
              "      <td>2743</td>\n",
              "      <td>RETWEET</td>\n",
              "      <td>Right</td>\n",
              "      <td>1</td>\n",
              "      <td>RightTroll</td>\n",
              "      <td>834584872111001601</td>\n",
              "      <td>http://twitter.com/1679279490/statuses/8345848...</td>\n",
              "      <td>http://www.washingtonexaminer.com/james-okeefe...</td>\n",
              "      <td>NaN</td>\n",
              "      <td>NaN</td>\n",
              "    </tr>\n",
              "    <tr>\n",
              "      <th>4</th>\n",
              "      <td>4</td>\n",
              "      <td>AMELIEBALDWIN</td>\n",
              "      <td>.@ViolaDavis just made #Oscars history, and it...</td>\n",
              "      <td>United States</td>\n",
              "      <td>English</td>\n",
              "      <td>1/25/2017 9:36</td>\n",
              "      <td>2340</td>\n",
              "      <td>2726</td>\n",
              "      <td>RETWEET</td>\n",
              "      <td>Right</td>\n",
              "      <td>1</td>\n",
              "      <td>RightTroll</td>\n",
              "      <td>824189182897754117</td>\n",
              "      <td>http://twitter.com/1679279490/statuses/8241891...</td>\n",
              "      <td>https://twitter.com/hellogiggles/status/824184...</td>\n",
              "      <td>http://trib.al/adflVAC</td>\n",
              "      <td>NaN</td>\n",
              "    </tr>\n",
              "  </tbody>\n",
              "</table>\n",
              "</div>"
            ],
            "text/plain": [
              "   id          author                                            content  \\\n",
              "0   0       ADNNELSTR  The empty podium says it all. The Marxists are...   \n",
              "1   1  ATLANTA_ONLINE  Dust in your house may have toxic chemicals, s...   \n",
              "2   2     ANTONHAYHAY  singers Get 1 million soundcloud plays for $45...   \n",
              "3   3   AMELIEBALDWIN  .@JohnsonHildy may be on to something about th...   \n",
              "4   4   AMELIEBALDWIN  .@ViolaDavis just made #Oscars history, and it...   \n",
              "\n",
              "          region language     publish_date  following  followers post_type  \\\n",
              "0        Unknown  English  8/13/2017 21:00        946         83       NaN   \n",
              "1  United States  English   9/15/2016 3:34       7825      17383       NaN   \n",
              "2  United States  English   3/3/2017 20:41        303        711   RETWEET   \n",
              "3  United States  English   2/23/2017 2:05       2322       2743   RETWEET   \n",
              "4  United States  English   1/25/2017 9:36       2340       2726   RETWEET   \n",
              "\n",
              "  account_type  retweet account_category            tweet_id  \\\n",
              "0        Right        0       RightTroll  896838937028775937   \n",
              "1        local        0         NewsFeed  776262908388839424   \n",
              "2         Left        1        LeftTroll  837764807826763781   \n",
              "3        Right        1       RightTroll  834584872111001601   \n",
              "4        Right        1       RightTroll  824189182897754117   \n",
              "\n",
              "                                         article_url  \\\n",
              "0  http://twitter.com/893370639309996032/statuses...   \n",
              "1  http://twitter.com/Atlanta_Online/statuses/776...   \n",
              "2  http://twitter.com/1652262638/statuses/8377648...   \n",
              "3  http://twitter.com/1679279490/statuses/8345848...   \n",
              "4  http://twitter.com/1679279490/statuses/8241891...   \n",
              "\n",
              "                                          tco1_step1              tco2_step1  \\\n",
              "0  https://twitter.com/i/web/status/8968383433838...                     NaN   \n",
              "1                          http://on-ajc.com/2coKeyO                     NaN   \n",
              "2  https://twitter.com/jayceodpromoter/status/837...   http://bit.ly/2m4KZPJ   \n",
              "3  http://www.washingtonexaminer.com/james-okeefe...                     NaN   \n",
              "4  https://twitter.com/hellogiggles/status/824184...  http://trib.al/adflVAC   \n",
              "\n",
              "  tco3_step1  \n",
              "0        NaN  \n",
              "1        NaN  \n",
              "2        NaN  \n",
              "3        NaN  \n",
              "4        NaN  "
            ]
          },
          "metadata": {
            "tags": []
          },
          "execution_count": 6
        }
      ]
    },
    {
      "cell_type": "code",
      "metadata": {
        "id": "fsHf4nueiuNX",
        "outputId": "5839f399-a1da-4b28-d076-4009b3da1502"
      },
      "source": [
        "#These are normal original tweets, not retweets, not quoted tweets\n",
        "data['post_type'].fillna('TWEET', inplace=True)\n",
        "data.head()"
      ],
      "execution_count": null,
      "outputs": [
        {
          "output_type": "execute_result",
          "data": {
            "text/html": [
              "<div>\n",
              "<style scoped>\n",
              "    .dataframe tbody tr th:only-of-type {\n",
              "        vertical-align: middle;\n",
              "    }\n",
              "\n",
              "    .dataframe tbody tr th {\n",
              "        vertical-align: top;\n",
              "    }\n",
              "\n",
              "    .dataframe thead th {\n",
              "        text-align: right;\n",
              "    }\n",
              "</style>\n",
              "<table border=\"1\" class=\"dataframe\">\n",
              "  <thead>\n",
              "    <tr style=\"text-align: right;\">\n",
              "      <th></th>\n",
              "      <th>id</th>\n",
              "      <th>author</th>\n",
              "      <th>content</th>\n",
              "      <th>region</th>\n",
              "      <th>language</th>\n",
              "      <th>publish_date</th>\n",
              "      <th>following</th>\n",
              "      <th>followers</th>\n",
              "      <th>post_type</th>\n",
              "      <th>account_type</th>\n",
              "      <th>retweet</th>\n",
              "      <th>account_category</th>\n",
              "      <th>tweet_id</th>\n",
              "      <th>article_url</th>\n",
              "      <th>tco1_step1</th>\n",
              "      <th>tco2_step1</th>\n",
              "      <th>tco3_step1</th>\n",
              "    </tr>\n",
              "  </thead>\n",
              "  <tbody>\n",
              "    <tr>\n",
              "      <th>0</th>\n",
              "      <td>0</td>\n",
              "      <td>ADNNELSTR</td>\n",
              "      <td>The empty podium says it all. The Marxists are...</td>\n",
              "      <td>Unknown</td>\n",
              "      <td>English</td>\n",
              "      <td>8/13/2017 21:00</td>\n",
              "      <td>946</td>\n",
              "      <td>83</td>\n",
              "      <td>TWEET</td>\n",
              "      <td>Right</td>\n",
              "      <td>0</td>\n",
              "      <td>RightTroll</td>\n",
              "      <td>896838937028775937</td>\n",
              "      <td>http://twitter.com/893370639309996032/statuses...</td>\n",
              "      <td>https://twitter.com/i/web/status/8968383433838...</td>\n",
              "      <td>NaN</td>\n",
              "      <td>NaN</td>\n",
              "    </tr>\n",
              "    <tr>\n",
              "      <th>1</th>\n",
              "      <td>1</td>\n",
              "      <td>ATLANTA_ONLINE</td>\n",
              "      <td>Dust in your house may have toxic chemicals, s...</td>\n",
              "      <td>United States</td>\n",
              "      <td>English</td>\n",
              "      <td>9/15/2016 3:34</td>\n",
              "      <td>7825</td>\n",
              "      <td>17383</td>\n",
              "      <td>TWEET</td>\n",
              "      <td>local</td>\n",
              "      <td>0</td>\n",
              "      <td>NewsFeed</td>\n",
              "      <td>776262908388839424</td>\n",
              "      <td>http://twitter.com/Atlanta_Online/statuses/776...</td>\n",
              "      <td>http://on-ajc.com/2coKeyO</td>\n",
              "      <td>NaN</td>\n",
              "      <td>NaN</td>\n",
              "    </tr>\n",
              "    <tr>\n",
              "      <th>2</th>\n",
              "      <td>2</td>\n",
              "      <td>ANTONHAYHAY</td>\n",
              "      <td>singers Get 1 million soundcloud plays for $45...</td>\n",
              "      <td>United States</td>\n",
              "      <td>English</td>\n",
              "      <td>3/3/2017 20:41</td>\n",
              "      <td>303</td>\n",
              "      <td>711</td>\n",
              "      <td>RETWEET</td>\n",
              "      <td>Left</td>\n",
              "      <td>1</td>\n",
              "      <td>LeftTroll</td>\n",
              "      <td>837764807826763781</td>\n",
              "      <td>http://twitter.com/1652262638/statuses/8377648...</td>\n",
              "      <td>https://twitter.com/jayceodpromoter/status/837...</td>\n",
              "      <td>http://bit.ly/2m4KZPJ</td>\n",
              "      <td>NaN</td>\n",
              "    </tr>\n",
              "    <tr>\n",
              "      <th>3</th>\n",
              "      <td>3</td>\n",
              "      <td>AMELIEBALDWIN</td>\n",
              "      <td>.@JohnsonHildy may be on to something about th...</td>\n",
              "      <td>United States</td>\n",
              "      <td>English</td>\n",
              "      <td>2/23/2017 2:05</td>\n",
              "      <td>2322</td>\n",
              "      <td>2743</td>\n",
              "      <td>RETWEET</td>\n",
              "      <td>Right</td>\n",
              "      <td>1</td>\n",
              "      <td>RightTroll</td>\n",
              "      <td>834584872111001601</td>\n",
              "      <td>http://twitter.com/1679279490/statuses/8345848...</td>\n",
              "      <td>http://www.washingtonexaminer.com/james-okeefe...</td>\n",
              "      <td>NaN</td>\n",
              "      <td>NaN</td>\n",
              "    </tr>\n",
              "    <tr>\n",
              "      <th>4</th>\n",
              "      <td>4</td>\n",
              "      <td>AMELIEBALDWIN</td>\n",
              "      <td>.@ViolaDavis just made #Oscars history, and it...</td>\n",
              "      <td>United States</td>\n",
              "      <td>English</td>\n",
              "      <td>1/25/2017 9:36</td>\n",
              "      <td>2340</td>\n",
              "      <td>2726</td>\n",
              "      <td>RETWEET</td>\n",
              "      <td>Right</td>\n",
              "      <td>1</td>\n",
              "      <td>RightTroll</td>\n",
              "      <td>824189182897754117</td>\n",
              "      <td>http://twitter.com/1679279490/statuses/8241891...</td>\n",
              "      <td>https://twitter.com/hellogiggles/status/824184...</td>\n",
              "      <td>http://trib.al/adflVAC</td>\n",
              "      <td>NaN</td>\n",
              "    </tr>\n",
              "  </tbody>\n",
              "</table>\n",
              "</div>"
            ],
            "text/plain": [
              "   id          author                                            content  \\\n",
              "0   0       ADNNELSTR  The empty podium says it all. The Marxists are...   \n",
              "1   1  ATLANTA_ONLINE  Dust in your house may have toxic chemicals, s...   \n",
              "2   2     ANTONHAYHAY  singers Get 1 million soundcloud plays for $45...   \n",
              "3   3   AMELIEBALDWIN  .@JohnsonHildy may be on to something about th...   \n",
              "4   4   AMELIEBALDWIN  .@ViolaDavis just made #Oscars history, and it...   \n",
              "\n",
              "          region language     publish_date  following  followers post_type  \\\n",
              "0        Unknown  English  8/13/2017 21:00        946         83     TWEET   \n",
              "1  United States  English   9/15/2016 3:34       7825      17383     TWEET   \n",
              "2  United States  English   3/3/2017 20:41        303        711   RETWEET   \n",
              "3  United States  English   2/23/2017 2:05       2322       2743   RETWEET   \n",
              "4  United States  English   1/25/2017 9:36       2340       2726   RETWEET   \n",
              "\n",
              "  account_type  retweet account_category            tweet_id  \\\n",
              "0        Right        0       RightTroll  896838937028775937   \n",
              "1        local        0         NewsFeed  776262908388839424   \n",
              "2         Left        1        LeftTroll  837764807826763781   \n",
              "3        Right        1       RightTroll  834584872111001601   \n",
              "4        Right        1       RightTroll  824189182897754117   \n",
              "\n",
              "                                         article_url  \\\n",
              "0  http://twitter.com/893370639309996032/statuses...   \n",
              "1  http://twitter.com/Atlanta_Online/statuses/776...   \n",
              "2  http://twitter.com/1652262638/statuses/8377648...   \n",
              "3  http://twitter.com/1679279490/statuses/8345848...   \n",
              "4  http://twitter.com/1679279490/statuses/8241891...   \n",
              "\n",
              "                                          tco1_step1              tco2_step1  \\\n",
              "0  https://twitter.com/i/web/status/8968383433838...                     NaN   \n",
              "1                          http://on-ajc.com/2coKeyO                     NaN   \n",
              "2  https://twitter.com/jayceodpromoter/status/837...   http://bit.ly/2m4KZPJ   \n",
              "3  http://www.washingtonexaminer.com/james-okeefe...                     NaN   \n",
              "4  https://twitter.com/hellogiggles/status/824184...  http://trib.al/adflVAC   \n",
              "\n",
              "  tco3_step1  \n",
              "0        NaN  \n",
              "1        NaN  \n",
              "2        NaN  \n",
              "3        NaN  \n",
              "4        NaN  "
            ]
          },
          "metadata": {
            "tags": []
          },
          "execution_count": 7
        }
      ]
    },
    {
      "cell_type": "code",
      "metadata": {
        "id": "Z78PJSkTiuNY",
        "outputId": "729d72ee-ef42-4d80-b4c9-4420739dff39"
      },
      "source": [
        "sns.pairplot(data[['following','followers']])"
      ],
      "execution_count": null,
      "outputs": [
        {
          "output_type": "execute_result",
          "data": {
            "text/plain": [
              "<seaborn.axisgrid.PairGrid at 0x21cc9a811c0>"
            ]
          },
          "metadata": {
            "tags": []
          },
          "execution_count": 8
        },
        {
          "output_type": "display_data",
          "data": {
            "image/png": "[encoded data removed]",
            "text/plain": [
              "<Figure size 360x360 with 6 Axes>"
            ]
          },
          "metadata": {
            "tags": [],
            "needs_background": "light"
          }
        }
      ]
    },
    {
      "cell_type": "code",
      "metadata": {
        "id": "J3rfJVBTiuNY"
      },
      "source": [
        "corrl = data[['following','followers']].corr()"
      ],
      "execution_count": null,
      "outputs": []
    },
    {
      "cell_type": "code",
      "metadata": {
        "id": "2jp3sb0_iuNZ",
        "outputId": "9cd19829-5ccb-4a27-d184-5a76012f4cde"
      },
      "source": [
        "sns.heatmap(corrl, annot=True)"
      ],
      "execution_count": null,
      "outputs": [
        {
          "output_type": "execute_result",
          "data": {
            "text/plain": [
              "<AxesSubplot:>"
            ]
          },
          "metadata": {
            "tags": []
          },
          "execution_count": 10
        },
        {
          "output_type": "display_data",
          "data": {
            "image/png": "[encoded data removed]",
            "text/plain": [
              "<Figure size 432x288 with 2 Axes>"
            ]
          },
          "metadata": {
            "tags": [],
            "needs_background": "light"
          }
        }
      ]
    },
    {
      "cell_type": "code",
      "metadata": {
        "id": "fn-k0xi1iuNZ"
      },
      "source": [
        "num_per_user = [np.sum(data['author'] == x) for x in data['author'].unique()]"
      ],
      "execution_count": null,
      "outputs": []
    },
    {
      "cell_type": "code",
      "metadata": {
        "id": "px20IbtWiuNa"
      },
      "source": [
        "indices = np.argsort(-np.array(num_per_user))"
      ],
      "execution_count": null,
      "outputs": []
    },
    {
      "cell_type": "code",
      "metadata": {
        "id": "EiuidkV4iuNa"
      },
      "source": [
        "idx_list = indices[(np.array(num_per_user)[indices] > 400) & (np.array(num_per_user)[indices] < 700)]"
      ],
      "execution_count": null,
      "outputs": []
    },
    {
      "cell_type": "code",
      "metadata": {
        "id": "LE9X8VFKiuNb",
        "outputId": "2774bf94-e7cd-4b88-b2c2-6384780ea540"
      },
      "source": [
        "data['author'].unique()[idx_list]"
      ],
      "execution_count": null,
      "outputs": [
        {
          "output_type": "execute_result",
          "data": {
            "text/plain": [
              "array(['ANAAISLEC', 'ARCHIEOLIVERS', 'ARABMTR', 'ADRGREERR',\n",
              "       'ANDYDREWDANIELS', 'ARTEMSSFE', 'ABIGAILSSILK'], dtype=object)"
            ]
          },
          "metadata": {
            "tags": []
          },
          "execution_count": 14
        }
      ]
    },
    {
      "cell_type": "markdown",
      "metadata": {
        "id": "GXqWJGLsiuNb"
      },
      "source": [
        "class Tweet:\n",
        "    def __init__(self, csv_dict):\n",
        "        self.author = csv_dict.get(\"author\")\n",
        "        self.content = csv_dict.get(\"content\")\n",
        "        self.region = csv_dict.get(\"region\")\n",
        "        self.language = csv_dict.get(\"language\")\n",
        "        self.publish_date = csv_dict.get(\"publish_date\")\n",
        "        self.following = csv_dict.get(\"following\")\n",
        "        self.followers = csv_dict.get(\"followers\")\n",
        "        self.post_type = csv_dict.get(\"post_type\")\n",
        "        self.account_type = csv_dict.get(\"account_type\")\n",
        "        self.retweet = csv_dict.get(\"retweet\")\n",
        "        self.account_category = csv_dict.get(\"account_category\")\n",
        "        self.tweet_id = csv_dict.get(\"tweet_id\")\n",
        "        self.article_url = csv_dict.get(\"article_url\")\n",
        "        self.tco1_step1 = csv_dict.get(\"tco1_step1\")\n",
        "        self.tco2_step1 = csv_dict.get(\"tco2_step1\")\n",
        "        self.tco3_step1 = csv_dict.get(\"tco3_step1\")"
      ]
    },
    {
      "cell_type": "markdown",
      "metadata": {
        "id": "D7Kgw0lKiuNc"
      },
      "source": [
        "tweets = [Tweet(tweet) for tweet in data]"
      ]
    },
    {
      "cell_type": "code",
      "metadata": {
        "id": "A0Yf2ue6iuNc"
      },
      "source": [
        "from collections import Counter\n",
        "languages = Counter([t for t in data['language']])"
      ],
      "execution_count": null,
      "outputs": []
    },
    {
      "cell_type": "code",
      "metadata": {
        "id": "4_ujo-F4iuNd",
        "outputId": "c8e3c595-cca3-414c-90c1-1f7b8661e1d7"
      },
      "source": [
        "languages"
      ],
      "execution_count": null,
      "outputs": [
        {
          "output_type": "execute_result",
          "data": {
            "text/plain": [
              "Counter({'English': 47016,\n",
              "         'Italian': 65,\n",
              "         'Vietnamese': 22,\n",
              "         'Spanish': 72,\n",
              "         'Croatian': 11,\n",
              "         'Hindi': 6,\n",
              "         'French': 138,\n",
              "         'Dutch': 30,\n",
              "         'Estonian': 24,\n",
              "         'Farsi (Persian)': 30,\n",
              "         'Arabic': 21,\n",
              "         'Catalan': 14,\n",
              "         'Romanian': 29,\n",
              "         'Japanese': 15,\n",
              "         'German': 36,\n",
              "         'Albanian': 9,\n",
              "         'Uzbek': 6,\n",
              "         'Somali': 7,\n",
              "         'Norwegian': 29,\n",
              "         'Malay': 4,\n",
              "         'LANGUAGE UNDEFINED': 9,\n",
              "         'Turkish': 13,\n",
              "         'Swedish': 10,\n",
              "         'Finnish': 6,\n",
              "         'Icelandic': 8,\n",
              "         'Tagalog (Filipino)': 6,\n",
              "         'Portuguese': 19,\n",
              "         'Polish': 8,\n",
              "         'Pushto': 7,\n",
              "         'Latvian': 5,\n",
              "         'Lithuanian': 1,\n",
              "         'Indonesian': 4,\n",
              "         'Hungarian': 4,\n",
              "         'Slovak': 3,\n",
              "         'Hebrew': 3,\n",
              "         'Greek': 4,\n",
              "         'Russian': 4,\n",
              "         'Kurdish': 1,\n",
              "         'Ukrainian': 3,\n",
              "         'Danish': 2,\n",
              "         'Slovenian': 1,\n",
              "         'Urdu': 2,\n",
              "         'Serbian': 1})"
            ]
          },
          "metadata": {
            "tags": []
          },
          "execution_count": 16
        }
      ]
    },
    {
      "cell_type": "code",
      "metadata": {
        "id": "AsSxqCWTiuNd",
        "outputId": "c4d2597c-1ad9-4c62-b219-bf1b214a6f15"
      },
      "source": [
        "print(f\"\\nTotal languages used: {len(languages.keys())}\")"
      ],
      "execution_count": null,
      "outputs": [
        {
          "output_type": "stream",
          "text": [
            "\n",
            "Total languages used: 43\n"
          ],
          "name": "stdout"
        }
      ]
    },
    {
      "cell_type": "code",
      "metadata": {
        "id": "DjXsIXZAiuNe",
        "outputId": "88c57707-3847-4e5d-8689-d5459db9d38e"
      },
      "source": [
        "languages_to_plot = 6\n",
        "most_common_languages = languages.most_common(languages_to_plot)\n",
        "language, count = zip(*most_common_languages)\n",
        "figure, axes = plt.subplots()\n",
        "axes.bar(language, count)\n",
        "plt.title(\"Languages Used in Tweets\")\n",
        "plt.xlabel(\"Language\")\n",
        "plt.ylabel(\"Number of Tweets\")\n",
        "for i, v in enumerate(count):  # Used to plot values onto bars; centering imperfect\n",
        "    plt.text(i - 0.25, v + (max(count) * 0.01), str(v))\n",
        "plt.show()"
      ],
      "execution_count": null,
      "outputs": [
        {
          "output_type": "display_data",
          "data": {
            "image/png": "[encoded data removed]",
            "text/plain": [
              "<Figure size 432x288 with 1 Axes>"
            ]
          },
          "metadata": {
            "tags": [],
            "needs_background": "light"
          }
        }
      ]
    },
    {
      "cell_type": "code",
      "metadata": {
        "id": "iDtllwhTiuNe",
        "outputId": "0dabeafc-7fe6-4eb9-d476-2a0815f99df0"
      },
      "source": [
        "categories = Counter([t for t in data['account_category']])\n",
        "categories"
      ],
      "execution_count": null,
      "outputs": [
        {
          "output_type": "execute_result",
          "data": {
            "text/plain": [
              "Counter({'RightTroll': 28789,\n",
              "         'NewsFeed': 2711,\n",
              "         'LeftTroll': 9036,\n",
              "         'HashtagGamer': 6929,\n",
              "         'Unknown': 148,\n",
              "         'Fearmonger': 95})"
            ]
          },
          "metadata": {
            "tags": []
          },
          "execution_count": 19
        }
      ]
    },
    {
      "cell_type": "code",
      "metadata": {
        "id": "lgT3gCgIiuNf",
        "outputId": "4c66470f-3192-4dec-a8a9-b4baf69870d5"
      },
      "source": [
        "regions = Counter([t for t in data['region']])\n",
        "regions"
      ],
      "execution_count": null,
      "outputs": [
        {
          "output_type": "execute_result",
          "data": {
            "text/plain": [
              "Counter({'Unknown': 10556,\n",
              "         'United States': 37034,\n",
              "         'United Kingdom': 112,\n",
              "         nan: 4,\n",
              "         'Germany': 2})"
            ]
          },
          "metadata": {
            "tags": []
          },
          "execution_count": 20
        }
      ]
    },
    {
      "cell_type": "code",
      "metadata": {
        "id": "ZxeI206BiuNg"
      },
      "source": [
        "data['region'].fillna('not specified', inplace = True)"
      ],
      "execution_count": null,
      "outputs": []
    },
    {
      "cell_type": "code",
      "metadata": {
        "id": "kUobhfNriuNh",
        "outputId": "d67b92da-4e55-4d46-8b10-bcedb8e5d5a0"
      },
      "source": [
        "sns.countplot(x=\"account_category\", hue=\"region\", data=data)"
      ],
      "execution_count": null,
      "outputs": [
        {
          "output_type": "execute_result",
          "data": {
            "text/plain": [
              "<AxesSubplot:xlabel='account_category', ylabel='count'>"
            ]
          },
          "metadata": {
            "tags": []
          },
          "execution_count": 22
        },
        {
          "output_type": "display_data",
          "data": {
            "image/png": "[encoded data removed]",
            "text/plain": [
              "<Figure size 432x288 with 1 Axes>"
            ]
          },
          "metadata": {
            "tags": [],
            "needs_background": "light"
          }
        }
      ]
    },
    {
      "cell_type": "code",
      "metadata": {
        "id": "kjbpRm26iuNi",
        "outputId": "feede1b5-f5a1-4239-94bb-0eea64cb3fa1"
      },
      "source": [
        "sns.countplot('account_category',data=data)"
      ],
      "execution_count": null,
      "outputs": [
        {
          "output_type": "execute_result",
          "data": {
            "text/plain": [
              "<AxesSubplot:xlabel='account_category', ylabel='count'>"
            ]
          },
          "metadata": {
            "tags": []
          },
          "execution_count": 23
        },
        {
          "output_type": "display_data",
          "data": {
            "image/png": "[encoded data removed]",
            "text/plain": [
              "<Figure size 432x288 with 1 Axes>"
            ]
          },
          "metadata": {
            "tags": [],
            "needs_background": "light"
          }
        }
      ]
    },
    {
      "cell_type": "code",
      "metadata": {
        "id": "w7Z0ewWAiuNp",
        "outputId": "6ba37061-b4c9-499f-dff4-87618c42e7a6"
      },
      "source": [
        "account_type = Counter([t for t in data['account_type']])\n",
        "account_type\n",
        "#The account type is similar to the account categories data column\n",
        "# The values for Right matches Right Troll\n",
        "#Likewise for Left and Left Troll\n",
        "#? and Unknown\n",
        "#Fearmonger and Koch\n",
        "#local and Newsfeed\n",
        "#Hashtager and HashtagGamer"
      ],
      "execution_count": null,
      "outputs": [
        {
          "output_type": "execute_result",
          "data": {
            "text/plain": [
              "Counter({'Right': 28789,\n",
              "         'local': 2711,\n",
              "         'Left': 9036,\n",
              "         'Hashtager': 6929,\n",
              "         '?': 148,\n",
              "         'Koch': 95})"
            ]
          },
          "metadata": {
            "tags": []
          },
          "execution_count": 24
        }
      ]
    },
    {
      "cell_type": "code",
      "metadata": {
        "id": "oXHBUFndiuNp",
        "outputId": "1df7beb8-a7e3-451f-ce90-5c96c4ec3b8c"
      },
      "source": [
        "left_troll_tweet = data[data['account_category'] =='LeftTroll']\n",
        "left_troll_tweet.head()"
      ],
      "execution_count": null,
      "outputs": [
        {
          "output_type": "execute_result",
          "data": {
            "text/html": [
              "<div>\n",
              "<style scoped>\n",
              "    .dataframe tbody tr th:only-of-type {\n",
              "        vertical-align: middle;\n",
              "    }\n",
              "\n",
              "    .dataframe tbody tr th {\n",
              "        vertical-align: top;\n",
              "    }\n",
              "\n",
              "    .dataframe thead th {\n",
              "        text-align: right;\n",
              "    }\n",
              "</style>\n",
              "<table border=\"1\" class=\"dataframe\">\n",
              "  <thead>\n",
              "    <tr style=\"text-align: right;\">\n",
              "      <th></th>\n",
              "      <th>id</th>\n",
              "      <th>author</th>\n",
              "      <th>content</th>\n",
              "      <th>region</th>\n",
              "      <th>language</th>\n",
              "      <th>publish_date</th>\n",
              "      <th>following</th>\n",
              "      <th>followers</th>\n",
              "      <th>post_type</th>\n",
              "      <th>account_type</th>\n",
              "      <th>retweet</th>\n",
              "      <th>account_category</th>\n",
              "      <th>tweet_id</th>\n",
              "      <th>article_url</th>\n",
              "      <th>tco1_step1</th>\n",
              "      <th>tco2_step1</th>\n",
              "      <th>tco3_step1</th>\n",
              "    </tr>\n",
              "  </thead>\n",
              "  <tbody>\n",
              "    <tr>\n",
              "      <th>2</th>\n",
              "      <td>2</td>\n",
              "      <td>ANTONHAYHAY</td>\n",
              "      <td>singers Get 1 million soundcloud plays for $45...</td>\n",
              "      <td>United States</td>\n",
              "      <td>English</td>\n",
              "      <td>3/3/2017 20:41</td>\n",
              "      <td>303</td>\n",
              "      <td>711</td>\n",
              "      <td>RETWEET</td>\n",
              "      <td>Left</td>\n",
              "      <td>1</td>\n",
              "      <td>LeftTroll</td>\n",
              "      <td>837764807826763781</td>\n",
              "      <td>http://twitter.com/1652262638/statuses/8377648...</td>\n",
              "      <td>https://twitter.com/jayceodpromoter/status/837...</td>\n",
              "      <td>http://bit.ly/2m4KZPJ</td>\n",
              "      <td>NaN</td>\n",
              "    </tr>\n",
              "    <tr>\n",
              "      <th>10</th>\n",
              "      <td>10</td>\n",
              "      <td>ANTONHAYHAY</td>\n",
              "      <td>Great promotion Get 1 million #soundcloud play...</td>\n",
              "      <td>United States</td>\n",
              "      <td>English</td>\n",
              "      <td>4/2/2017 19:48</td>\n",
              "      <td>303</td>\n",
              "      <td>739</td>\n",
              "      <td>RETWEET</td>\n",
              "      <td>Left</td>\n",
              "      <td>1</td>\n",
              "      <td>LeftTroll</td>\n",
              "      <td>848623157007319040</td>\n",
              "      <td>http://twitter.com/1652262638/statuses/8486231...</td>\n",
              "      <td>https://twitter.com/jayceodpromoter/status/848...</td>\n",
              "      <td>http://bit.ly/2n231UO</td>\n",
              "      <td>NaN</td>\n",
              "    </tr>\n",
              "    <tr>\n",
              "      <th>14</th>\n",
              "      <td>14</td>\n",
              "      <td>ACEJINEV</td>\n",
              "      <td>'@TheFinalCall @deray @NAACP @100BlackMenDC @B...</td>\n",
              "      <td>United States</td>\n",
              "      <td>English</td>\n",
              "      <td>3/28/2017 3:21</td>\n",
              "      <td>786</td>\n",
              "      <td>912</td>\n",
              "      <td>RETWEET</td>\n",
              "      <td>Left</td>\n",
              "      <td>1</td>\n",
              "      <td>LeftTroll</td>\n",
              "      <td>846562842237157377</td>\n",
              "      <td>http://twitter.com/1652138929/statuses/8465628...</td>\n",
              "      <td>https://twitter.com/Crystal1Johnson/status/846...</td>\n",
              "      <td>NaN</td>\n",
              "      <td>NaN</td>\n",
              "    </tr>\n",
              "    <tr>\n",
              "      <th>15</th>\n",
              "      <td>15</td>\n",
              "      <td>ANTONHAYHAY</td>\n",
              "      <td>good kid - Kendrick Lamar #kendricklamar #hiph...</td>\n",
              "      <td>United States</td>\n",
              "      <td>English</td>\n",
              "      <td>10/9/2016 5:04</td>\n",
              "      <td>311</td>\n",
              "      <td>662</td>\n",
              "      <td>RETWEET</td>\n",
              "      <td>Left</td>\n",
              "      <td>1</td>\n",
              "      <td>LeftTroll</td>\n",
              "      <td>784982950710538240</td>\n",
              "      <td>http://twitter.com/AntonHayHay/statuses/784982...</td>\n",
              "      <td>http://bit.ly/2bwNxz0</td>\n",
              "      <td>NaN</td>\n",
              "      <td>NaN</td>\n",
              "    </tr>\n",
              "    <tr>\n",
              "      <th>17</th>\n",
              "      <td>17</td>\n",
              "      <td>ALECMOOOOODY</td>\n",
              "      <td>Prime Higuain right there. Prime Higuain</td>\n",
              "      <td>United States</td>\n",
              "      <td>English</td>\n",
              "      <td>4/11/2017 20:12</td>\n",
              "      <td>516</td>\n",
              "      <td>901</td>\n",
              "      <td>RETWEET</td>\n",
              "      <td>Left</td>\n",
              "      <td>1</td>\n",
              "      <td>LeftTroll</td>\n",
              "      <td>851890618334892036</td>\n",
              "      <td>http://twitter.com/1652987412/statuses/8518906...</td>\n",
              "      <td>NaN</td>\n",
              "      <td>NaN</td>\n",
              "      <td>NaN</td>\n",
              "    </tr>\n",
              "  </tbody>\n",
              "</table>\n",
              "</div>"
            ],
            "text/plain": [
              "    id        author                                            content  \\\n",
              "2    2   ANTONHAYHAY  singers Get 1 million soundcloud plays for $45...   \n",
              "10  10   ANTONHAYHAY  Great promotion Get 1 million #soundcloud play...   \n",
              "14  14      ACEJINEV  '@TheFinalCall @deray @NAACP @100BlackMenDC @B...   \n",
              "15  15   ANTONHAYHAY  good kid - Kendrick Lamar #kendricklamar #hiph...   \n",
              "17  17  ALECMOOOOODY           Prime Higuain right there. Prime Higuain   \n",
              "\n",
              "           region language     publish_date  following  followers post_type  \\\n",
              "2   United States  English   3/3/2017 20:41        303        711   RETWEET   \n",
              "10  United States  English   4/2/2017 19:48        303        739   RETWEET   \n",
              "14  United States  English   3/28/2017 3:21        786        912   RETWEET   \n",
              "15  United States  English   10/9/2016 5:04        311        662   RETWEET   \n",
              "17  United States  English  4/11/2017 20:12        516        901   RETWEET   \n",
              "\n",
              "   account_type  retweet account_category            tweet_id  \\\n",
              "2          Left        1        LeftTroll  837764807826763781   \n",
              "10         Left        1        LeftTroll  848623157007319040   \n",
              "14         Left        1        LeftTroll  846562842237157377   \n",
              "15         Left        1        LeftTroll  784982950710538240   \n",
              "17         Left        1        LeftTroll  851890618334892036   \n",
              "\n",
              "                                          article_url  \\\n",
              "2   http://twitter.com/1652262638/statuses/8377648...   \n",
              "10  http://twitter.com/1652262638/statuses/8486231...   \n",
              "14  http://twitter.com/1652138929/statuses/8465628...   \n",
              "15  http://twitter.com/AntonHayHay/statuses/784982...   \n",
              "17  http://twitter.com/1652987412/statuses/8518906...   \n",
              "\n",
              "                                           tco1_step1             tco2_step1  \\\n",
              "2   https://twitter.com/jayceodpromoter/status/837...  http://bit.ly/2m4KZPJ   \n",
              "10  https://twitter.com/jayceodpromoter/status/848...  http://bit.ly/2n231UO   \n",
              "14  https://twitter.com/Crystal1Johnson/status/846...                    NaN   \n",
              "15                              http://bit.ly/2bwNxz0                    NaN   \n",
              "17                                                NaN                    NaN   \n",
              "\n",
              "   tco3_step1  \n",
              "2         NaN  \n",
              "10        NaN  \n",
              "14        NaN  \n",
              "15        NaN  \n",
              "17        NaN  "
            ]
          },
          "metadata": {
            "tags": []
          },
          "execution_count": 25
        }
      ]
    },
    {
      "cell_type": "code",
      "metadata": {
        "id": "sWUhTWDDiuNq",
        "outputId": "4b9d09db-f7fd-4aed-8ae0-e052685557a4"
      },
      "source": [
        "hashtag_left_troll = left_troll_tweet.content.str.extractall('(#\\w+)')\n",
        "hashtag_left_troll[0].value_counts().head(30)"
      ],
      "execution_count": null,
      "outputs": [
        {
          "output_type": "execute_result",
          "data": {
            "text/plain": [
              "#BlackLivesMatter      359\n",
              "#NowPlaying            125\n",
              "#PoliceBrutality       124\n",
              "#cops                   82\n",
              "#BlackTwitter           80\n",
              "#BLM                    77\n",
              "#God                    57\n",
              "#StayWoke               57\n",
              "#acab                   56\n",
              "#racism                 43\n",
              "#music                  40\n",
              "#soundcloud             39\n",
              "#hiphop                 37\n",
              "#blacklivesmatter       34\n",
              "#staywoke               31\n",
              "#ACAB                   31\n",
              "#Police                 31\n",
              "#blacktwitter           28\n",
              "#police                 28\n",
              "#rap                    27\n",
              "#nowplaying             26\n",
              "#dagr8fm                26\n",
              "#policebrutality        26\n",
              "#HipHop                 25\n",
              "#Listen2                25\n",
              "#FergusonRemembers      24\n",
              "#RAPStationRadio        24\n",
              "#SoundCloud             23\n",
              "#blackpeopletwitter     23\n",
              "#black                  22\n",
              "Name: 0, dtype: int64"
            ]
          },
          "metadata": {
            "tags": []
          },
          "execution_count": 26
        }
      ]
    },
    {
      "cell_type": "code",
      "metadata": {
        "id": "UmLbqnpdiuNr",
        "outputId": "be576c03-af9f-458e-b829-d4d67645f969"
      },
      "source": [
        "left_troll_tweet['author'].unique()"
      ],
      "execution_count": null,
      "outputs": [
        {
          "output_type": "execute_result",
          "data": {
            "text/plain": [
              "array(['ANTONHAYHAY', 'ACEJINEV', 'ALECMOOOOODY', '4MYSQUAD', 'ADRGREERR',\n",
              "       'ARGENTINACATLE1', 'ADAMCHAPMANJR', 'AANTIRACIST',\n",
              "       'ATIF_SHAIKH_ME', 'ACAB_ZONE', 'ABELLABAB', 'ASSUNCAOWALLAS',\n",
              "       'ADRI_LOW_R', 'AFIFYAMIRA1', 'AHOGAN_AM', 'ALLFORPETERSONS',\n",
              "       'AMIRAHPOPE', 'ABOUTPOLIT', 'ANTHONYCARTR'], dtype=object)"
            ]
          },
          "metadata": {
            "tags": []
          },
          "execution_count": 27
        }
      ]
    },
    {
      "cell_type": "code",
      "metadata": {
        "id": "dAlqQaPAiuNs",
        "outputId": "07207ecb-2a4e-4f1e-e656-fcd27b79eb5e"
      },
      "source": [
        "left_troll_tweet['author'].value_counts()"
      ],
      "execution_count": null,
      "outputs": [
        {
          "output_type": "execute_result",
          "data": {
            "text/plain": [
              "ANTONHAYHAY        2623\n",
              "ALECMOOOOODY       2155\n",
              "ACEJINEV           1522\n",
              "4MYSQUAD           1198\n",
              "ADRGREERR           477\n",
              "ADAMCHAPMANJR       341\n",
              "AANTIRACIST         325\n",
              "ARGENTINACATLE1     173\n",
              "ACAB_ZONE            69\n",
              "ABOUTPOLIT           23\n",
              "ASSUNCAOWALLAS       21\n",
              "AFIFYAMIRA1          20\n",
              "AMIRAHPOPE           20\n",
              "AHOGAN_AM            17\n",
              "ATIF_SHAIKH_ME       16\n",
              "ADRI_LOW_R           11\n",
              "ABELLABAB            10\n",
              "ALLFORPETERSONS       8\n",
              "ANTHONYCARTR          7\n",
              "Name: author, dtype: int64"
            ]
          },
          "metadata": {
            "tags": []
          },
          "execution_count": 28
        }
      ]
    },
    {
      "cell_type": "markdown",
      "metadata": {
        "id": "s3w2a-FPiuNs"
      },
      "source": [
        "The author with the highest number of tweets is 'ANTHONHAYAY'"
      ]
    },
    {
      "cell_type": "code",
      "metadata": {
        "id": "X9ep6I1KiuNt",
        "outputId": "a9b0d4d1-5deb-4434-c5e0-80c6a0925fca"
      },
      "source": [
        "unique_authors = left_troll_tweet['author'].nunique()\n",
        "print(f'Total number of unique authors in this category: {unique_authors}')"
      ],
      "execution_count": null,
      "outputs": [
        {
          "output_type": "stream",
          "text": [
            "Total number of unique authors in this category: 19\n"
          ],
          "name": "stdout"
        }
      ]
    },
    {
      "cell_type": "code",
      "metadata": {
        "id": "2OdAhCCCiuNt",
        "outputId": "f7b52092-0a29-4870-ba79-e9f30e1506e8"
      },
      "source": [
        "total_tweets_by_antonhayhay = left_troll_tweet[left_troll_tweet['author'] == 'ANTONHAYHAY']\n",
        "print(f'Total tweets made by ANTONHAYHAY: {total_tweets_by_antonhayhay.shape[0]}')\n",
        "retweets_by_antonhayhay = total_tweets_by_antonhayhay[total_tweets_by_antonhayhay['retweet'] == 1]\n",
        "print(F'Retweets by ANTONHAYHAY: {retweets_by_antonhayhay.shape[0]}')\n",
        "rt_to_tweet_antonhayhay = (retweets_by_antonhayhay.shape[0])/(total_tweets_by_antonhayhay.shape[0])\n",
        "print(f'Ratio of Antonhayhay retweets to tweets: {rt_to_tweet_antonhayhay}')"
      ],
      "execution_count": null,
      "outputs": [
        {
          "output_type": "stream",
          "text": [
            "Total tweets made by ANTONHAYHAY: 2623\n",
            "Retweets by ANTONHAYHAY: 2470\n",
            "Ratio of Antonhayhay retweets to tweets: 0.9416698436904308\n"
          ],
          "name": "stdout"
        }
      ]
    },
    {
      "cell_type": "markdown",
      "metadata": {
        "id": "Aoi0N3ttiuNu"
      },
      "source": [
        "##### Almost all of ANTONHAYHAY'S tweets were retweets"
      ]
    },
    {
      "cell_type": "code",
      "metadata": {
        "id": "gm5nMYKuiuNu",
        "outputId": "c0fd47d4-1c36-4076-e487-4600a0f6d4a8"
      },
      "source": [
        "right_troll_tweet = data[data['account_category'] =='RightTroll']\n",
        "right_troll_tweet.head()"
      ],
      "execution_count": null,
      "outputs": [
        {
          "output_type": "execute_result",
          "data": {
            "text/html": [
              "<div>\n",
              "<style scoped>\n",
              "    .dataframe tbody tr th:only-of-type {\n",
              "        vertical-align: middle;\n",
              "    }\n",
              "\n",
              "    .dataframe tbody tr th {\n",
              "        vertical-align: top;\n",
              "    }\n",
              "\n",
              "    .dataframe thead th {\n",
              "        text-align: right;\n",
              "    }\n",
              "</style>\n",
              "<table border=\"1\" class=\"dataframe\">\n",
              "  <thead>\n",
              "    <tr style=\"text-align: right;\">\n",
              "      <th></th>\n",
              "      <th>id</th>\n",
              "      <th>author</th>\n",
              "      <th>content</th>\n",
              "      <th>region</th>\n",
              "      <th>language</th>\n",
              "      <th>publish_date</th>\n",
              "      <th>following</th>\n",
              "      <th>followers</th>\n",
              "      <th>post_type</th>\n",
              "      <th>account_type</th>\n",
              "      <th>retweet</th>\n",
              "      <th>account_category</th>\n",
              "      <th>tweet_id</th>\n",
              "      <th>article_url</th>\n",
              "      <th>tco1_step1</th>\n",
              "      <th>tco2_step1</th>\n",
              "      <th>tco3_step1</th>\n",
              "    </tr>\n",
              "  </thead>\n",
              "  <tbody>\n",
              "    <tr>\n",
              "      <th>0</th>\n",
              "      <td>0</td>\n",
              "      <td>ADNNELSTR</td>\n",
              "      <td>The empty podium says it all. The Marxists are...</td>\n",
              "      <td>Unknown</td>\n",
              "      <td>English</td>\n",
              "      <td>8/13/2017 21:00</td>\n",
              "      <td>946</td>\n",
              "      <td>83</td>\n",
              "      <td>TWEET</td>\n",
              "      <td>Right</td>\n",
              "      <td>0</td>\n",
              "      <td>RightTroll</td>\n",
              "      <td>896838937028775937</td>\n",
              "      <td>http://twitter.com/893370639309996032/statuses...</td>\n",
              "      <td>https://twitter.com/i/web/status/8968383433838...</td>\n",
              "      <td>NaN</td>\n",
              "      <td>NaN</td>\n",
              "    </tr>\n",
              "    <tr>\n",
              "      <th>3</th>\n",
              "      <td>3</td>\n",
              "      <td>AMELIEBALDWIN</td>\n",
              "      <td>.@JohnsonHildy may be on to something about th...</td>\n",
              "      <td>United States</td>\n",
              "      <td>English</td>\n",
              "      <td>2/23/2017 2:05</td>\n",
              "      <td>2322</td>\n",
              "      <td>2743</td>\n",
              "      <td>RETWEET</td>\n",
              "      <td>Right</td>\n",
              "      <td>1</td>\n",
              "      <td>RightTroll</td>\n",
              "      <td>834584872111001601</td>\n",
              "      <td>http://twitter.com/1679279490/statuses/8345848...</td>\n",
              "      <td>http://www.washingtonexaminer.com/james-okeefe...</td>\n",
              "      <td>NaN</td>\n",
              "      <td>NaN</td>\n",
              "    </tr>\n",
              "    <tr>\n",
              "      <th>4</th>\n",
              "      <td>4</td>\n",
              "      <td>AMELIEBALDWIN</td>\n",
              "      <td>.@ViolaDavis just made #Oscars history, and it...</td>\n",
              "      <td>United States</td>\n",
              "      <td>English</td>\n",
              "      <td>1/25/2017 9:36</td>\n",
              "      <td>2340</td>\n",
              "      <td>2726</td>\n",
              "      <td>RETWEET</td>\n",
              "      <td>Right</td>\n",
              "      <td>1</td>\n",
              "      <td>RightTroll</td>\n",
              "      <td>824189182897754117</td>\n",
              "      <td>http://twitter.com/1679279490/statuses/8241891...</td>\n",
              "      <td>https://twitter.com/hellogiggles/status/824184...</td>\n",
              "      <td>http://trib.al/adflVAC</td>\n",
              "      <td>NaN</td>\n",
              "    </tr>\n",
              "    <tr>\n",
              "      <th>5</th>\n",
              "      <td>5</td>\n",
              "      <td>ARM_2_ALAN</td>\n",
              "      <td>#health San Francisco strikes a blow against s...</td>\n",
              "      <td>United States</td>\n",
              "      <td>English</td>\n",
              "      <td>6/10/2015 14:31</td>\n",
              "      <td>68</td>\n",
              "      <td>160</td>\n",
              "      <td>RETWEET</td>\n",
              "      <td>Right</td>\n",
              "      <td>1</td>\n",
              "      <td>RightTroll</td>\n",
              "      <td>608642726771331073</td>\n",
              "      <td>http://twitter.com/Arm_2_Alan/statuses/6086427...</td>\n",
              "      <td>NaN</td>\n",
              "      <td>NaN</td>\n",
              "      <td>NaN</td>\n",
              "    </tr>\n",
              "    <tr>\n",
              "      <th>7</th>\n",
              "      <td>7</td>\n",
              "      <td>ALEXXDRTRR</td>\n",
              "      <td>Coming from hell hole Detroit... #KidRockForSe...</td>\n",
              "      <td>Unknown</td>\n",
              "      <td>English</td>\n",
              "      <td>8/17/2017 0:20</td>\n",
              "      <td>34</td>\n",
              "      <td>2</td>\n",
              "      <td>QUOTE_TWEET</td>\n",
              "      <td>Right</td>\n",
              "      <td>1</td>\n",
              "      <td>RightTroll</td>\n",
              "      <td>897976387935641601</td>\n",
              "      <td>http://twitter.com/893397699579576321/statuses...</td>\n",
              "      <td>https://twitter.com/freep/status/8979438728687...</td>\n",
              "      <td>NaN</td>\n",
              "      <td>NaN</td>\n",
              "    </tr>\n",
              "  </tbody>\n",
              "</table>\n",
              "</div>"
            ],
            "text/plain": [
              "   id         author                                            content  \\\n",
              "0   0      ADNNELSTR  The empty podium says it all. The Marxists are...   \n",
              "3   3  AMELIEBALDWIN  .@JohnsonHildy may be on to something about th...   \n",
              "4   4  AMELIEBALDWIN  .@ViolaDavis just made #Oscars history, and it...   \n",
              "5   5     ARM_2_ALAN  #health San Francisco strikes a blow against s...   \n",
              "7   7     ALEXXDRTRR  Coming from hell hole Detroit... #KidRockForSe...   \n",
              "\n",
              "          region language     publish_date  following  followers    post_type  \\\n",
              "0        Unknown  English  8/13/2017 21:00        946         83        TWEET   \n",
              "3  United States  English   2/23/2017 2:05       2322       2743      RETWEET   \n",
              "4  United States  English   1/25/2017 9:36       2340       2726      RETWEET   \n",
              "5  United States  English  6/10/2015 14:31         68        160      RETWEET   \n",
              "7        Unknown  English   8/17/2017 0:20         34          2  QUOTE_TWEET   \n",
              "\n",
              "  account_type  retweet account_category            tweet_id  \\\n",
              "0        Right        0       RightTroll  896838937028775937   \n",
              "3        Right        1       RightTroll  834584872111001601   \n",
              "4        Right        1       RightTroll  824189182897754117   \n",
              "5        Right        1       RightTroll  608642726771331073   \n",
              "7        Right        1       RightTroll  897976387935641601   \n",
              "\n",
              "                                         article_url  \\\n",
              "0  http://twitter.com/893370639309996032/statuses...   \n",
              "3  http://twitter.com/1679279490/statuses/8345848...   \n",
              "4  http://twitter.com/1679279490/statuses/8241891...   \n",
              "5  http://twitter.com/Arm_2_Alan/statuses/6086427...   \n",
              "7  http://twitter.com/893397699579576321/statuses...   \n",
              "\n",
              "                                          tco1_step1              tco2_step1  \\\n",
              "0  https://twitter.com/i/web/status/8968383433838...                     NaN   \n",
              "3  http://www.washingtonexaminer.com/james-okeefe...                     NaN   \n",
              "4  https://twitter.com/hellogiggles/status/824184...  http://trib.al/adflVAC   \n",
              "5                                                NaN                     NaN   \n",
              "7  https://twitter.com/freep/status/8979438728687...                     NaN   \n",
              "\n",
              "  tco3_step1  \n",
              "0        NaN  \n",
              "3        NaN  \n",
              "4        NaN  \n",
              "5        NaN  \n",
              "7        NaN  "
            ]
          },
          "metadata": {
            "tags": []
          },
          "execution_count": 31
        }
      ]
    },
    {
      "cell_type": "code",
      "metadata": {
        "id": "3MPdDtQIiuNv",
        "outputId": "3a7fb826-46db-4ef2-f243-0c93d3324ed2"
      },
      "source": [
        "hashtag_right_troll = right_troll_tweet.content.str.extractall('(#\\w+)')\n",
        "hashtag_right_troll[0].value_counts().head(30)"
      ],
      "execution_count": null,
      "outputs": [
        {
          "output_type": "execute_result",
          "data": {
            "text/plain": [
              "#amb         748\n",
              "#MAGA        727\n",
              "#news        472\n",
              "#PJNET       392\n",
              "#USFA        373\n",
              "#tcot        275\n",
              "#lis         248\n",
              "#alis        248\n",
              "#ade         237\n",
              "#aded        237\n",
              "#arre        232\n",
              "#ara         232\n",
              "#tisda       211\n",
              "#arbt        170\n",
              "#arb         170\n",
              "#TCOT        158\n",
              "#alexx       153\n",
              "#aleex       153\n",
              "#andris      147\n",
              "#sports      145\n",
              "#amber       140\n",
              "#amms        140\n",
              "#amis        140\n",
              "#amberli     140\n",
              "#Trump       138\n",
              "#flig        133\n",
              "#politics    129\n",
              "#angiis      128\n",
              "#local       126\n",
              "#aamy        124\n",
              "Name: 0, dtype: int64"
            ]
          },
          "metadata": {
            "tags": []
          },
          "execution_count": 32
        }
      ]
    },
    {
      "cell_type": "code",
      "metadata": {
        "scrolled": true,
        "id": "nhTpTvohiuNv",
        "outputId": "4d9f19bf-709f-4821-b7f4-8061254478e6"
      },
      "source": [
        "right_troll_tweet['author'].unique()"
      ],
      "execution_count": null,
      "outputs": [
        {
          "output_type": "execute_result",
          "data": {
            "text/plain": [
              "array(['ADNNELSTR', 'AMELIEBALDWIN', 'ARM_2_ALAN', 'ALEXXDRTRR',\n",
              "       'ARABMTR', 'ANAAISLEC', 'ADDIE_HOL', 'AFEELIUTR', 'AMBERLINETR',\n",
              "       'ANIIANTRS', 'ALDRICH420', 'AMYYSLEGENTR', 'ARIAANST',\n",
              "       'ALANISSTRS', 'AURRLISTR', 'ANDRISNABRT', 'ANDIOSMARRTRUMP',\n",
              "       'ALIISTRR', 'ANISILOPE', 'ASWWIMMORRIS', '10_GOP', 'AMCONVOICE',\n",
              "       'ARIELSHINING', 'ANNAMINGT', 'AMYYTHOSSMA', 'ANTONRUMSS',\n",
              "       'ANISACRRUTR', 'AMELINAASTR', 'ANGTHEESTR', 'ADRIANAMFTTT',\n",
              "       'ABIISSROSB', 'ARTEMSSFE', 'AMIISTRS', 'ARCHIEOLIVERS',\n",
              "       'ANAALESSIS', 'AMERICANALBERT', 'ALESSIAWILLSON', 'ANDRREETRT',\n",
              "       'ANASTASSITR', 'AMBERRPAR', 'ARIEENSLPE', 'ANNIJONSTR',\n",
              "       'ANGISDOOYL', 'ANGEELISTR', 'ALIZASSHIELD', 'ALAXXATR',\n",
              "       'ALEXWARNINGU', 'ALLBERRTOSS', 'ASHLEEYWES', 'ARISGRAYS',\n",
              "       'ADAM_MATHISSS', 'APRRILSBRUSS', '2NDHALFONION', 'ALBERTMORENMORE',\n",
              "       'ARAGARTRR', 'ABMERRLINS', 'AMBBERTHTT', 'ALFREDTHREE',\n",
              "       'ANDEERLWR', 'ACAPARELLA', 'ANN_HANAH', 'ANGELISTRR',\n",
              "       'ANN1EMCCONNELL', 'ALEXLOVESSHENNA', 'AMYMUSICLL', 'ALTMANBELINDA',\n",
              "       'ANISSNOVOTR', 'AMALIA_PETTY', 'ARMEDFREJYA', 'ANGEELISHET',\n",
              "       'ANFINRUDSADIE', 'ALBERTA_HAYNESS', 'AUSTINLOVESBEER', 'ADRIASNSS',\n",
              "       'ALMOSTSAINTGIRL', 'AMIYAHSAMUELS', 'ANGELOENOUGH',\n",
              "       'ANITALOVEHEART', 'ANTHONYWOODBOY', 'ASHLEY_KRI', 'AN_N_GASTON',\n",
              "       'ANCARICTRS', '4EVER_SUSAN', 'ADELE_BROCK', 'ANITABR1994',\n",
              "       'ANGELITHSS', 'ANEELSSTRT', 'AMELCREECH', 'AMAMCAMCAM',\n",
              "       'ADLEESWOD', 'ANDREWHEDDD', 'ALW_ILL', 'AN_NA__AN', 'ALFREDBENBEN',\n",
              "       'ALEMICHLESS', 'ALESISTRTT', 'ABISADMASST', 'ALEESATRS',\n",
              "       'ANG__BOWERS', 'ANFRAIZER', 'ABBYLOPTRT', 'ADLEESTTT', 'AMBAASTRT',\n",
              "       '1ERIK_LEE', 'APRIILDTRUT', 'ADALESTRTM', 'ADELIINESTRT'],\n",
              "      dtype=object)"
            ]
          },
          "metadata": {
            "tags": []
          },
          "execution_count": 33
        }
      ]
    },
    {
      "cell_type": "markdown",
      "metadata": {
        "id": "XyALq_paiuNw"
      },
      "source": [
        "##### There are more unique right troll authors than left troll authors"
      ]
    },
    {
      "cell_type": "code",
      "metadata": {
        "id": "KzR--QfTiuNx",
        "outputId": "72d35169-a49a-424a-d4dc-f280647e22b5"
      },
      "source": [
        "unique_authors = right_troll_tweet['author'].nunique()\n",
        "print(f'Total number of unique authors in this category: {unique_authors}')"
      ],
      "execution_count": null,
      "outputs": [
        {
          "output_type": "stream",
          "text": [
            "Total number of unique authors in this category: 107\n"
          ],
          "name": "stdout"
        }
      ]
    },
    {
      "cell_type": "code",
      "metadata": {
        "id": "abK4-j25iuNx",
        "outputId": "3e84ff37-2749-4683-bfe3-ffccc5cb3797"
      },
      "source": [
        "right_troll_tweet['author'].value_counts()"
      ],
      "execution_count": null,
      "outputs": [
        {
          "output_type": "execute_result",
          "data": {
            "text/plain": [
              "AMELIEBALDWIN    8673\n",
              "ARM_2_ALAN       3749\n",
              "ADNNELSTR        1508\n",
              "ANIIANTRS        1279\n",
              "ALDRICH420        890\n",
              "                 ... \n",
              "2NDHALFONION        1\n",
              "ABBYLOPTRT          1\n",
              "ALESISTRTT          1\n",
              "1ERIK_LEE           1\n",
              "ALEESATRS           1\n",
              "Name: author, Length: 107, dtype: int64"
            ]
          },
          "metadata": {
            "tags": []
          },
          "execution_count": 35
        }
      ]
    },
    {
      "cell_type": "markdown",
      "metadata": {
        "id": "U4CrJzbCiuNy"
      },
      "source": [
        "The author with the highest number of tweets is 'AMELIEBALDWIN'"
      ]
    },
    {
      "cell_type": "code",
      "metadata": {
        "id": "Kc89QMj7iuNy",
        "outputId": "de3eb374-882f-42fb-9ee3-2df9d773fd17"
      },
      "source": [
        "total_tweets_by_ameliebaldwin = right_troll_tweet[right_troll_tweet['author'] == 'AMELIEBALDWIN']\n",
        "print(f'Total tweets made by AMELIEBALDWIN: {total_tweets_by_ameliebaldwin.shape[0]}')\n",
        "retweets_by_ameliebaldwin = total_tweets_by_ameliebaldwin[total_tweets_by_ameliebaldwin['retweet'] == 1]\n",
        "print(F'Retweets by AMELIEBALDWIN: {retweets_by_ameliebaldwin.shape[0]}')\n",
        "rt_to_tweet_ameliebaldwin = (retweets_by_ameliebaldwin.shape[0])/(total_tweets_by_ameliebaldwin.shape[0])\n",
        "print(f'Ratio of Ameliebaldwin retweets to tweets: {rt_to_tweet_ameliebaldwin}')"
      ],
      "execution_count": null,
      "outputs": [
        {
          "output_type": "stream",
          "text": [
            "Total tweets made by AMELIEBALDWIN: 8673\n",
            "Retweets by AMELIEBALDWIN: 8345\n",
            "Ratio of Ameliebaldwin retweets to tweets: 0.9621814827625965\n"
          ],
          "name": "stdout"
        }
      ]
    },
    {
      "cell_type": "code",
      "metadata": {
        "id": "Imxx9cg3iuNy",
        "outputId": "96c6dc94-2366-4fef-ab71-ba7a3a290d20"
      },
      "source": [
        "newsfeed = data[data['account_category'] =='NewsFeed']\n",
        "newsfeed.head()"
      ],
      "execution_count": null,
      "outputs": [
        {
          "output_type": "execute_result",
          "data": {
            "text/html": [
              "<div>\n",
              "<style scoped>\n",
              "    .dataframe tbody tr th:only-of-type {\n",
              "        vertical-align: middle;\n",
              "    }\n",
              "\n",
              "    .dataframe tbody tr th {\n",
              "        vertical-align: top;\n",
              "    }\n",
              "\n",
              "    .dataframe thead th {\n",
              "        text-align: right;\n",
              "    }\n",
              "</style>\n",
              "<table border=\"1\" class=\"dataframe\">\n",
              "  <thead>\n",
              "    <tr style=\"text-align: right;\">\n",
              "      <th></th>\n",
              "      <th>id</th>\n",
              "      <th>author</th>\n",
              "      <th>content</th>\n",
              "      <th>region</th>\n",
              "      <th>language</th>\n",
              "      <th>publish_date</th>\n",
              "      <th>following</th>\n",
              "      <th>followers</th>\n",
              "      <th>post_type</th>\n",
              "      <th>account_type</th>\n",
              "      <th>retweet</th>\n",
              "      <th>account_category</th>\n",
              "      <th>tweet_id</th>\n",
              "      <th>article_url</th>\n",
              "      <th>tco1_step1</th>\n",
              "      <th>tco2_step1</th>\n",
              "      <th>tco3_step1</th>\n",
              "    </tr>\n",
              "  </thead>\n",
              "  <tbody>\n",
              "    <tr>\n",
              "      <th>1</th>\n",
              "      <td>1</td>\n",
              "      <td>ATLANTA_ONLINE</td>\n",
              "      <td>Dust in your house may have toxic chemicals, s...</td>\n",
              "      <td>United States</td>\n",
              "      <td>English</td>\n",
              "      <td>9/15/2016 3:34</td>\n",
              "      <td>7825</td>\n",
              "      <td>17383</td>\n",
              "      <td>TWEET</td>\n",
              "      <td>local</td>\n",
              "      <td>0</td>\n",
              "      <td>NewsFeed</td>\n",
              "      <td>776262908388839424</td>\n",
              "      <td>http://twitter.com/Atlanta_Online/statuses/776...</td>\n",
              "      <td>http://on-ajc.com/2coKeyO</td>\n",
              "      <td>NaN</td>\n",
              "      <td>NaN</td>\n",
              "    </tr>\n",
              "    <tr>\n",
              "      <th>47</th>\n",
              "      <td>48</td>\n",
              "      <td>ATLANTA_ONLINE</td>\n",
              "      <td>Salad mix recalled after bat was found inside ...</td>\n",
              "      <td>United States</td>\n",
              "      <td>English</td>\n",
              "      <td>4/9/2017 16:59</td>\n",
              "      <td>11776</td>\n",
              "      <td>18269</td>\n",
              "      <td>TWEET</td>\n",
              "      <td>local</td>\n",
              "      <td>0</td>\n",
              "      <td>NewsFeed</td>\n",
              "      <td>851117304289144833</td>\n",
              "      <td>http://twitter.com/2944766250/statuses/8511173...</td>\n",
              "      <td>https://twitter.com/Atlanta_Online/status/8511...</td>\n",
              "      <td>http://www.fox5atlanta.com/news/247503027-story</td>\n",
              "      <td>NaN</td>\n",
              "    </tr>\n",
              "    <tr>\n",
              "      <th>118</th>\n",
              "      <td>119</td>\n",
              "      <td>ATLANTA_ONLINE</td>\n",
              "      <td>DeKalb County artist pleaded 'no contest' to c...</td>\n",
              "      <td>United States</td>\n",
              "      <td>English</td>\n",
              "      <td>5/24/2017 4:35</td>\n",
              "      <td>12030</td>\n",
              "      <td>18688</td>\n",
              "      <td>TWEET</td>\n",
              "      <td>local</td>\n",
              "      <td>0</td>\n",
              "      <td>NewsFeed</td>\n",
              "      <td>867237509578854404</td>\n",
              "      <td>http://twitter.com/2944766250/statuses/8672375...</td>\n",
              "      <td>https://twitter.com/Atlanta_Online/status/8672...</td>\n",
              "      <td>http://www.fox5atlanta.com/news/256578362-story</td>\n",
              "      <td>NaN</td>\n",
              "    </tr>\n",
              "    <tr>\n",
              "      <th>130</th>\n",
              "      <td>131</td>\n",
              "      <td>ATLANTA_ONLINE</td>\n",
              "      <td>Proposed legislation could mean higher fines a...</td>\n",
              "      <td>United States</td>\n",
              "      <td>English</td>\n",
              "      <td>6/26/2017 16:57</td>\n",
              "      <td>12672</td>\n",
              "      <td>18696</td>\n",
              "      <td>TWEET</td>\n",
              "      <td>local</td>\n",
              "      <td>0</td>\n",
              "      <td>NewsFeed</td>\n",
              "      <td>879383204758786053</td>\n",
              "      <td>http://twitter.com/2944766250/statuses/8793832...</td>\n",
              "      <td>https://twitter.com/Atlanta_Online/status/8793...</td>\n",
              "      <td>http://www.fox5atlanta.com/news/263864517-story</td>\n",
              "      <td>NaN</td>\n",
              "    </tr>\n",
              "    <tr>\n",
              "      <th>137</th>\n",
              "      <td>138</td>\n",
              "      <td>ATLANTA_ONLINE</td>\n",
              "      <td>Robbery Suspect Shot by College Park Police ht...</td>\n",
              "      <td>United States</td>\n",
              "      <td>English</td>\n",
              "      <td>1/25/2016 10:11</td>\n",
              "      <td>9834</td>\n",
              "      <td>15096</td>\n",
              "      <td>TWEET</td>\n",
              "      <td>local</td>\n",
              "      <td>0</td>\n",
              "      <td>NewsFeed</td>\n",
              "      <td>691564033523085312</td>\n",
              "      <td>http://twitter.com/Atlanta_Online/statuses/691...</td>\n",
              "      <td>https://twitter.com/Atlanta_Online/status/6915...</td>\n",
              "      <td>https://twibble.io</td>\n",
              "      <td>http://twib.in/l/7AqbxME5KyB</td>\n",
              "    </tr>\n",
              "  </tbody>\n",
              "</table>\n",
              "</div>"
            ],
            "text/plain": [
              "      id          author                                            content  \\\n",
              "1      1  ATLANTA_ONLINE  Dust in your house may have toxic chemicals, s...   \n",
              "47    48  ATLANTA_ONLINE  Salad mix recalled after bat was found inside ...   \n",
              "118  119  ATLANTA_ONLINE  DeKalb County artist pleaded 'no contest' to c...   \n",
              "130  131  ATLANTA_ONLINE  Proposed legislation could mean higher fines a...   \n",
              "137  138  ATLANTA_ONLINE  Robbery Suspect Shot by College Park Police ht...   \n",
              "\n",
              "            region language     publish_date  following  followers post_type  \\\n",
              "1    United States  English   9/15/2016 3:34       7825      17383     TWEET   \n",
              "47   United States  English   4/9/2017 16:59      11776      18269     TWEET   \n",
              "118  United States  English   5/24/2017 4:35      12030      18688     TWEET   \n",
              "130  United States  English  6/26/2017 16:57      12672      18696     TWEET   \n",
              "137  United States  English  1/25/2016 10:11       9834      15096     TWEET   \n",
              "\n",
              "    account_type  retweet account_category            tweet_id  \\\n",
              "1          local        0         NewsFeed  776262908388839424   \n",
              "47         local        0         NewsFeed  851117304289144833   \n",
              "118        local        0         NewsFeed  867237509578854404   \n",
              "130        local        0         NewsFeed  879383204758786053   \n",
              "137        local        0         NewsFeed  691564033523085312   \n",
              "\n",
              "                                           article_url  \\\n",
              "1    http://twitter.com/Atlanta_Online/statuses/776...   \n",
              "47   http://twitter.com/2944766250/statuses/8511173...   \n",
              "118  http://twitter.com/2944766250/statuses/8672375...   \n",
              "130  http://twitter.com/2944766250/statuses/8793832...   \n",
              "137  http://twitter.com/Atlanta_Online/statuses/691...   \n",
              "\n",
              "                                            tco1_step1  \\\n",
              "1                            http://on-ajc.com/2coKeyO   \n",
              "47   https://twitter.com/Atlanta_Online/status/8511...   \n",
              "118  https://twitter.com/Atlanta_Online/status/8672...   \n",
              "130  https://twitter.com/Atlanta_Online/status/8793...   \n",
              "137  https://twitter.com/Atlanta_Online/status/6915...   \n",
              "\n",
              "                                          tco2_step1  \\\n",
              "1                                                NaN   \n",
              "47   http://www.fox5atlanta.com/news/247503027-story   \n",
              "118  http://www.fox5atlanta.com/news/256578362-story   \n",
              "130  http://www.fox5atlanta.com/news/263864517-story   \n",
              "137                               https://twibble.io   \n",
              "\n",
              "                       tco3_step1  \n",
              "1                             NaN  \n",
              "47                            NaN  \n",
              "118                           NaN  \n",
              "130                           NaN  \n",
              "137  http://twib.in/l/7AqbxME5KyB  "
            ]
          },
          "metadata": {
            "tags": []
          },
          "execution_count": 37
        }
      ]
    },
    {
      "cell_type": "code",
      "metadata": {
        "id": "KRajolvLiuNz",
        "outputId": "8bf85e59-a00a-476b-f8ec-75ecffb2aba7"
      },
      "source": [
        "hashtag_newsfeed = newsfeed.content.str.extractall('(#\\w+)')\n",
        "hashtag_newsfeed[0].value_counts().head(30)"
      ],
      "execution_count": null,
      "outputs": [
        {
          "output_type": "execute_result",
          "data": {
            "text/plain": [
              "#breaking            102\n",
              "#news                 41\n",
              "#Atlanta              22\n",
              "#Obama                 4\n",
              "#business              3\n",
              "#history               3\n",
              "#falcons               3\n",
              "#amazing               2\n",
              "#local                 2\n",
              "#DeKalb                1\n",
              "#MartinLutherKing      1\n",
              "#Bloomberg             1\n",
              "#health                1\n",
              "#Roswell               1\n",
              "#washington            1\n",
              "#HillaryClinton        1\n",
              "#BernieSanders         1\n",
              "#LGBT                  1\n",
              "#attacks               1\n",
              "#ArethaFranklin        1\n",
              "#Kennesaw              1\n",
              "#SupremeCourt          1\n",
              "#Chicago               1\n",
              "#Trump                 1\n",
              "#13thamendment         1\n",
              "#WyWySTRONG            1\n",
              "#TedCruz               1\n",
              "#killed                1\n",
              "#DonaldTrump           1\n",
              "#Asian                 1\n",
              "Name: 0, dtype: int64"
            ]
          },
          "metadata": {
            "tags": []
          },
          "execution_count": 38
        }
      ]
    },
    {
      "cell_type": "code",
      "metadata": {
        "scrolled": true,
        "id": "8XvUq3AMiuNz",
        "outputId": "8f92cf33-5506-4c1c-87ac-e2420d3b3a04"
      },
      "source": [
        "print(newsfeed['author'].unique())\n",
        "print(newsfeed.shape[0])"
      ],
      "execution_count": null,
      "outputs": [
        {
          "output_type": "stream",
          "text": [
            "['ATLANTA_ONLINE' 'ALBUQUERQUEON']\n",
            "2711\n"
          ],
          "name": "stdout"
        }
      ]
    },
    {
      "cell_type": "markdown",
      "metadata": {
        "id": "744k-NuSiuNz"
      },
      "source": [
        "##### We have only two unique newsfeed accounts making a total of 2711 tweets"
      ]
    },
    {
      "cell_type": "code",
      "metadata": {
        "id": "vm0eCu4HiuN0",
        "outputId": "7b4bc68c-f36b-44c8-a43a-ecfae32a2d3b"
      },
      "source": [
        "newsfeed['author'].value_counts()"
      ],
      "execution_count": null,
      "outputs": [
        {
          "output_type": "execute_result",
          "data": {
            "text/plain": [
              "ATLANTA_ONLINE    1991\n",
              "ALBUQUERQUEON      720\n",
              "Name: author, dtype: int64"
            ]
          },
          "metadata": {
            "tags": []
          },
          "execution_count": 40
        }
      ]
    },
    {
      "cell_type": "markdown",
      "metadata": {
        "id": "Yy50x3M7iuN0"
      },
      "source": [
        "'ATLANTA_ONLINE' is the author of more than half of these tweets"
      ]
    },
    {
      "cell_type": "code",
      "metadata": {
        "id": "DWgYJ0DciuN0",
        "outputId": "7aaa5c3e-6f36-4a30-8f83-bc42b714609d"
      },
      "source": [
        "total_tweets_by_atlantaonline = newsfeed[newsfeed['author'] == 'ATLANTA_ONLINE']\n",
        "print(f'Total tweets made by ATLANTA_ONLINE: {total_tweets_by_atlantaonline.shape[0]}')\n",
        "retweets_by_atlantaonline = total_tweets_by_atlantaonline[total_tweets_by_atlantaonline['retweet'] == 1]\n",
        "print(F'Retweets by ATLANTA_ONLINE: {retweets_by_atlantaonline.shape[0]}')\n",
        "rt_to_tweet_atlantaonline = (retweets_by_atlantaonline.shape[0])/(total_tweets_by_atlantaonline.shape[0])\n",
        "print(f'Ratio of ATLANTA_ONLINE retweets to tweets: {rt_to_tweet_atlantaonline}')"
      ],
      "execution_count": null,
      "outputs": [
        {
          "output_type": "stream",
          "text": [
            "Total tweets made by ATLANTA_ONLINE: 1991\n",
            "Retweets by ATLANTA_ONLINE: 0\n",
            "Ratio of ATLANTA_ONLINE retweets to tweets: 0.0\n"
          ],
          "name": "stdout"
        }
      ]
    },
    {
      "cell_type": "markdown",
      "metadata": {
        "id": "yOWe92wViuN1"
      },
      "source": [
        "This handle has no retweets."
      ]
    },
    {
      "cell_type": "code",
      "metadata": {
        "id": "mUjUMdATiuN2",
        "outputId": "858bd33f-2d63-4a54-be1b-b5db9c01f963"
      },
      "source": [
        "hashtag_atlantaonline = total_tweets_by_atlantaonline.content.str.extractall('(#\\w+)')\n",
        "hashtag_atlantaonline[0].value_counts().head(30)\n",
        "#Looks like they are responsible for all the hashtags too"
      ],
      "execution_count": null,
      "outputs": [
        {
          "output_type": "execute_result",
          "data": {
            "text/plain": [
              "#breaking            102\n",
              "#news                 41\n",
              "#Atlanta              22\n",
              "#Obama                 4\n",
              "#business              3\n",
              "#history               3\n",
              "#falcons               3\n",
              "#amazing               2\n",
              "#local                 2\n",
              "#DeKalb                1\n",
              "#MartinLutherKing      1\n",
              "#Bloomberg             1\n",
              "#health                1\n",
              "#Roswell               1\n",
              "#washington            1\n",
              "#HillaryClinton        1\n",
              "#BernieSanders         1\n",
              "#LGBT                  1\n",
              "#attacks               1\n",
              "#ArethaFranklin        1\n",
              "#Kennesaw              1\n",
              "#SupremeCourt          1\n",
              "#Chicago               1\n",
              "#Trump                 1\n",
              "#13thamendment         1\n",
              "#WyWySTRONG            1\n",
              "#TedCruz               1\n",
              "#killed                1\n",
              "#DonaldTrump           1\n",
              "#Asian                 1\n",
              "Name: 0, dtype: int64"
            ]
          },
          "metadata": {
            "tags": []
          },
          "execution_count": 42
        }
      ]
    },
    {
      "cell_type": "code",
      "metadata": {
        "id": "s0V_KzN9iuN3",
        "outputId": "b023b4d3-1bcb-4d09-8d09-cb0bd833ce1c"
      },
      "source": [
        "Hashtager = data[data['account_category'] =='HashtagGamer']\n",
        "Hashtager.head()"
      ],
      "execution_count": null,
      "outputs": [
        {
          "output_type": "execute_result",
          "data": {
            "text/html": [
              "<div>\n",
              "<style scoped>\n",
              "    .dataframe tbody tr th:only-of-type {\n",
              "        vertical-align: middle;\n",
              "    }\n",
              "\n",
              "    .dataframe tbody tr th {\n",
              "        vertical-align: top;\n",
              "    }\n",
              "\n",
              "    .dataframe thead th {\n",
              "        text-align: right;\n",
              "    }\n",
              "</style>\n",
              "<table border=\"1\" class=\"dataframe\">\n",
              "  <thead>\n",
              "    <tr style=\"text-align: right;\">\n",
              "      <th></th>\n",
              "      <th>id</th>\n",
              "      <th>author</th>\n",
              "      <th>content</th>\n",
              "      <th>region</th>\n",
              "      <th>language</th>\n",
              "      <th>publish_date</th>\n",
              "      <th>following</th>\n",
              "      <th>followers</th>\n",
              "      <th>post_type</th>\n",
              "      <th>account_type</th>\n",
              "      <th>retweet</th>\n",
              "      <th>account_category</th>\n",
              "      <th>tweet_id</th>\n",
              "      <th>article_url</th>\n",
              "      <th>tco1_step1</th>\n",
              "      <th>tco2_step1</th>\n",
              "      <th>tco3_step1</th>\n",
              "    </tr>\n",
              "  </thead>\n",
              "  <tbody>\n",
              "    <tr>\n",
              "      <th>6</th>\n",
              "      <td>6</td>\n",
              "      <td>ANNIEPOSHES</td>\n",
              "      <td>#ItsUnacceptableTo turn me on and not finish t...</td>\n",
              "      <td>United States</td>\n",
              "      <td>English</td>\n",
              "      <td>11/16/2016 15:42</td>\n",
              "      <td>2422</td>\n",
              "      <td>2598</td>\n",
              "      <td>RETWEET</td>\n",
              "      <td>Hashtager</td>\n",
              "      <td>1</td>\n",
              "      <td>HashtagGamer</td>\n",
              "      <td>798914258054488064</td>\n",
              "      <td>http://twitter.com/2500690416/statuses/7989142...</td>\n",
              "      <td>https://twitter.com/tcanham459/status/79890956...</td>\n",
              "      <td>NaN</td>\n",
              "      <td>NaN</td>\n",
              "    </tr>\n",
              "    <tr>\n",
              "      <th>9</th>\n",
              "      <td>9</td>\n",
              "      <td>ABIGAILSSILK</td>\n",
              "      <td>Come find us at the national mall for the #DC ...</td>\n",
              "      <td>United States</td>\n",
              "      <td>English</td>\n",
              "      <td>7/30/2016 20:34</td>\n",
              "      <td>464</td>\n",
              "      <td>506</td>\n",
              "      <td>RETWEET</td>\n",
              "      <td>Hashtager</td>\n",
              "      <td>1</td>\n",
              "      <td>HashtagGamer</td>\n",
              "      <td>759487455493885952</td>\n",
              "      <td>http://twitter.com/abigailssilk/statuses/75948...</td>\n",
              "      <td>https://twitter.com/notiontheory/status/759450...</td>\n",
              "      <td>NaN</td>\n",
              "      <td>NaN</td>\n",
              "    </tr>\n",
              "    <tr>\n",
              "      <th>12</th>\n",
              "      <td>12</td>\n",
              "      <td>ANDYHASHTAGGER</td>\n",
              "      <td>#IfIWereTedCruz I'd have time to stand around ...</td>\n",
              "      <td>United States</td>\n",
              "      <td>English</td>\n",
              "      <td>5/4/2016 14:28</td>\n",
              "      <td>16103</td>\n",
              "      <td>21093</td>\n",
              "      <td>RETWEET</td>\n",
              "      <td>Hashtager</td>\n",
              "      <td>1</td>\n",
              "      <td>HashtagGamer</td>\n",
              "      <td>727867503054102528</td>\n",
              "      <td>http://twitter.com/AndyHashtagger/statuses/727...</td>\n",
              "      <td>https://twitter.com/russell_herndon/status/727...</td>\n",
              "      <td>NaN</td>\n",
              "      <td>NaN</td>\n",
              "    </tr>\n",
              "    <tr>\n",
              "      <th>19</th>\n",
              "      <td>19</td>\n",
              "      <td>ADRIENNE_GG</td>\n",
              "      <td>Living room floor. #MyBedroomIn3Words</td>\n",
              "      <td>United States</td>\n",
              "      <td>English</td>\n",
              "      <td>10/10/2016 10:11</td>\n",
              "      <td>2072</td>\n",
              "      <td>1624</td>\n",
              "      <td>TWEET</td>\n",
              "      <td>Hashtager</td>\n",
              "      <td>0</td>\n",
              "      <td>HashtagGamer</td>\n",
              "      <td>785422504944734209</td>\n",
              "      <td>http://twitter.com/Adrienne_GG/statuses/785422...</td>\n",
              "      <td>NaN</td>\n",
              "      <td>NaN</td>\n",
              "      <td>NaN</td>\n",
              "    </tr>\n",
              "    <tr>\n",
              "      <th>20</th>\n",
              "      <td>20</td>\n",
              "      <td>ALYSSABEDOLLA</td>\n",
              "      <td>Mom and Dad's home movies that I found hidden ...</td>\n",
              "      <td>United States</td>\n",
              "      <td>English</td>\n",
              "      <td>2/2/2016 14:33</td>\n",
              "      <td>1311</td>\n",
              "      <td>791</td>\n",
              "      <td>RETWEET</td>\n",
              "      <td>Hashtager</td>\n",
              "      <td>1</td>\n",
              "      <td>HashtagGamer</td>\n",
              "      <td>694528955047616512</td>\n",
              "      <td>http://twitter.com/AlyssaBedolla/statuses/6945...</td>\n",
              "      <td>NaN</td>\n",
              "      <td>NaN</td>\n",
              "      <td>NaN</td>\n",
              "    </tr>\n",
              "  </tbody>\n",
              "</table>\n",
              "</div>"
            ],
            "text/plain": [
              "    id          author                                            content  \\\n",
              "6    6     ANNIEPOSHES  #ItsUnacceptableTo turn me on and not finish t...   \n",
              "9    9    ABIGAILSSILK  Come find us at the national mall for the #DC ...   \n",
              "12  12  ANDYHASHTAGGER  #IfIWereTedCruz I'd have time to stand around ...   \n",
              "19  19     ADRIENNE_GG              Living room floor. #MyBedroomIn3Words   \n",
              "20  20   ALYSSABEDOLLA  Mom and Dad's home movies that I found hidden ...   \n",
              "\n",
              "           region language      publish_date  following  followers post_type  \\\n",
              "6   United States  English  11/16/2016 15:42       2422       2598   RETWEET   \n",
              "9   United States  English   7/30/2016 20:34        464        506   RETWEET   \n",
              "12  United States  English    5/4/2016 14:28      16103      21093   RETWEET   \n",
              "19  United States  English  10/10/2016 10:11       2072       1624     TWEET   \n",
              "20  United States  English    2/2/2016 14:33       1311        791   RETWEET   \n",
              "\n",
              "   account_type  retweet account_category            tweet_id  \\\n",
              "6     Hashtager        1     HashtagGamer  798914258054488064   \n",
              "9     Hashtager        1     HashtagGamer  759487455493885952   \n",
              "12    Hashtager        1     HashtagGamer  727867503054102528   \n",
              "19    Hashtager        0     HashtagGamer  785422504944734209   \n",
              "20    Hashtager        1     HashtagGamer  694528955047616512   \n",
              "\n",
              "                                          article_url  \\\n",
              "6   http://twitter.com/2500690416/statuses/7989142...   \n",
              "9   http://twitter.com/abigailssilk/statuses/75948...   \n",
              "12  http://twitter.com/AndyHashtagger/statuses/727...   \n",
              "19  http://twitter.com/Adrienne_GG/statuses/785422...   \n",
              "20  http://twitter.com/AlyssaBedolla/statuses/6945...   \n",
              "\n",
              "                                           tco1_step1 tco2_step1 tco3_step1  \n",
              "6   https://twitter.com/tcanham459/status/79890956...        NaN        NaN  \n",
              "9   https://twitter.com/notiontheory/status/759450...        NaN        NaN  \n",
              "12  https://twitter.com/russell_herndon/status/727...        NaN        NaN  \n",
              "19                                                NaN        NaN        NaN  \n",
              "20                                                NaN        NaN        NaN  "
            ]
          },
          "metadata": {
            "tags": []
          },
          "execution_count": 43
        }
      ]
    },
    {
      "cell_type": "code",
      "metadata": {
        "id": "Qe_Y9JD7iuN3",
        "outputId": "21bf0cf2-e5c3-4d79-fb5c-4e409609d742"
      },
      "source": [
        "hashtag_gamer = Hashtager.content.str.extractall('(#\\w+)')\n",
        "hashtag_gamer[0].value_counts().head(30)"
      ],
      "execution_count": null,
      "outputs": [
        {
          "output_type": "execute_result",
          "data": {
            "text/plain": [
              "#ObamaNextJob                 121\n",
              "#ToDoListBeforeChristmas       81\n",
              "#IHatePokemonGoBecause         79\n",
              "#ThingsIWontTellMyDad          78\n",
              "#ThingsYouCantIgnore           73\n",
              "#PresentsTrumpGot              67\n",
              "#TrumpsFavoriteHeadline        67\n",
              "#SextingWentWrongWhen          67\n",
              "#ReasonsToLeaveEU              60\n",
              "#MustBeBanned                  58\n",
              "#WhenIWasYoung                 57\n",
              "#ToAvoidWorkI                  54\n",
              "#ILoveMyFriendsBut             54\n",
              "#SignsYouAreAmerican           53\n",
              "#IAmNotThePresidentBecause     52\n",
              "#GrowingUpWithObama            52\n",
              "#GiftIdeasForPoliticians       51\n",
              "#ValentinesDayIn3Words         50\n",
              "#INeedALawyerBecause           49\n",
              "#HowToMakeAManGay              49\n",
              "#ISISaMovie                    48\n",
              "#HowToLoseYourJob              47\n",
              "#ThingsEveryBoyWantsToHear     46\n",
              "#RejectedDebateTopics          46\n",
              "#IfIWereYourMom                45\n",
              "#IGetDepressedWhen             45\n",
              "#IfIWereTedCruz                44\n",
              "#MyMondayStartsWith            43\n",
              "#MyUselessSuperpower           43\n",
              "#NoOffenceBut                  43\n",
              "Name: 0, dtype: int64"
            ]
          },
          "metadata": {
            "tags": []
          },
          "execution_count": 44
        }
      ]
    },
    {
      "cell_type": "code",
      "metadata": {
        "scrolled": true,
        "id": "WsZW9X7MiuN4",
        "outputId": "06d13a7f-627c-4c7d-f44a-00aa3588356c"
      },
      "source": [
        "Hashtager['author'].value_counts()"
      ],
      "execution_count": null,
      "outputs": [
        {
          "output_type": "execute_result",
          "data": {
            "text/plain": [
              "ANDYHASHTAGGER     2369\n",
              "AMANDAVGREEN       1110\n",
              "AIDEN7757           860\n",
              "ANNIEPOSHES         736\n",
              "ADRIENNE_GG         724\n",
              "ANDYDREWDANIELS     440\n",
              "ABIGAILSSILK        414\n",
              "ALYSSABEDOLLA        72\n",
              "AGNESGRHM            55\n",
              "ANTIEHARMON          39\n",
              "ADKEZLATE            29\n",
              "ARONHOLDEN8          28\n",
              "ASHLEYSIMPSN         24\n",
              "AFUCKINSIDE          13\n",
              "ANTHONYCANLASS       10\n",
              "AESPARZZA             4\n",
              "ARYANNAJ0NES          2\n",
              "Name: author, dtype: int64"
            ]
          },
          "metadata": {
            "tags": []
          },
          "execution_count": 45
        }
      ]
    },
    {
      "cell_type": "markdown",
      "metadata": {
        "id": "WqDYF7yDiuN5"
      },
      "source": [
        "'ANDYHASTAGGER' is the most active tweeter"
      ]
    },
    {
      "cell_type": "code",
      "metadata": {
        "id": "oPOWC7BziuN5",
        "outputId": "453342a7-4c51-465b-e26d-3f660cb9479a"
      },
      "source": [
        "unique_authors = Hashtager['author'].nunique()\n",
        "print(f'Total number of unique authors in this category: {unique_authors}')"
      ],
      "execution_count": null,
      "outputs": [
        {
          "output_type": "stream",
          "text": [
            "Total number of unique authors in this category: 17\n"
          ],
          "name": "stdout"
        }
      ]
    },
    {
      "cell_type": "code",
      "metadata": {
        "id": "BtewrbOhiuN6",
        "outputId": "a3b65921-7997-4f1c-e1ea-52ffa1262e3f"
      },
      "source": [
        "total_tweets_by_andy = Hashtager[Hashtager['author'] == 'ANDYHASHTAGGER']\n",
        "print(f'Total tweets made by ANDYHASHTAGGER: {total_tweets_by_andy.shape[0]}')\n",
        "retweets_by_andy = total_tweets_by_andy[total_tweets_by_andy['retweet'] == 1]\n",
        "print(F'Retweets by ANDYHASHTAGGER: {retweets_by_andy.shape[0]}')\n",
        "rt_to_tweet_andy = (retweets_by_andy.shape[0])/(total_tweets_by_andy.shape[0])\n",
        "print(f'Ratio of ANDYHASHTAGGER retweets to tweets: {rt_to_tweet_andy}')"
      ],
      "execution_count": null,
      "outputs": [
        {
          "output_type": "stream",
          "text": [
            "Total tweets made by ANDYHASHTAGGER: 2369\n",
            "Retweets by ANDYHASHTAGGER: 1559\n",
            "Ratio of ANDYHASHTAGGER retweets to tweets: 0.6580835795694386\n"
          ],
          "name": "stdout"
        }
      ]
    },
    {
      "cell_type": "code",
      "metadata": {
        "id": "vt8iqYCBiuN7",
        "outputId": "d098ee74-3e5f-4061-a6cf-f5cd5fd4fe0d"
      },
      "source": [
        "fearmonger = data[data['account_category'] =='Fearmonger']\n",
        "fearmonger.head()"
      ],
      "execution_count": null,
      "outputs": [
        {
          "output_type": "execute_result",
          "data": {
            "text/html": [
              "<div>\n",
              "<style scoped>\n",
              "    .dataframe tbody tr th:only-of-type {\n",
              "        vertical-align: middle;\n",
              "    }\n",
              "\n",
              "    .dataframe tbody tr th {\n",
              "        vertical-align: top;\n",
              "    }\n",
              "\n",
              "    .dataframe thead th {\n",
              "        text-align: right;\n",
              "    }\n",
              "</style>\n",
              "<table border=\"1\" class=\"dataframe\">\n",
              "  <thead>\n",
              "    <tr style=\"text-align: right;\">\n",
              "      <th></th>\n",
              "      <th>id</th>\n",
              "      <th>author</th>\n",
              "      <th>content</th>\n",
              "      <th>region</th>\n",
              "      <th>language</th>\n",
              "      <th>publish_date</th>\n",
              "      <th>following</th>\n",
              "      <th>followers</th>\n",
              "      <th>post_type</th>\n",
              "      <th>account_type</th>\n",
              "      <th>retweet</th>\n",
              "      <th>account_category</th>\n",
              "      <th>tweet_id</th>\n",
              "      <th>article_url</th>\n",
              "      <th>tco1_step1</th>\n",
              "      <th>tco2_step1</th>\n",
              "      <th>tco3_step1</th>\n",
              "    </tr>\n",
              "  </thead>\n",
              "  <tbody>\n",
              "    <tr>\n",
              "      <th>217</th>\n",
              "      <td>218</td>\n",
              "      <td>AARONALLENALL</td>\n",
              "      <td>#nofucksgiving #KochFarms https://t.co/fgPfrbCH30</td>\n",
              "      <td>United States</td>\n",
              "      <td>English</td>\n",
              "      <td>11/27/2015 0:42</td>\n",
              "      <td>52</td>\n",
              "      <td>51</td>\n",
              "      <td>RETWEET</td>\n",
              "      <td>Koch</td>\n",
              "      <td>1</td>\n",
              "      <td>Fearmonger</td>\n",
              "      <td>670040057890279424</td>\n",
              "      <td>http://twitter.com/AaronAllenAll/statuses/6700...</td>\n",
              "      <td>http://www.discusscooking.com/forums/f26/very-...</td>\n",
              "      <td>NaN</td>\n",
              "      <td>NaN</td>\n",
              "    </tr>\n",
              "    <tr>\n",
              "      <th>875</th>\n",
              "      <td>876</td>\n",
              "      <td>ARTHCLAUDIA</td>\n",
              "      <td>#DemnDebate #DEMDebate is a joke. You know wha...</td>\n",
              "      <td>United States</td>\n",
              "      <td>English</td>\n",
              "      <td>11/15/2015 3:02</td>\n",
              "      <td>15</td>\n",
              "      <td>31</td>\n",
              "      <td>TWEET</td>\n",
              "      <td>Koch</td>\n",
              "      <td>0</td>\n",
              "      <td>Fearmonger</td>\n",
              "      <td>665726481637642241</td>\n",
              "      <td>http://twitter.com/ArthClaudia/statuses/665726...</td>\n",
              "      <td>NaN</td>\n",
              "      <td>NaN</td>\n",
              "      <td>NaN</td>\n",
              "    </tr>\n",
              "    <tr>\n",
              "      <th>1246</th>\n",
              "      <td>1247</td>\n",
              "      <td>ARTHCLAUDIA</td>\n",
              "      <td>#DemnDebate Majority of DC superdelegates back...</td>\n",
              "      <td>United States</td>\n",
              "      <td>English</td>\n",
              "      <td>11/15/2015 3:31</td>\n",
              "      <td>15</td>\n",
              "      <td>31</td>\n",
              "      <td>TWEET</td>\n",
              "      <td>Koch</td>\n",
              "      <td>0</td>\n",
              "      <td>Fearmonger</td>\n",
              "      <td>665733908676251649</td>\n",
              "      <td>http://twitter.com/ArthClaudia/statuses/665733...</td>\n",
              "      <td>NaN</td>\n",
              "      <td>NaN</td>\n",
              "      <td>NaN</td>\n",
              "    </tr>\n",
              "    <tr>\n",
              "      <th>1824</th>\n",
              "      <td>1826</td>\n",
              "      <td>1D_NICOLE_</td>\n",
              "      <td>Unreal friendship may turn to real. But real f...</td>\n",
              "      <td>United States</td>\n",
              "      <td>English</td>\n",
              "      <td>5/25/2015 12:39</td>\n",
              "      <td>59</td>\n",
              "      <td>51</td>\n",
              "      <td>TWEET</td>\n",
              "      <td>Koch</td>\n",
              "      <td>0</td>\n",
              "      <td>Fearmonger</td>\n",
              "      <td>602816241649229824</td>\n",
              "      <td>http://twitter.com/1D_Nicole_/statuses/6028162...</td>\n",
              "      <td>NaN</td>\n",
              "      <td>NaN</td>\n",
              "      <td>NaN</td>\n",
              "    </tr>\n",
              "    <tr>\n",
              "      <th>1916</th>\n",
              "      <td>1918</td>\n",
              "      <td>ARTHCLAUDIA</td>\n",
              "      <td>#DogThanking Omg! #NY #USDA #Turkey #KochFarms...</td>\n",
              "      <td>United States</td>\n",
              "      <td>English</td>\n",
              "      <td>11/27/2015 0:22</td>\n",
              "      <td>15</td>\n",
              "      <td>31</td>\n",
              "      <td>RETWEET</td>\n",
              "      <td>Koch</td>\n",
              "      <td>1</td>\n",
              "      <td>Fearmonger</td>\n",
              "      <td>670034827731533824</td>\n",
              "      <td>http://twitter.com/ArthClaudia/statuses/670034...</td>\n",
              "      <td>https://en.wikipedia.org/wiki/2015_New_York_po...</td>\n",
              "      <td>NaN</td>\n",
              "      <td>NaN</td>\n",
              "    </tr>\n",
              "  </tbody>\n",
              "</table>\n",
              "</div>"
            ],
            "text/plain": [
              "        id         author                                            content  \\\n",
              "217    218  AARONALLENALL  #nofucksgiving #KochFarms https://t.co/fgPfrbCH30   \n",
              "875    876    ARTHCLAUDIA  #DemnDebate #DEMDebate is a joke. You know wha...   \n",
              "1246  1247    ARTHCLAUDIA  #DemnDebate Majority of DC superdelegates back...   \n",
              "1824  1826     1D_NICOLE_  Unreal friendship may turn to real. But real f...   \n",
              "1916  1918    ARTHCLAUDIA  #DogThanking Omg! #NY #USDA #Turkey #KochFarms...   \n",
              "\n",
              "             region language     publish_date  following  followers post_type  \\\n",
              "217   United States  English  11/27/2015 0:42         52         51   RETWEET   \n",
              "875   United States  English  11/15/2015 3:02         15         31     TWEET   \n",
              "1246  United States  English  11/15/2015 3:31         15         31     TWEET   \n",
              "1824  United States  English  5/25/2015 12:39         59         51     TWEET   \n",
              "1916  United States  English  11/27/2015 0:22         15         31   RETWEET   \n",
              "\n",
              "     account_type  retweet account_category            tweet_id  \\\n",
              "217          Koch        1       Fearmonger  670040057890279424   \n",
              "875          Koch        0       Fearmonger  665726481637642241   \n",
              "1246         Koch        0       Fearmonger  665733908676251649   \n",
              "1824         Koch        0       Fearmonger  602816241649229824   \n",
              "1916         Koch        1       Fearmonger  670034827731533824   \n",
              "\n",
              "                                            article_url  \\\n",
              "217   http://twitter.com/AaronAllenAll/statuses/6700...   \n",
              "875   http://twitter.com/ArthClaudia/statuses/665726...   \n",
              "1246  http://twitter.com/ArthClaudia/statuses/665733...   \n",
              "1824  http://twitter.com/1D_Nicole_/statuses/6028162...   \n",
              "1916  http://twitter.com/ArthClaudia/statuses/670034...   \n",
              "\n",
              "                                             tco1_step1 tco2_step1 tco3_step1  \n",
              "217   http://www.discusscooking.com/forums/f26/very-...        NaN        NaN  \n",
              "875                                                 NaN        NaN        NaN  \n",
              "1246                                                NaN        NaN        NaN  \n",
              "1824                                                NaN        NaN        NaN  \n",
              "1916  https://en.wikipedia.org/wiki/2015_New_York_po...        NaN        NaN  "
            ]
          },
          "metadata": {
            "tags": []
          },
          "execution_count": 48
        }
      ]
    },
    {
      "cell_type": "code",
      "metadata": {
        "id": "yzIecOw6iuN9",
        "outputId": "80e13cfa-ffb9-4071-b7f4-1a9b5ad1f290"
      },
      "source": [
        "hashtag_fearmonger = fearmonger.content.str.extractall('(#\\w+)')\n",
        "hashtag_fearmonger[0].value_counts().head(30)"
      ],
      "execution_count": null,
      "outputs": [
        {
          "output_type": "execute_result",
          "data": {
            "text/plain": [
              "#KochFarms               31\n",
              "#USDA                    14\n",
              "#NY                      12\n",
              "#FoodPoisoning           11\n",
              "#DemnDebate              11\n",
              "#FSIS                     9\n",
              "#Turkey                   8\n",
              "#DogThanking              8\n",
              "#NewYork                  7\n",
              "#DemDebate                5\n",
              "#turkey                   5\n",
              "#FergusonRemembers        5\n",
              "#Fail                     4\n",
              "#Ferguson                 4\n",
              "#Walmart                  4\n",
              "#ImThankfulFor            3\n",
              "#Kochfarms                3\n",
              "#SyrianArmy               2\n",
              "#TrumpCampaignSlogans     2\n",
              "#fail                     2\n",
              "#DumbGenieWishes          2\n",
              "#foodpoisoning            2\n",
              "#MikeBrown                2\n",
              "#Thanksgiving             2\n",
              "#DEMDebate                2\n",
              "#fergusonremembers        2\n",
              "#Palmyra                  2\n",
              "#Fergusonremembers        2\n",
              "#Congress                 2\n",
              "#thanksgiving             2\n",
              "Name: 0, dtype: int64"
            ]
          },
          "metadata": {
            "tags": []
          },
          "execution_count": 49
        }
      ]
    },
    {
      "cell_type": "code",
      "metadata": {
        "scrolled": true,
        "id": "66KA1DWviuN9",
        "outputId": "7d2bda3e-ec8d-4929-e1d1-6ac309742903"
      },
      "source": [
        "fearmonger['author'].value_counts()"
      ],
      "execution_count": null,
      "outputs": [
        {
          "output_type": "execute_result",
          "data": {
            "text/plain": [
              "ARTHCLAUDIA       29\n",
              "ALEXISFOXIE       20\n",
              "AAASSSSSHHH       11\n",
              "ARNOLDPARRK       11\n",
              "1D_NICOLE_         9\n",
              "ARIANNA_PER_RY     9\n",
              "AARONALLENALL      4\n",
              "AARON_M1TCHELL     2\n",
              "Name: author, dtype: int64"
            ]
          },
          "metadata": {
            "tags": []
          },
          "execution_count": 50
        }
      ]
    },
    {
      "cell_type": "markdown",
      "metadata": {
        "id": "S_aipT3KiuN9"
      },
      "source": [
        "'ARTHCLAUDIA' is the most active tweeter"
      ]
    },
    {
      "cell_type": "code",
      "metadata": {
        "id": "xxcyx88MiuN-",
        "outputId": "d2a38ccd-83d4-4c41-c6ce-274368621552"
      },
      "source": [
        "unique_authors = fearmonger['author'].nunique()\n",
        "print(f'Total number of unique authors in this category: {unique_authors}')"
      ],
      "execution_count": null,
      "outputs": [
        {
          "output_type": "stream",
          "text": [
            "Total number of unique authors in this category: 8\n"
          ],
          "name": "stdout"
        }
      ]
    },
    {
      "cell_type": "code",
      "metadata": {
        "id": "5f96YGGEiuN-",
        "outputId": "7c1b881c-b712-4f76-ec4e-681e974c9450"
      },
      "source": [
        "total_tweets_by_claudia = fearmonger[fearmonger['author'] == 'ARTHCLAUDIA']\n",
        "print(f'Total tweets made by ARTHCLAUDIA: {total_tweets_by_claudia.shape[0]}')\n",
        "retweets_by_claudia = total_tweets_by_claudia[total_tweets_by_claudia['retweet'] == 1]\n",
        "print(F'Retweets by ARTHCLAUDIA: {retweets_by_claudia.shape[0]}')\n",
        "rt_to_tweet_claudia = (retweets_by_claudia.shape[0])/(total_tweets_by_claudia.shape[0])\n",
        "print(f'Ratio of ARTHCLAUDIA retweets to tweets: {rt_to_tweet_claudia}')"
      ],
      "execution_count": null,
      "outputs": [
        {
          "output_type": "stream",
          "text": [
            "Total tweets made by ARTHCLAUDIA: 29\n",
            "Retweets by ARTHCLAUDIA: 12\n",
            "Ratio of ARTHCLAUDIA retweets to tweets: 0.41379310344827586\n"
          ],
          "name": "stdout"
        }
      ]
    },
    {
      "cell_type": "code",
      "metadata": {
        "id": "9Fdr4a-TiuN_",
        "outputId": "adf2117f-68c1-4690-94f0-82ea1647ed64"
      },
      "source": [
        "unknown = data[data['account_category'] =='Unknown']\n",
        "unknown.head()"
      ],
      "execution_count": null,
      "outputs": [
        {
          "output_type": "execute_result",
          "data": {
            "text/html": [
              "<div>\n",
              "<style scoped>\n",
              "    .dataframe tbody tr th:only-of-type {\n",
              "        vertical-align: middle;\n",
              "    }\n",
              "\n",
              "    .dataframe tbody tr th {\n",
              "        vertical-align: top;\n",
              "    }\n",
              "\n",
              "    .dataframe thead th {\n",
              "        text-align: right;\n",
              "    }\n",
              "</style>\n",
              "<table border=\"1\" class=\"dataframe\">\n",
              "  <thead>\n",
              "    <tr style=\"text-align: right;\">\n",
              "      <th></th>\n",
              "      <th>id</th>\n",
              "      <th>author</th>\n",
              "      <th>content</th>\n",
              "      <th>region</th>\n",
              "      <th>language</th>\n",
              "      <th>publish_date</th>\n",
              "      <th>following</th>\n",
              "      <th>followers</th>\n",
              "      <th>post_type</th>\n",
              "      <th>account_type</th>\n",
              "      <th>retweet</th>\n",
              "      <th>account_category</th>\n",
              "      <th>tweet_id</th>\n",
              "      <th>article_url</th>\n",
              "      <th>tco1_step1</th>\n",
              "      <th>tco2_step1</th>\n",
              "      <th>tco3_step1</th>\n",
              "    </tr>\n",
              "  </thead>\n",
              "  <tbody>\n",
              "    <tr>\n",
              "      <th>23</th>\n",
              "      <td>24</td>\n",
              "      <td>ARIELLE_BROWNIN</td>\n",
              "      <td>And the moral of the story: Pets make babies v...</td>\n",
              "      <td>United States</td>\n",
              "      <td>English</td>\n",
              "      <td>7/3/2015 15:39</td>\n",
              "      <td>3</td>\n",
              "      <td>0</td>\n",
              "      <td>TWEET</td>\n",
              "      <td>?</td>\n",
              "      <td>0</td>\n",
              "      <td>Unknown</td>\n",
              "      <td>616994717545431040</td>\n",
              "      <td>http://twitter.com/Arielle_Brownin/statuses/61...</td>\n",
              "      <td>http://youtu.be/vTyg4EgtTMc</td>\n",
              "      <td>NaN</td>\n",
              "      <td>NaN</td>\n",
              "    </tr>\n",
              "    <tr>\n",
              "      <th>734</th>\n",
              "      <td>735</td>\n",
              "      <td>666STEVEROGERS</td>\n",
              "      <td>Damn i wouldve brought my niggas there. Yall g...</td>\n",
              "      <td>Unknown</td>\n",
              "      <td>English</td>\n",
              "      <td>7/24/2017 22:09</td>\n",
              "      <td>129</td>\n",
              "      <td>7</td>\n",
              "      <td>RETWEET</td>\n",
              "      <td>?</td>\n",
              "      <td>1</td>\n",
              "      <td>Unknown</td>\n",
              "      <td>889608573398941696</td>\n",
              "      <td>http://twitter.com/713665792550645760/statuses...</td>\n",
              "      <td>https://twitter.com/blazinbombsheil/status/888...</td>\n",
              "      <td>NaN</td>\n",
              "      <td>NaN</td>\n",
              "    </tr>\n",
              "    <tr>\n",
              "      <th>1006</th>\n",
              "      <td>1007</td>\n",
              "      <td>666STEVEROGERS</td>\n",
              "      <td>I hate when GIRLS die</td>\n",
              "      <td>Unknown</td>\n",
              "      <td>Vietnamese</td>\n",
              "      <td>9/6/2017 18:56</td>\n",
              "      <td>133</td>\n",
              "      <td>10</td>\n",
              "      <td>RETWEET</td>\n",
              "      <td>?</td>\n",
              "      <td>1</td>\n",
              "      <td>Unknown</td>\n",
              "      <td>905505012155080704</td>\n",
              "      <td>http://twitter.com/713665792550645760/statuses...</td>\n",
              "      <td>NaN</td>\n",
              "      <td>NaN</td>\n",
              "      <td>NaN</td>\n",
              "    </tr>\n",
              "    <tr>\n",
              "      <th>1050</th>\n",
              "      <td>1051</td>\n",
              "      <td>ABIGAILCALLME</td>\n",
              "      <td>Friends Are Like Bras , Always Close To Your H...</td>\n",
              "      <td>United States</td>\n",
              "      <td>English</td>\n",
              "      <td>7/3/2015 8:26</td>\n",
              "      <td>76</td>\n",
              "      <td>48</td>\n",
              "      <td>TWEET</td>\n",
              "      <td>?</td>\n",
              "      <td>0</td>\n",
              "      <td>Unknown</td>\n",
              "      <td>616885793013903360</td>\n",
              "      <td>http://twitter.com/AbigailCallMe/statuses/6168...</td>\n",
              "      <td>NaN</td>\n",
              "      <td>NaN</td>\n",
              "      <td>NaN</td>\n",
              "    </tr>\n",
              "    <tr>\n",
              "      <th>1352</th>\n",
              "      <td>1353</td>\n",
              "      <td>ABRAMSREBEKAH</td>\n",
              "      <td>Enjoy the little things in life, because one d...</td>\n",
              "      <td>United States</td>\n",
              "      <td>English</td>\n",
              "      <td>5/25/2015 12:59</td>\n",
              "      <td>76</td>\n",
              "      <td>52</td>\n",
              "      <td>TWEET</td>\n",
              "      <td>?</td>\n",
              "      <td>0</td>\n",
              "      <td>Unknown</td>\n",
              "      <td>602821285274472449</td>\n",
              "      <td>http://twitter.com/AbramsRebekah/statuses/6028...</td>\n",
              "      <td>NaN</td>\n",
              "      <td>NaN</td>\n",
              "      <td>NaN</td>\n",
              "    </tr>\n",
              "  </tbody>\n",
              "</table>\n",
              "</div>"
            ],
            "text/plain": [
              "        id           author  \\\n",
              "23      24  ARIELLE_BROWNIN   \n",
              "734    735   666STEVEROGERS   \n",
              "1006  1007   666STEVEROGERS   \n",
              "1050  1051    ABIGAILCALLME   \n",
              "1352  1353    ABRAMSREBEKAH   \n",
              "\n",
              "                                                content         region  \\\n",
              "23    And the moral of the story: Pets make babies v...  United States   \n",
              "734   Damn i wouldve brought my niggas there. Yall g...        Unknown   \n",
              "1006                              I hate when GIRLS die        Unknown   \n",
              "1050  Friends Are Like Bras , Always Close To Your H...  United States   \n",
              "1352  Enjoy the little things in life, because one d...  United States   \n",
              "\n",
              "        language     publish_date  following  followers post_type  \\\n",
              "23       English   7/3/2015 15:39          3          0     TWEET   \n",
              "734      English  7/24/2017 22:09        129          7   RETWEET   \n",
              "1006  Vietnamese   9/6/2017 18:56        133         10   RETWEET   \n",
              "1050     English    7/3/2015 8:26         76         48     TWEET   \n",
              "1352     English  5/25/2015 12:59         76         52     TWEET   \n",
              "\n",
              "     account_type  retweet account_category            tweet_id  \\\n",
              "23              ?        0          Unknown  616994717545431040   \n",
              "734             ?        1          Unknown  889608573398941696   \n",
              "1006            ?        1          Unknown  905505012155080704   \n",
              "1050            ?        0          Unknown  616885793013903360   \n",
              "1352            ?        0          Unknown  602821285274472449   \n",
              "\n",
              "                                            article_url  \\\n",
              "23    http://twitter.com/Arielle_Brownin/statuses/61...   \n",
              "734   http://twitter.com/713665792550645760/statuses...   \n",
              "1006  http://twitter.com/713665792550645760/statuses...   \n",
              "1050  http://twitter.com/AbigailCallMe/statuses/6168...   \n",
              "1352  http://twitter.com/AbramsRebekah/statuses/6028...   \n",
              "\n",
              "                                             tco1_step1 tco2_step1 tco3_step1  \n",
              "23                          http://youtu.be/vTyg4EgtTMc        NaN        NaN  \n",
              "734   https://twitter.com/blazinbombsheil/status/888...        NaN        NaN  \n",
              "1006                                                NaN        NaN        NaN  \n",
              "1050                                                NaN        NaN        NaN  \n",
              "1352                                                NaN        NaN        NaN  "
            ]
          },
          "metadata": {
            "tags": []
          },
          "execution_count": 53
        }
      ]
    },
    {
      "cell_type": "code",
      "metadata": {
        "id": "SvHD5w0riuN_",
        "outputId": "b3305deb-443f-4008-d222-da1019ba5d58"
      },
      "source": [
        "hashtag_unknown = unknown.content.str.extractall('(#\\w+)')\n",
        "hashtag_unknown[0].value_counts().head(30)\n",
        "#while they are classified as unknown,\n",
        "#We notice some fall within some of the groups above"
      ],
      "execution_count": null,
      "outputs": [
        {
          "output_type": "execute_result",
          "data": {
            "text/plain": [
              "#MakeAMovieHillary    7\n",
              "#news                 6\n",
              "#local                4\n",
              "#2016Election         3\n",
              "#afdsieg              2\n",
              "#SPD                  2\n",
              "#PatriotAct           2\n",
              "#FDP                  1\n",
              "#entertainment        1\n",
              "#Flüchtlinge          1\n",
              "#WakeUpAmerica        1\n",
              "#Clinton              1\n",
              "#retweet              1\n",
              "#CSU                  1\n",
              "#Obama                1\n",
              "#Texas                1\n",
              "#Hastert              1\n",
              "#tvshow               1\n",
              "#quotes               1\n",
              "#iacaucus             1\n",
              "#ltw16                1\n",
              "#amirite              1\n",
              "#GOPStop              1\n",
              "#JunkScience          1\n",
              "#quote                1\n",
              "#SurveillanceDay      1\n",
              "#ToniBraxton          1\n",
              "#OrgyIsland           1\n",
              "#ThanksObama          1\n",
              "#FF                   1\n",
              "Name: 0, dtype: int64"
            ]
          },
          "metadata": {
            "tags": []
          },
          "execution_count": 54
        }
      ]
    },
    {
      "cell_type": "code",
      "metadata": {
        "scrolled": true,
        "id": "_9pyN-BbiuOA",
        "outputId": "98b05a82-d854-48ab-ac59-992b617dae05"
      },
      "source": [
        "unknown['author'].value_counts()"
      ],
      "execution_count": null,
      "outputs": [
        {
          "output_type": "execute_result",
          "data": {
            "text/plain": [
              "666STEVEROGERS     40\n",
              "ALVA_MC_GHEE       31\n",
              "ARIELLE_BROWNIN    22\n",
              "ABIGAILCALLME      19\n",
              "AMIRICANWILL        9\n",
              "ASHLEECOLLINSS      5\n",
              "ADELINE_GS          5\n",
              "ABRAMSREBEKAH       4\n",
              "AMIRAFERRR          3\n",
              "ANDSBXX30           3\n",
              "AMALIAHULICK        2\n",
              "ACHSAHORKHAN        2\n",
              "AMBERDAVV           1\n",
              "AGAINUKRFAKE        1\n",
              "ALFNEWDAY           1\n",
              "Name: author, dtype: int64"
            ]
          },
          "metadata": {
            "tags": []
          },
          "execution_count": 55
        }
      ]
    },
    {
      "cell_type": "markdown",
      "metadata": {
        "id": "mhNIAgdSiuOA"
      },
      "source": [
        "'666STEVEROGERS' is the most active tweeter"
      ]
    },
    {
      "cell_type": "code",
      "metadata": {
        "id": "gXX3STWAiuOB",
        "outputId": "e183b76f-6967-4c93-9677-daccee6167eb"
      },
      "source": [
        "unique_authors = unknown['author'].nunique()\n",
        "print(f'Total number of unique authors in this category: {unique_authors}')"
      ],
      "execution_count": null,
      "outputs": [
        {
          "output_type": "stream",
          "text": [
            "Total number of unique authors in this category: 15\n"
          ],
          "name": "stdout"
        }
      ]
    },
    {
      "cell_type": "code",
      "metadata": {
        "id": "tlR3az46iuOB",
        "outputId": "cb16ec08-adf7-4013-f190-238d2dfe3d48"
      },
      "source": [
        "total_tweets_by_rogers = unknown[unknown['author'] == '666STEVEROGERS']\n",
        "print(f'Total tweets made by 666STEVEROGERS: {total_tweets_by_rogers.shape[0]}')\n",
        "retweets_by_rogers = total_tweets_by_rogers[total_tweets_by_rogers['retweet'] == 1]\n",
        "print(F'Retweets by 666STEVEROGERS: {retweets_by_rogers.shape[0]}')\n",
        "rt_to_tweet_rogers = (retweets_by_rogers.shape[0])/(total_tweets_by_rogers.shape[0])\n",
        "print(f'Ratio of 666STEVEROGERS retweets to tweets: {rt_to_tweet_rogers}')"
      ],
      "execution_count": null,
      "outputs": [
        {
          "output_type": "stream",
          "text": [
            "Total tweets made by 666STEVEROGERS: 40\n",
            "Retweets by 666STEVEROGERS: 40\n",
            "Ratio of 666STEVEROGERS retweets to tweets: 1.0\n"
          ],
          "name": "stdout"
        }
      ]
    },
    {
      "cell_type": "markdown",
      "metadata": {
        "id": "tr090PcRiuOC"
      },
      "source": [
        "All tweets made by 666STEVEROGERS were retweets"
      ]
    },
    {
      "cell_type": "code",
      "metadata": {
        "id": "WhWI_EKTiuOC",
        "outputId": "4a7886ef-961c-4097-c896-b21d9d6bfa02"
      },
      "source": [
        "data['author'].value_counts()[:20]"
      ],
      "execution_count": null,
      "outputs": [
        {
          "output_type": "execute_result",
          "data": {
            "text/plain": [
              "AMELIEBALDWIN     8673\n",
              "ARM_2_ALAN        3749\n",
              "ANTONHAYHAY       2623\n",
              "ANDYHASHTAGGER    2369\n",
              "ALECMOOOOODY      2155\n",
              "ATLANTA_ONLINE    1991\n",
              "ACEJINEV          1522\n",
              "ADNNELSTR         1508\n",
              "ANIIANTRS         1279\n",
              "4MYSQUAD          1198\n",
              "AMANDAVGREEN      1110\n",
              "ALDRICH420         890\n",
              "AIDEN7757          860\n",
              "ALEXXDRTRR         780\n",
              "AMBERLINETR        738\n",
              "ANNIEPOSHES        736\n",
              "ADRIENNE_GG        724\n",
              "ALBUQUERQUEON      720\n",
              "ANAAISLEC          625\n",
              "ARCHIEOLIVERS      576\n",
              "Name: author, dtype: int64"
            ]
          },
          "metadata": {
            "tags": []
          },
          "execution_count": 58
        }
      ]
    },
    {
      "cell_type": "code",
      "metadata": {
        "id": "G8fctHF7iuOD",
        "outputId": "3dc0199b-c40e-41cc-b2ae-719f643fa2a1"
      },
      "source": [
        "plt.figure(figsize=(16,8))\n",
        "ax = sns.scatterplot(x=\"followers\", y=\"following\", hue=\"account_category\",data=data)\n",
        "plt.title('Follower and Following Counts by Account Category', fontsize = 15)\n",
        "plt.xlabel('Number of Followers', fontsize = 13)\n",
        "plt.ylabel('Number of Following', fontsize = 13)\n",
        "plt.legend(loc = 'best')"
      ],
      "execution_count": null,
      "outputs": [
        {
          "output_type": "execute_result",
          "data": {
            "text/plain": [
              "<matplotlib.legend.Legend at 0x21cca836310>"
            ]
          },
          "metadata": {
            "tags": []
          },
          "execution_count": 59
        },
        {
          "output_type": "display_data",
          "data": {
            "image/png": "[encoded data removed]",
            "text/plain": [
              "<Figure size 1152x576 with 1 Axes>"
            ]
          },
          "metadata": {
            "tags": [],
            "needs_background": "light"
          }
        }
      ]
    },
    {
      "cell_type": "markdown",
      "metadata": {
        "id": "y2Lg6UeCiuOD"
      },
      "source": [
        "From our plot: \n",
        "* HashtagGamers had high following and followers\n",
        "* The Newfeed accounts have high number of followers and average following\n",
        "* RightTroll accounts have an average amount of followers but very little following\n",
        "* LeftTroll accounts have low following and followers"
      ]
    },
    {
      "cell_type": "code",
      "metadata": {
        "id": "6k5Q33jGiuOD",
        "outputId": "8b95c7ae-2971-452c-d7c8-03e5b64de20f"
      },
      "source": [
        "#Top 10 Tweeters Overall\n",
        "data['author'].value_counts()[:10].index"
      ],
      "execution_count": null,
      "outputs": [
        {
          "output_type": "execute_result",
          "data": {
            "text/plain": [
              "Index(['AMELIEBALDWIN', 'ARM_2_ALAN', 'ANTONHAYHAY', 'ANDYHASHTAGGER',\n",
              "       'ALECMOOOOODY', 'ATLANTA_ONLINE', 'ACEJINEV', 'ADNNELSTR', 'ANIIANTRS',\n",
              "       '4MYSQUAD'],\n",
              "      dtype='object')"
            ]
          },
          "metadata": {
            "tags": []
          },
          "execution_count": 60
        }
      ]
    },
    {
      "cell_type": "code",
      "metadata": {
        "id": "UcqNckvdiuOE",
        "outputId": "81fcb1be-f9fe-46e5-b022-fab060e38f9f"
      },
      "source": [
        "select_tweet = data[data['content'] == \"I am here for a purpose and that purpose is to grow into a mountain, not to shrink to a grain of sand. - Mandino #quote via @roxanamjones\"]\n",
        "select_tweet"
      ],
      "execution_count": null,
      "outputs": [
        {
          "output_type": "execute_result",
          "data": {
            "text/html": [
              "<div>\n",
              "<style scoped>\n",
              "    .dataframe tbody tr th:only-of-type {\n",
              "        vertical-align: middle;\n",
              "    }\n",
              "\n",
              "    .dataframe tbody tr th {\n",
              "        vertical-align: top;\n",
              "    }\n",
              "\n",
              "    .dataframe thead th {\n",
              "        text-align: right;\n",
              "    }\n",
              "</style>\n",
              "<table border=\"1\" class=\"dataframe\">\n",
              "  <thead>\n",
              "    <tr style=\"text-align: right;\">\n",
              "      <th></th>\n",
              "      <th>id</th>\n",
              "      <th>author</th>\n",
              "      <th>content</th>\n",
              "      <th>region</th>\n",
              "      <th>language</th>\n",
              "      <th>publish_date</th>\n",
              "      <th>following</th>\n",
              "      <th>followers</th>\n",
              "      <th>post_type</th>\n",
              "      <th>account_type</th>\n",
              "      <th>retweet</th>\n",
              "      <th>account_category</th>\n",
              "      <th>tweet_id</th>\n",
              "      <th>article_url</th>\n",
              "      <th>tco1_step1</th>\n",
              "      <th>tco2_step1</th>\n",
              "      <th>tco3_step1</th>\n",
              "    </tr>\n",
              "  </thead>\n",
              "  <tbody>\n",
              "    <tr>\n",
              "      <th>31822</th>\n",
              "      <td>31874</td>\n",
              "      <td>AMELIEBALDWIN</td>\n",
              "      <td>I am here for a purpose and that purpose is to...</td>\n",
              "      <td>United States</td>\n",
              "      <td>English</td>\n",
              "      <td>12/10/2016 10:47</td>\n",
              "      <td>2362</td>\n",
              "      <td>2607</td>\n",
              "      <td>RETWEET</td>\n",
              "      <td>Right</td>\n",
              "      <td>1</td>\n",
              "      <td>RightTroll</td>\n",
              "      <td>807537138711588864</td>\n",
              "      <td>http://twitter.com/1679279490/statuses/8075371...</td>\n",
              "      <td>NaN</td>\n",
              "      <td>NaN</td>\n",
              "      <td>NaN</td>\n",
              "    </tr>\n",
              "  </tbody>\n",
              "</table>\n",
              "</div>"
            ],
            "text/plain": [
              "          id         author  \\\n",
              "31822  31874  AMELIEBALDWIN   \n",
              "\n",
              "                                                 content         region  \\\n",
              "31822  I am here for a purpose and that purpose is to...  United States   \n",
              "\n",
              "      language      publish_date  following  followers post_type account_type  \\\n",
              "31822  English  12/10/2016 10:47       2362       2607   RETWEET        Right   \n",
              "\n",
              "       retweet account_category            tweet_id  \\\n",
              "31822        1       RightTroll  807537138711588864   \n",
              "\n",
              "                                             article_url tco1_step1  \\\n",
              "31822  http://twitter.com/1679279490/statuses/8075371...        NaN   \n",
              "\n",
              "      tco2_step1 tco3_step1  \n",
              "31822        NaN        NaN  "
            ]
          },
          "metadata": {
            "tags": []
          },
          "execution_count": 61
        }
      ]
    },
    {
      "cell_type": "code",
      "metadata": {
        "id": "m_upPJFsiuOG",
        "outputId": "66733c2d-fe23-4b88-dcfd-e75118fc075d"
      },
      "source": [
        "#The author of the TWEET is AMELIEBALDWIN, a RightTroll\n",
        "#All tweets by AMELIEBALDWIN\n",
        "ameliebaldwin = data[data['author'] == 'AMELIEBALDWIN']\n",
        "ameliebaldwin_subset = ameliebaldwin[['author', 'content']]\n",
        "ameliebaldwin_subset.head()"
      ],
      "execution_count": null,
      "outputs": [
        {
          "output_type": "execute_result",
          "data": {
            "text/html": [
              "<div>\n",
              "<style scoped>\n",
              "    .dataframe tbody tr th:only-of-type {\n",
              "        vertical-align: middle;\n",
              "    }\n",
              "\n",
              "    .dataframe tbody tr th {\n",
              "        vertical-align: top;\n",
              "    }\n",
              "\n",
              "    .dataframe thead th {\n",
              "        text-align: right;\n",
              "    }\n",
              "</style>\n",
              "<table border=\"1\" class=\"dataframe\">\n",
              "  <thead>\n",
              "    <tr style=\"text-align: right;\">\n",
              "      <th></th>\n",
              "      <th>author</th>\n",
              "      <th>content</th>\n",
              "    </tr>\n",
              "  </thead>\n",
              "  <tbody>\n",
              "    <tr>\n",
              "      <th>3</th>\n",
              "      <td>AMELIEBALDWIN</td>\n",
              "      <td>.@JohnsonHildy may be on to something about th...</td>\n",
              "    </tr>\n",
              "    <tr>\n",
              "      <th>4</th>\n",
              "      <td>AMELIEBALDWIN</td>\n",
              "      <td>.@ViolaDavis just made #Oscars history, and it...</td>\n",
              "    </tr>\n",
              "    <tr>\n",
              "      <th>13</th>\n",
              "      <td>AMELIEBALDWIN</td>\n",
              "      <td>Still waiting for Coyne to call Trudeau a liar...</td>\n",
              "    </tr>\n",
              "    <tr>\n",
              "      <th>16</th>\n",
              "      <td>AMELIEBALDWIN</td>\n",
              "      <td>Donors Demand Accountng of $1.2BL (Hey #Dems-D...</td>\n",
              "    </tr>\n",
              "    <tr>\n",
              "      <th>26</th>\n",
              "      <td>AMELIEBALDWIN</td>\n",
              "      <td>Clinton: Half of Trump Supporters Are in ‘Bask...</td>\n",
              "    </tr>\n",
              "  </tbody>\n",
              "</table>\n",
              "</div>"
            ],
            "text/plain": [
              "           author                                            content\n",
              "3   AMELIEBALDWIN  .@JohnsonHildy may be on to something about th...\n",
              "4   AMELIEBALDWIN  .@ViolaDavis just made #Oscars history, and it...\n",
              "13  AMELIEBALDWIN  Still waiting for Coyne to call Trudeau a liar...\n",
              "16  AMELIEBALDWIN  Donors Demand Accountng of $1.2BL (Hey #Dems-D...\n",
              "26  AMELIEBALDWIN  Clinton: Half of Trump Supporters Are in ‘Bask..."
            ]
          },
          "metadata": {
            "tags": []
          },
          "execution_count": 62
        }
      ]
    },
    {
      "cell_type": "code",
      "metadata": {
        "id": "JRagECd3iuOH",
        "outputId": "644f0ead-db52-4362-9667-e3818e7e03fa"
      },
      "source": [
        "data['account_category'].value_counts()"
      ],
      "execution_count": null,
      "outputs": [
        {
          "output_type": "execute_result",
          "data": {
            "text/plain": [
              "RightTroll      28789\n",
              "LeftTroll        9036\n",
              "HashtagGamer     6929\n",
              "NewsFeed         2711\n",
              "Unknown           148\n",
              "Fearmonger         95\n",
              "Name: account_category, dtype: int64"
            ]
          },
          "metadata": {
            "tags": []
          },
          "execution_count": 63
        }
      ]
    },
    {
      "cell_type": "code",
      "metadata": {
        "id": "_38lrLaviuOH",
        "outputId": "98dd9ea3-83bb-45ee-bee5-c7eba6f51780"
      },
      "source": [
        "import datetime\n",
        "\n",
        "pd.set_option('mode.chained_assignment', None) # ignore pandas warning: \n",
        "# \"A value is trying to be set on a copy of a slice from a DataFrame\"\n",
        "\n",
        "type(data['publish_date'][0]) # returns string, need to format\n",
        "\n",
        "\n",
        "# Convert str to date/time with pandas\n",
        "data['publish_date']=pd.to_datetime(data['publish_date'],\n",
        "                                          infer_datetime_format=True)\n",
        "\n",
        "data.sort_values('publish_date',ascending=True)\n",
        "\n",
        "# Change formating to US dates\n",
        "data['publish_date_Only']=data['publish_date'].dt.strftime('%m/%d/%Y')\n",
        "\n",
        "\n",
        "data.head()"
      ],
      "execution_count": null,
      "outputs": [
        {
          "output_type": "execute_result",
          "data": {
            "text/html": [
              "<div>\n",
              "<style scoped>\n",
              "    .dataframe tbody tr th:only-of-type {\n",
              "        vertical-align: middle;\n",
              "    }\n",
              "\n",
              "    .dataframe tbody tr th {\n",
              "        vertical-align: top;\n",
              "    }\n",
              "\n",
              "    .dataframe thead th {\n",
              "        text-align: right;\n",
              "    }\n",
              "</style>\n",
              "<table border=\"1\" class=\"dataframe\">\n",
              "  <thead>\n",
              "    <tr style=\"text-align: right;\">\n",
              "      <th></th>\n",
              "      <th>id</th>\n",
              "      <th>author</th>\n",
              "      <th>content</th>\n",
              "      <th>region</th>\n",
              "      <th>language</th>\n",
              "      <th>publish_date</th>\n",
              "      <th>following</th>\n",
              "      <th>followers</th>\n",
              "      <th>post_type</th>\n",
              "      <th>account_type</th>\n",
              "      <th>retweet</th>\n",
              "      <th>account_category</th>\n",
              "      <th>tweet_id</th>\n",
              "      <th>article_url</th>\n",
              "      <th>tco1_step1</th>\n",
              "      <th>tco2_step1</th>\n",
              "      <th>tco3_step1</th>\n",
              "      <th>publish_date_Only</th>\n",
              "    </tr>\n",
              "  </thead>\n",
              "  <tbody>\n",
              "    <tr>\n",
              "      <th>0</th>\n",
              "      <td>0</td>\n",
              "      <td>ADNNELSTR</td>\n",
              "      <td>The empty podium says it all. The Marxists are...</td>\n",
              "      <td>Unknown</td>\n",
              "      <td>English</td>\n",
              "      <td>2017-08-13 21:00:00</td>\n",
              "      <td>946</td>\n",
              "      <td>83</td>\n",
              "      <td>TWEET</td>\n",
              "      <td>Right</td>\n",
              "      <td>0</td>\n",
              "      <td>RightTroll</td>\n",
              "      <td>896838937028775937</td>\n",
              "      <td>http://twitter.com/893370639309996032/statuses...</td>\n",
              "      <td>https://twitter.com/i/web/status/8968383433838...</td>\n",
              "      <td>NaN</td>\n",
              "      <td>NaN</td>\n",
              "      <td>08/13/2017</td>\n",
              "    </tr>\n",
              "    <tr>\n",
              "      <th>1</th>\n",
              "      <td>1</td>\n",
              "      <td>ATLANTA_ONLINE</td>\n",
              "      <td>Dust in your house may have toxic chemicals, s...</td>\n",
              "      <td>United States</td>\n",
              "      <td>English</td>\n",
              "      <td>2016-09-15 03:34:00</td>\n",
              "      <td>7825</td>\n",
              "      <td>17383</td>\n",
              "      <td>TWEET</td>\n",
              "      <td>local</td>\n",
              "      <td>0</td>\n",
              "      <td>NewsFeed</td>\n",
              "      <td>776262908388839424</td>\n",
              "      <td>http://twitter.com/Atlanta_Online/statuses/776...</td>\n",
              "      <td>http://on-ajc.com/2coKeyO</td>\n",
              "      <td>NaN</td>\n",
              "      <td>NaN</td>\n",
              "      <td>09/15/2016</td>\n",
              "    </tr>\n",
              "    <tr>\n",
              "      <th>2</th>\n",
              "      <td>2</td>\n",
              "      <td>ANTONHAYHAY</td>\n",
              "      <td>singers Get 1 million soundcloud plays for $45...</td>\n",
              "      <td>United States</td>\n",
              "      <td>English</td>\n",
              "      <td>2017-03-03 20:41:00</td>\n",
              "      <td>303</td>\n",
              "      <td>711</td>\n",
              "      <td>RETWEET</td>\n",
              "      <td>Left</td>\n",
              "      <td>1</td>\n",
              "      <td>LeftTroll</td>\n",
              "      <td>837764807826763781</td>\n",
              "      <td>http://twitter.com/1652262638/statuses/8377648...</td>\n",
              "      <td>https://twitter.com/jayceodpromoter/status/837...</td>\n",
              "      <td>http://bit.ly/2m4KZPJ</td>\n",
              "      <td>NaN</td>\n",
              "      <td>03/03/2017</td>\n",
              "    </tr>\n",
              "    <tr>\n",
              "      <th>3</th>\n",
              "      <td>3</td>\n",
              "      <td>AMELIEBALDWIN</td>\n",
              "      <td>.@JohnsonHildy may be on to something about th...</td>\n",
              "      <td>United States</td>\n",
              "      <td>English</td>\n",
              "      <td>2017-02-23 02:05:00</td>\n",
              "      <td>2322</td>\n",
              "      <td>2743</td>\n",
              "      <td>RETWEET</td>\n",
              "      <td>Right</td>\n",
              "      <td>1</td>\n",
              "      <td>RightTroll</td>\n",
              "      <td>834584872111001601</td>\n",
              "      <td>http://twitter.com/1679279490/statuses/8345848...</td>\n",
              "      <td>http://www.washingtonexaminer.com/james-okeefe...</td>\n",
              "      <td>NaN</td>\n",
              "      <td>NaN</td>\n",
              "      <td>02/23/2017</td>\n",
              "    </tr>\n",
              "    <tr>\n",
              "      <th>4</th>\n",
              "      <td>4</td>\n",
              "      <td>AMELIEBALDWIN</td>\n",
              "      <td>.@ViolaDavis just made #Oscars history, and it...</td>\n",
              "      <td>United States</td>\n",
              "      <td>English</td>\n",
              "      <td>2017-01-25 09:36:00</td>\n",
              "      <td>2340</td>\n",
              "      <td>2726</td>\n",
              "      <td>RETWEET</td>\n",
              "      <td>Right</td>\n",
              "      <td>1</td>\n",
              "      <td>RightTroll</td>\n",
              "      <td>824189182897754117</td>\n",
              "      <td>http://twitter.com/1679279490/statuses/8241891...</td>\n",
              "      <td>https://twitter.com/hellogiggles/status/824184...</td>\n",
              "      <td>http://trib.al/adflVAC</td>\n",
              "      <td>NaN</td>\n",
              "      <td>01/25/2017</td>\n",
              "    </tr>\n",
              "  </tbody>\n",
              "</table>\n",
              "</div>"
            ],
            "text/plain": [
              "   id          author                                            content  \\\n",
              "0   0       ADNNELSTR  The empty podium says it all. The Marxists are...   \n",
              "1   1  ATLANTA_ONLINE  Dust in your house may have toxic chemicals, s...   \n",
              "2   2     ANTONHAYHAY  singers Get 1 million soundcloud plays for $45...   \n",
              "3   3   AMELIEBALDWIN  .@JohnsonHildy may be on to something about th...   \n",
              "4   4   AMELIEBALDWIN  .@ViolaDavis just made #Oscars history, and it...   \n",
              "\n",
              "          region language        publish_date  following  followers post_type  \\\n",
              "0        Unknown  English 2017-08-13 21:00:00        946         83     TWEET   \n",
              "1  United States  English 2016-09-15 03:34:00       7825      17383     TWEET   \n",
              "2  United States  English 2017-03-03 20:41:00        303        711   RETWEET   \n",
              "3  United States  English 2017-02-23 02:05:00       2322       2743   RETWEET   \n",
              "4  United States  English 2017-01-25 09:36:00       2340       2726   RETWEET   \n",
              "\n",
              "  account_type  retweet account_category            tweet_id  \\\n",
              "0        Right        0       RightTroll  896838937028775937   \n",
              "1        local        0         NewsFeed  776262908388839424   \n",
              "2         Left        1        LeftTroll  837764807826763781   \n",
              "3        Right        1       RightTroll  834584872111001601   \n",
              "4        Right        1       RightTroll  824189182897754117   \n",
              "\n",
              "                                         article_url  \\\n",
              "0  http://twitter.com/893370639309996032/statuses...   \n",
              "1  http://twitter.com/Atlanta_Online/statuses/776...   \n",
              "2  http://twitter.com/1652262638/statuses/8377648...   \n",
              "3  http://twitter.com/1679279490/statuses/8345848...   \n",
              "4  http://twitter.com/1679279490/statuses/8241891...   \n",
              "\n",
              "                                          tco1_step1              tco2_step1  \\\n",
              "0  https://twitter.com/i/web/status/8968383433838...                     NaN   \n",
              "1                          http://on-ajc.com/2coKeyO                     NaN   \n",
              "2  https://twitter.com/jayceodpromoter/status/837...   http://bit.ly/2m4KZPJ   \n",
              "3  http://www.washingtonexaminer.com/james-okeefe...                     NaN   \n",
              "4  https://twitter.com/hellogiggles/status/824184...  http://trib.al/adflVAC   \n",
              "\n",
              "  tco3_step1 publish_date_Only  \n",
              "0        NaN        08/13/2017  \n",
              "1        NaN        09/15/2016  \n",
              "2        NaN        03/03/2017  \n",
              "3        NaN        02/23/2017  \n",
              "4        NaN        01/25/2017  "
            ]
          },
          "metadata": {
            "tags": []
          },
          "execution_count": 64
        }
      ]
    },
    {
      "cell_type": "code",
      "metadata": {
        "id": "krEXyKZYiuOH"
      },
      "source": [
        "# Setup new columns\n",
        "data['Month_Yr']=data['publish_date'].dt.strftime('%m/%Y')\n",
        "data['Day']=data['publish_date'].dt.strftime('%d')\n",
        "data['publish_date_Only']=pd.to_datetime(data['publish_date_Only'])"
      ],
      "execution_count": null,
      "outputs": []
    },
    {
      "cell_type": "code",
      "metadata": {
        "id": "j07rb_35iuOI"
      },
      "source": [
        "top_2_cat = data[(data['account_category'] == 'RightTroll') | (data['account_category'] == 'LeftTroll')]\n",
        "#top_2_cat = top_2_cat[['publish_date_Only','author','account_category']]"
      ],
      "execution_count": null,
      "outputs": []
    },
    {
      "cell_type": "code",
      "metadata": {
        "scrolled": true,
        "id": "7-qRFoEeiuOI",
        "outputId": "3e40f85d-799b-4450-dd00-7cec93d361a2"
      },
      "source": [
        "plt.figure(figsize=(11,7))\n",
        "plt.rcParams[\"figure.figsize\"] = (10,7)\n",
        "cat_2 = top_2_cat.groupby(['publish_date_Only','account_category'])['author'].count()\n",
        "\n",
        "# Reshape usa_medals_by_year by unstacking\n",
        "cat_2 = cat_2.unstack(level='account_category')\n",
        "\n",
        "# Plot the DataFrame usa_medals_by_year\n",
        "cat_2.plot()\n",
        "plt.show()                      "
      ],
      "execution_count": null,
      "outputs": [
        {
          "output_type": "display_data",
          "data": {
            "text/plain": [
              "<Figure size 792x504 with 0 Axes>"
            ]
          },
          "metadata": {
            "tags": []
          }
        },
        {
          "output_type": "display_data",
          "data": {
            "image/png": "[encoded data removed]",
            "text/plain": [
              "<Figure size 720x504 with 1 Axes>"
            ]
          },
          "metadata": {
            "tags": [],
            "needs_background": "light"
          }
        }
      ]
    },
    {
      "cell_type": "code",
      "metadata": {
        "id": "cm6FBHTkiuOI"
      },
      "source": [
        "next_2_cat = data[(data['account_category'] == 'HashtagGamer') | (data['account_category'] == 'NewsFeed')]"
      ],
      "execution_count": null,
      "outputs": []
    },
    {
      "cell_type": "code",
      "metadata": {
        "id": "5DcaCcU1iuOI",
        "outputId": "e92855f9-d186-4b45-f976-d9df674d963c"
      },
      "source": [
        "plt.rcParams[\"figure.figsize\"] = (15,7)\n",
        "next_2 = next_2_cat.groupby(['publish_date_Only','account_category'])['author'].count()\n",
        "\n",
        "# Reshape usa_medals_by_year by unstacking\n",
        "next_2 = next_2.unstack(level='account_category')\n",
        "\n",
        "# Plot the DataFrame usa_medals_by_year\n",
        "#sns.lineplot(data=next)\n",
        "next_2.plot()\n",
        "plt.show() "
      ],
      "execution_count": null,
      "outputs": [
        {
          "output_type": "display_data",
          "data": {
            "image/png": "[encoded data removed]",
            "text/plain": [
              "<Figure size 1080x504 with 1 Axes>"
            ]
          },
          "metadata": {
            "tags": [],
            "needs_background": "light"
          }
        }
      ]
    },
    {
      "cell_type": "code",
      "metadata": {
        "id": "Ra4pUCdSiuOJ",
        "outputId": "9dcbfdea-c174-4556-975c-e20d1e65522d"
      },
      "source": [
        "#Tweet timeline\n",
        "start_date = data['publish_date'].min()\n",
        "end_date = data['publish_date'].max()\n",
        "print(f'Start date {start_date}')\n",
        "print(f'End date {end_date}')"
      ],
      "execution_count": null,
      "outputs": [
        {
          "output_type": "stream",
          "text": [
            "Start date 2014-11-27 17:21:00\n",
            "End date 2018-03-20 18:57:00\n"
          ],
          "name": "stdout"
        }
      ]
    },
    {
      "cell_type": "markdown",
      "metadata": {
        "id": "kXJdWIC0iuOJ"
      },
      "source": [
        "The tweets are between January 2016 and September 2017"
      ]
    },
    {
      "cell_type": "code",
      "metadata": {
        "id": "wRPzW3skiuOK"
      },
      "source": [
        "publish_days = Counter([t for t in data['publish_date']])"
      ],
      "execution_count": null,
      "outputs": []
    },
    {
      "cell_type": "code",
      "metadata": {
        "id": "kJ1c4ZfdiuOK",
        "outputId": "9989f781-72c0-4708-f90e-3c697c5a3a01"
      },
      "source": [
        "publish_days"
      ],
      "execution_count": null,
      "outputs": [
        {
          "output_type": "execute_result",
          "data": {
            "text/plain": [
              "Counter({Timestamp('2017-08-13 21:00:00'): 5,\n",
              "         Timestamp('2016-09-15 03:34:00'): 1,\n",
              "         Timestamp('2017-03-03 20:41:00'): 3,\n",
              "         Timestamp('2017-02-23 02:05:00'): 3,\n",
              "         Timestamp('2017-01-25 09:36:00'): 1,\n",
              "         Timestamp('2015-06-10 14:31:00'): 2,\n",
              "         Timestamp('2016-11-16 15:42:00'): 6,\n",
              "         Timestamp('2017-08-17 00:20:00'): 1,\n",
              "         Timestamp('2017-08-04 20:19:00'): 8,\n",
              "         Timestamp('2016-07-30 20:34:00'): 1,\n",
              "         Timestamp('2017-04-02 19:48:00'): 2,\n",
              "         Timestamp('2015-07-22 14:12:00'): 3,\n",
              "         Timestamp('2016-05-04 14:28:00'): 3,\n",
              "         Timestamp('2016-12-15 18:11:00'): 2,\n",
              "         Timestamp('2017-03-28 03:21:00'): 2,\n",
              "         Timestamp('2016-10-09 05:04:00'): 2,\n",
              "         Timestamp('2016-12-17 14:50:00'): 3,\n",
              "         Timestamp('2017-04-11 20:12:00'): 2,\n",
              "         Timestamp('2017-08-16 01:42:00'): 2,\n",
              "         Timestamp('2016-10-10 10:11:00'): 1,\n",
              "         Timestamp('2016-02-02 14:33:00'): 2,\n",
              "         Timestamp('2015-08-25 14:43:00'): 1,\n",
              "         Timestamp('2017-08-15 16:56:00'): 9,\n",
              "         Timestamp('2015-07-03 15:39:00'): 1,\n",
              "         Timestamp('2016-05-11 14:11:00'): 1,\n",
              "         Timestamp('2015-07-04 09:52:00'): 3,\n",
              "         Timestamp('2016-09-10 09:48:00'): 1,\n",
              "         Timestamp('2015-08-28 13:34:00'): 1,\n",
              "         Timestamp('2016-09-19 14:12:00'): 3,\n",
              "         Timestamp('2016-09-16 12:16:00'): 3,\n",
              "         Timestamp('2016-05-03 17:36:00'): 1,\n",
              "         Timestamp('2017-04-08 16:09:00'): 1,\n",
              "         Timestamp('2017-07-27 22:03:00'): 2,\n",
              "         Timestamp('2017-04-13 13:58:00'): 2,\n",
              "         Timestamp('2016-06-21 14:11:00'): 2,\n",
              "         Timestamp('2017-07-30 23:46:00'): 1,\n",
              "         Timestamp('2017-08-17 16:24:00'): 9,\n",
              "         Timestamp('2016-09-11 05:27:00'): 1,\n",
              "         Timestamp('2017-04-20 08:40:00'): 1,\n",
              "         Timestamp('2016-09-18 00:07:00'): 3,\n",
              "         Timestamp('2016-08-29 13:58:00'): 3,\n",
              "         Timestamp('2017-08-18 17:24:00'): 14,\n",
              "         Timestamp('2017-08-18 14:33:00'): 3,\n",
              "         Timestamp('2015-06-09 06:52:00'): 1,\n",
              "         Timestamp('2016-10-29 21:37:00'): 2,\n",
              "         Timestamp('2015-08-22 13:55:00'): 1,\n",
              "         Timestamp('2016-12-11 13:24:00'): 1,\n",
              "         Timestamp('2017-04-09 16:59:00'): 1,\n",
              "         Timestamp('2017-08-16 02:10:00'): 7,\n",
              "         Timestamp('2016-05-24 17:09:00'): 2,\n",
              "         Timestamp('2015-07-23 01:51:00'): 4,\n",
              "         Timestamp('2017-03-27 22:49:00'): 3,\n",
              "         Timestamp('2017-08-12 11:26:00'): 1,\n",
              "         Timestamp('2016-09-01 14:19:00'): 2,\n",
              "         Timestamp('2015-06-09 02:34:00'): 1,\n",
              "         Timestamp('2017-02-03 02:10:00'): 1,\n",
              "         Timestamp('2017-08-15 00:31:00'): 11,\n",
              "         Timestamp('2017-08-18 06:12:00'): 11,\n",
              "         Timestamp('2016-11-24 09:10:00'): 1,\n",
              "         Timestamp('2016-12-27 18:22:00'): 1,\n",
              "         Timestamp('2016-11-03 14:57:00'): 2,\n",
              "         Timestamp('2017-04-14 03:39:00'): 1,\n",
              "         Timestamp('2017-03-14 12:53:00'): 2,\n",
              "         Timestamp('2016-06-20 13:30:00'): 1,\n",
              "         Timestamp('2016-06-19 15:47:00'): 5,\n",
              "         Timestamp('2015-11-16 15:22:00'): 1,\n",
              "         Timestamp('2016-07-26 09:13:00'): 1,\n",
              "         Timestamp('2017-08-12 18:52:00'): 11,\n",
              "         Timestamp('2015-07-22 21:52:00'): 5,\n",
              "         Timestamp('2017-08-12 08:42:00'): 1,\n",
              "         Timestamp('2016-12-09 23:19:00'): 3,\n",
              "         Timestamp('2016-02-13 11:35:00'): 1,\n",
              "         Timestamp('2017-08-01 12:43:00'): 1,\n",
              "         Timestamp('2017-08-15 17:00:00'): 6,\n",
              "         Timestamp('2015-01-12 08:45:00'): 1,\n",
              "         Timestamp('2017-08-11 13:10:00'): 8,\n",
              "         Timestamp('2016-11-22 21:21:00'): 2,\n",
              "         Timestamp('2015-07-23 01:32:00'): 3,\n",
              "         Timestamp('2017-08-10 15:34:00'): 2,\n",
              "         Timestamp('2017-04-22 04:05:00'): 4,\n",
              "         Timestamp('2017-02-16 10:41:00'): 3,\n",
              "         Timestamp('2017-07-01 19:56:00'): 2,\n",
              "         Timestamp('2017-08-18 17:29:00'): 6,\n",
              "         Timestamp('2015-09-18 17:51:00'): 1,\n",
              "         Timestamp('2016-09-19 14:10:00'): 1,\n",
              "         Timestamp('2016-10-06 22:24:00'): 1,\n",
              "         Timestamp('2017-03-01 11:18:00'): 1,\n",
              "         Timestamp('2017-08-18 09:29:00'): 7,\n",
              "         Timestamp('2015-01-20 14:21:00'): 1,\n",
              "         Timestamp('2017-08-15 21:54:00'): 6,\n",
              "         Timestamp('2017-10-01 02:47:00'): 1,\n",
              "         Timestamp('2017-12-21 03:09:00'): 1,\n",
              "         Timestamp('2015-07-04 12:18:00'): 3,\n",
              "         Timestamp('2016-11-14 14:40:00'): 3,\n",
              "         Timestamp('2017-04-10 11:39:00'): 1,\n",
              "         Timestamp('2016-11-28 15:10:00'): 6,\n",
              "         Timestamp('2016-10-06 08:42:00'): 1,\n",
              "         Timestamp('2017-08-13 16:22:00'): 2,\n",
              "         Timestamp('2015-06-11 23:31:00'): 1,\n",
              "         Timestamp('2016-09-28 15:13:00'): 3,\n",
              "         Timestamp('2015-04-11 14:42:00'): 2,\n",
              "         Timestamp('2016-09-17 00:07:00'): 2,\n",
              "         Timestamp('2017-08-17 14:10:00'): 1,\n",
              "         Timestamp('2017-08-16 14:25:00'): 16,\n",
              "         Timestamp('2017-04-12 07:28:00'): 1,\n",
              "         Timestamp('2016-06-29 20:29:00'): 1,\n",
              "         Timestamp('2015-10-24 10:03:00'): 1,\n",
              "         Timestamp('2016-03-17 20:09:00'): 1,\n",
              "         Timestamp('2017-07-25 08:52:00'): 6,\n",
              "         Timestamp('2016-12-31 04:23:00'): 1,\n",
              "         Timestamp('2016-10-06 17:35:00'): 1,\n",
              "         Timestamp('2017-10-10 20:22:00'): 1,\n",
              "         Timestamp('2017-08-29 16:42:00'): 6,\n",
              "         Timestamp('2017-04-19 16:57:00'): 2,\n",
              "         Timestamp('2015-06-10 12:32:00'): 1,\n",
              "         Timestamp('2016-05-04 08:06:00'): 1,\n",
              "         Timestamp('2016-11-23 15:43:00'): 3,\n",
              "         Timestamp('2015-06-10 15:33:00'): 1,\n",
              "         Timestamp('2017-05-24 04:35:00'): 1,\n",
              "         Timestamp('2017-08-17 16:34:00'): 8,\n",
              "         Timestamp('2016-12-12 18:08:00'): 3,\n",
              "         Timestamp('2017-08-14 07:40:00'): 1,\n",
              "         Timestamp('2017-01-24 08:07:00'): 1,\n",
              "         Timestamp('2016-02-15 14:38:00'): 1,\n",
              "         Timestamp('2015-06-08 04:52:00'): 1,\n",
              "         Timestamp('2017-03-21 13:50:00'): 3,\n",
              "         Timestamp('2015-06-11 15:13:00'): 1,\n",
              "         Timestamp('2016-09-18 12:03:00'): 1,\n",
              "         Timestamp('2015-10-08 09:51:00'): 1,\n",
              "         Timestamp('2015-06-10 21:53:00'): 1,\n",
              "         Timestamp('2017-06-26 16:57:00'): 1,\n",
              "         Timestamp('2016-05-27 13:31:00'): 1,\n",
              "         Timestamp('2017-08-18 18:47:00'): 2,\n",
              "         Timestamp('2017-02-13 02:41:00'): 2,\n",
              "         Timestamp('2015-06-17 04:52:00'): 1,\n",
              "         Timestamp('2017-08-12 07:34:00'): 1,\n",
              "         Timestamp('2017-08-12 18:50:00'): 6,\n",
              "         Timestamp('2016-01-25 10:11:00'): 1,\n",
              "         Timestamp('2017-08-11 15:40:00'): 6,\n",
              "         Timestamp('2017-08-09 02:46:00'): 12,\n",
              "         Timestamp('2017-03-18 02:50:00'): 3,\n",
              "         Timestamp('2017-08-09 12:30:00'): 6,\n",
              "         Timestamp('2017-09-14 21:08:00'): 4,\n",
              "         Timestamp('2017-08-08 14:30:00'): 5,\n",
              "         Timestamp('2016-11-24 14:07:00'): 2,\n",
              "         Timestamp('2015-01-20 14:49:00'): 1,\n",
              "         Timestamp('2017-02-08 16:03:00'): 3,\n",
              "         Timestamp('2015-11-09 15:06:00'): 1,\n",
              "         Timestamp('2016-09-19 15:56:00'): 2,\n",
              "         Timestamp('2017-01-31 08:34:00'): 3,\n",
              "         Timestamp('2017-03-05 05:52:00'): 2,\n",
              "         Timestamp('2015-11-27 00:10:00'): 5,\n",
              "         Timestamp('2017-04-02 17:35:00'): 2,\n",
              "         Timestamp('2017-08-12 19:00:00'): 10,\n",
              "         Timestamp('2017-08-15 17:14:00'): 7,\n",
              "         Timestamp('2016-12-09 09:05:00'): 2,\n",
              "         Timestamp('2017-08-14 05:41:00'): 2,\n",
              "         Timestamp('2017-07-29 20:25:00'): 1,\n",
              "         Timestamp('2017-02-23 17:31:00'): 6,\n",
              "         Timestamp('2017-08-07 20:06:00'): 5,\n",
              "         Timestamp('2016-06-13 13:44:00'): 1,\n",
              "         Timestamp('2017-08-15 00:44:00'): 8,\n",
              "         Timestamp('2015-06-02 22:14:00'): 2,\n",
              "         Timestamp('2016-02-09 17:02:00'): 1,\n",
              "         Timestamp('2017-08-10 16:55:00'): 8,\n",
              "         Timestamp('2017-08-11 09:27:00'): 1,\n",
              "         Timestamp('2015-07-22 08:12:00'): 3,\n",
              "         Timestamp('2015-08-25 10:12:00'): 1,\n",
              "         Timestamp('2017-06-30 02:48:00'): 3,\n",
              "         Timestamp('2017-08-12 17:10:00'): 2,\n",
              "         Timestamp('2016-09-28 13:51:00'): 2,\n",
              "         Timestamp('2015-07-23 08:11:00'): 9,\n",
              "         Timestamp('2017-08-10 11:41:00'): 7,\n",
              "         Timestamp('2015-12-02 13:15:00'): 1,\n",
              "         Timestamp('2016-12-10 09:43:00'): 1,\n",
              "         Timestamp('2017-08-18 19:03:00'): 2,\n",
              "         Timestamp('2016-08-17 14:25:00'): 1,\n",
              "         Timestamp('2017-08-12 15:56:00'): 1,\n",
              "         Timestamp('2017-02-14 16:26:00'): 5,\n",
              "         Timestamp('2016-10-12 14:14:00'): 4,\n",
              "         Timestamp('2017-03-01 15:30:00'): 1,\n",
              "         Timestamp('2017-08-15 05:28:00'): 1,\n",
              "         Timestamp('2017-08-13 20:15:00'): 6,\n",
              "         Timestamp('2016-12-12 04:46:00'): 2,\n",
              "         Timestamp('2017-01-23 20:12:00'): 2,\n",
              "         Timestamp('2016-08-15 09:11:00'): 2,\n",
              "         Timestamp('2017-08-16 04:00:00'): 1,\n",
              "         Timestamp('2015-12-20 10:04:00'): 2,\n",
              "         Timestamp('2017-08-08 16:30:00'): 1,\n",
              "         Timestamp('2015-11-26 22:08:00'): 1,\n",
              "         Timestamp('2016-10-31 12:20:00'): 1,\n",
              "         Timestamp('2016-12-11 14:38:00'): 2,\n",
              "         Timestamp('2016-10-02 17:22:00'): 1,\n",
              "         Timestamp('2016-12-14 18:20:00'): 2,\n",
              "         Timestamp('2017-08-16 02:45:00'): 5,\n",
              "         Timestamp('2015-01-11 14:11:00'): 2,\n",
              "         Timestamp('2015-06-03 03:11:00'): 1,\n",
              "         Timestamp('2017-08-14 03:30:00'): 2,\n",
              "         Timestamp('2017-08-16 14:29:00'): 11,\n",
              "         Timestamp('2017-07-13 01:06:00'): 1,\n",
              "         Timestamp('2016-02-19 09:05:00'): 1,\n",
              "         Timestamp('2017-08-14 14:58:00'): 11,\n",
              "         Timestamp('2016-01-17 16:40:00'): 3,\n",
              "         Timestamp('2017-01-07 16:35:00'): 2,\n",
              "         Timestamp('2017-04-07 11:45:00'): 1,\n",
              "         Timestamp('2015-07-23 01:13:00'): 3,\n",
              "         Timestamp('2017-08-11 13:17:00'): 2,\n",
              "         Timestamp('2017-04-12 15:05:00'): 1,\n",
              "         Timestamp('2017-05-01 15:25:00'): 1,\n",
              "         Timestamp('2016-12-30 20:10:00'): 2,\n",
              "         Timestamp('2016-09-05 14:32:00'): 2,\n",
              "         Timestamp('2017-07-25 13:18:00'): 1,\n",
              "         Timestamp('2016-11-16 14:47:00'): 1,\n",
              "         Timestamp('2016-10-30 04:49:00'): 1,\n",
              "         Timestamp('2016-11-14 17:03:00'): 1,\n",
              "         Timestamp('2017-07-30 22:54:00'): 8,\n",
              "         Timestamp('2015-11-27 00:42:00'): 2,\n",
              "         Timestamp('2016-03-02 02:08:00'): 1,\n",
              "         Timestamp('2017-08-14 14:52:00'): 2,\n",
              "         Timestamp('2017-01-03 00:14:00'): 2,\n",
              "         Timestamp('2016-06-27 13:51:00'): 1,\n",
              "         Timestamp('2016-10-25 05:13:00'): 1,\n",
              "         Timestamp('2017-04-15 09:00:00'): 1,\n",
              "         Timestamp('2015-06-29 04:51:00'): 1,\n",
              "         Timestamp('2017-01-04 19:13:00'): 1,\n",
              "         Timestamp('2017-07-29 06:34:00'): 2,\n",
              "         Timestamp('2016-09-26 22:52:00'): 1,\n",
              "         Timestamp('2017-08-15 01:30:00'): 6,\n",
              "         Timestamp('2016-12-02 14:43:00'): 1,\n",
              "         Timestamp('2017-08-12 03:24:00'): 1,\n",
              "         Timestamp('2016-08-17 14:04:00'): 1,\n",
              "         Timestamp('2017-08-21 05:01:00'): 2,\n",
              "         Timestamp('2017-02-10 23:28:00'): 1,\n",
              "         Timestamp('2017-08-10 01:34:00'): 1,\n",
              "         Timestamp('2016-11-04 13:13:00'): 1,\n",
              "         Timestamp('2017-05-02 07:42:00'): 1,\n",
              "         Timestamp('2017-08-15 17:03:00'): 15,\n",
              "         Timestamp('2016-10-06 18:41:00'): 2,\n",
              "         Timestamp('2017-08-16 08:31:00'): 9,\n",
              "         Timestamp('2017-08-11 13:08:00'): 11,\n",
              "         Timestamp('2016-05-18 14:45:00'): 1,\n",
              "         Timestamp('2017-03-13 05:13:00'): 1,\n",
              "         Timestamp('2017-02-19 04:18:00'): 1,\n",
              "         Timestamp('2017-03-28 14:44:00'): 1,\n",
              "         Timestamp('2017-04-04 15:48:00'): 2,\n",
              "         Timestamp('2016-12-21 14:55:00'): 1,\n",
              "         Timestamp('2017-08-18 09:28:00'): 5,\n",
              "         Timestamp('2015-07-22 17:51:00'): 3,\n",
              "         Timestamp('2017-08-13 03:49:00'): 3,\n",
              "         Timestamp('2016-10-06 20:49:00'): 1,\n",
              "         Timestamp('2017-04-01 07:05:00'): 1,\n",
              "         Timestamp('2017-03-04 17:27:00'): 3,\n",
              "         Timestamp('2015-06-03 02:53:00'): 2,\n",
              "         Timestamp('2017-04-01 03:35:00'): 1,\n",
              "         Timestamp('2017-08-15 22:40:00'): 2,\n",
              "         Timestamp('2017-04-27 15:06:00'): 4,\n",
              "         Timestamp('2015-03-18 10:02:00'): 2,\n",
              "         Timestamp('2017-02-26 02:17:00'): 2,\n",
              "         Timestamp('2016-04-27 14:28:00'): 2,\n",
              "         Timestamp('2017-01-15 23:03:00'): 2,\n",
              "         Timestamp('2017-07-12 09:27:00'): 1,\n",
              "         Timestamp('2016-11-24 14:06:00'): 2,\n",
              "         Timestamp('2017-06-10 17:02:00'): 3,\n",
              "         Timestamp('2016-12-14 20:30:00'): 2,\n",
              "         Timestamp('2017-03-10 01:11:00'): 1,\n",
              "         Timestamp('2016-12-21 03:08:00'): 1,\n",
              "         Timestamp('2017-01-02 11:05:00'): 2,\n",
              "         Timestamp('2017-08-10 11:49:00'): 7,\n",
              "         Timestamp('2017-04-02 09:11:00'): 2,\n",
              "         Timestamp('2015-08-19 14:43:00'): 1,\n",
              "         Timestamp('2017-08-15 16:59:00'): 9,\n",
              "         Timestamp('2017-05-01 08:10:00'): 1,\n",
              "         Timestamp('2017-08-15 17:01:00'): 15,\n",
              "         Timestamp('2017-01-05 02:42:00'): 3,\n",
              "         Timestamp('2016-04-25 16:35:00'): 1,\n",
              "         Timestamp('2017-03-28 06:06:00'): 1,\n",
              "         Timestamp('2015-07-21 18:53:00'): 5,\n",
              "         Timestamp('2017-08-11 13:07:00'): 10,\n",
              "         Timestamp('2017-02-12 21:27:00'): 2,\n",
              "         Timestamp('2016-09-17 13:50:00'): 1,\n",
              "         Timestamp('2017-08-15 21:55:00'): 12,\n",
              "         Timestamp('2016-11-28 07:59:00'): 1,\n",
              "         Timestamp('2017-08-14 16:47:00'): 2,\n",
              "         Timestamp('2015-09-27 13:24:00'): 3,\n",
              "         Timestamp('2015-06-05 17:31:00'): 1,\n",
              "         Timestamp('2016-09-13 15:01:00'): 1,\n",
              "         Timestamp('2017-03-20 03:50:00'): 1,\n",
              "         Timestamp('2017-01-27 03:06:00'): 2,\n",
              "         Timestamp('2016-05-30 14:26:00'): 1,\n",
              "         Timestamp('2017-08-18 03:43:00'): 2,\n",
              "         Timestamp('2017-10-07 14:06:00'): 2,\n",
              "         Timestamp('2015-06-11 17:33:00'): 3,\n",
              "         Timestamp('2017-08-18 02:10:00'): 4,\n",
              "         Timestamp('2017-08-18 06:35:00'): 5,\n",
              "         Timestamp('2016-10-12 03:01:00'): 1,\n",
              "         Timestamp('2015-08-13 15:31:00'): 1,\n",
              "         Timestamp('2017-03-11 07:37:00'): 3,\n",
              "         Timestamp('2017-02-08 15:50:00'): 2,\n",
              "         Timestamp('2017-06-14 21:31:00'): 1,\n",
              "         Timestamp('2015-12-24 14:49:00'): 2,\n",
              "         Timestamp('2017-08-12 19:26:00'): 8,\n",
              "         Timestamp('2017-08-13 18:47:00'): 2,\n",
              "         Timestamp('2016-09-16 19:10:00'): 2,\n",
              "         Timestamp('2017-08-15 02:12:00'): 3,\n",
              "         Timestamp('2017-02-15 16:38:00'): 4,\n",
              "         Timestamp('2016-10-23 22:18:00'): 4,\n",
              "         Timestamp('2016-09-19 08:25:00'): 7,\n",
              "         Timestamp('2016-08-03 17:12:00'): 1,\n",
              "         Timestamp('2017-08-18 04:15:00'): 5,\n",
              "         Timestamp('2017-08-02 01:16:00'): 2,\n",
              "         Timestamp('2017-08-03 01:06:00'): 1,\n",
              "         Timestamp('2016-11-02 02:42:00'): 2,\n",
              "         Timestamp('2017-08-11 23:43:00'): 2,\n",
              "         Timestamp('2017-03-31 22:57:00'): 1,\n",
              "         Timestamp('2016-12-28 11:11:00'): 2,\n",
              "         Timestamp('2016-02-07 14:26:00'): 3,\n",
              "         Timestamp('2017-08-17 16:27:00'): 9,\n",
              "         Timestamp('2017-08-14 12:04:00'): 4,\n",
              "         Timestamp('2016-12-17 21:10:00'): 1,\n",
              "         Timestamp('2015-12-20 03:25:00'): 1,\n",
              "         Timestamp('2017-08-05 11:37:00'): 2,\n",
              "         Timestamp('2017-08-14 02:57:00'): 1,\n",
              "         Timestamp('2017-02-06 22:02:00'): 2,\n",
              "         Timestamp('2015-06-11 19:53:00'): 1,\n",
              "         Timestamp('2016-09-17 21:06:00'): 1,\n",
              "         Timestamp('2015-06-03 01:32:00'): 3,\n",
              "         Timestamp('2017-09-26 02:54:00'): 1,\n",
              "         Timestamp('2016-06-20 13:24:00'): 2,\n",
              "         Timestamp('2017-08-18 03:20:00'): 2,\n",
              "         Timestamp('2016-04-18 14:32:00'): 1,\n",
              "         Timestamp('2016-06-23 14:24:00'): 2,\n",
              "         Timestamp('2017-08-18 17:10:00'): 7,\n",
              "         Timestamp('2017-08-16 14:55:00'): 5,\n",
              "         Timestamp('2016-10-06 18:33:00'): 1,\n",
              "         Timestamp('2016-01-04 14:57:00'): 1,\n",
              "         Timestamp('2016-12-22 09:19:00'): 1,\n",
              "         Timestamp('2017-01-27 18:39:00'): 3,\n",
              "         Timestamp('2016-03-29 14:42:00'): 1,\n",
              "         Timestamp('2017-08-07 16:43:00'): 1,\n",
              "         Timestamp('2016-09-29 19:09:00'): 2,\n",
              "         Timestamp('2017-08-16 14:13:00'): 14,\n",
              "         Timestamp('2017-06-18 14:28:00'): 1,\n",
              "         Timestamp('2015-06-10 11:12:00'): 4,\n",
              "         Timestamp('2017-08-05 17:17:00'): 1,\n",
              "         Timestamp('2017-02-10 15:21:00'): 1,\n",
              "         Timestamp('2017-08-10 11:54:00'): 2,\n",
              "         Timestamp('2016-11-25 23:17:00'): 1,\n",
              "         Timestamp('2016-09-19 13:11:00'): 1,\n",
              "         Timestamp('2015-03-17 16:40:00'): 1,\n",
              "         Timestamp('2015-12-09 23:14:00'): 2,\n",
              "         Timestamp('2016-06-19 06:06:00'): 1,\n",
              "         Timestamp('2017-10-20 01:13:00'): 2,\n",
              "         Timestamp('2017-08-12 02:20:00'): 7,\n",
              "         Timestamp('2017-08-14 03:56:00'): 1,\n",
              "         Timestamp('2017-01-07 21:42:00'): 1,\n",
              "         Timestamp('2017-08-11 22:33:00'): 1,\n",
              "         Timestamp('2017-08-13 16:47:00'): 7,\n",
              "         Timestamp('2017-02-08 10:43:00'): 2,\n",
              "         Timestamp('2017-08-14 03:24:00'): 3,\n",
              "         Timestamp('2015-06-03 12:51:00'): 1,\n",
              "         Timestamp('2017-08-12 08:53:00'): 1,\n",
              "         Timestamp('2017-03-10 04:26:00'): 1,\n",
              "         Timestamp('2017-01-26 12:46:00'): 1,\n",
              "         Timestamp('2016-06-01 14:59:00'): 1,\n",
              "         Timestamp('2017-03-07 12:15:00'): 2,\n",
              "         Timestamp('2016-05-18 15:07:00'): 1,\n",
              "         Timestamp('2016-04-27 15:29:00'): 1,\n",
              "         Timestamp('2017-08-14 14:47:00'): 3,\n",
              "         Timestamp('2017-08-12 18:51:00'): 17,\n",
              "         Timestamp('2016-09-29 15:09:00'): 2,\n",
              "         Timestamp('2016-03-07 22:13:00'): 1,\n",
              "         Timestamp('2016-12-14 17:36:00'): 2,\n",
              "         Timestamp('2015-06-07 02:53:00'): 1,\n",
              "         Timestamp('2017-08-09 12:38:00'): 6,\n",
              "         Timestamp('2017-08-07 16:06:00'): 3,\n",
              "         Timestamp('2017-03-24 08:58:00'): 1,\n",
              "         Timestamp('2016-01-25 14:18:00'): 1,\n",
              "         Timestamp('2016-10-06 23:55:00'): 3,\n",
              "         Timestamp('2017-08-16 14:24:00'): 7,\n",
              "         Timestamp('2016-11-30 00:19:00'): 2,\n",
              "         Timestamp('2016-09-10 06:48:00'): 1,\n",
              "         Timestamp('2016-09-17 18:10:00'): 1,\n",
              "         Timestamp('2017-08-16 01:23:00'): 1,\n",
              "         Timestamp('2016-12-19 05:01:00'): 1,\n",
              "         Timestamp('2017-08-17 06:05:00'): 8,\n",
              "         Timestamp('2016-09-19 14:08:00'): 2,\n",
              "         Timestamp('2017-03-15 02:35:00'): 2,\n",
              "         Timestamp('2015-07-23 00:52:00'): 5,\n",
              "         Timestamp('2016-12-12 10:47:00'): 3,\n",
              "         Timestamp('2016-10-07 04:17:00'): 3,\n",
              "         Timestamp('2017-01-22 10:12:00'): 1,\n",
              "         Timestamp('2015-09-20 16:37:00'): 1,\n",
              "         Timestamp('2016-11-16 01:11:00'): 1,\n",
              "         Timestamp('2017-08-13 23:18:00'): 1,\n",
              "         Timestamp('2017-01-13 11:17:00'): 2,\n",
              "         Timestamp('2017-08-11 14:56:00'): 2,\n",
              "         Timestamp('2017-08-18 10:04:00'): 1,\n",
              "         Timestamp('2017-08-15 01:40:00'): 6,\n",
              "         Timestamp('2016-12-14 19:21:00'): 2,\n",
              "         Timestamp('2017-08-12 06:05:00'): 2,\n",
              "         Timestamp('2017-08-16 14:12:00'): 9,\n",
              "         Timestamp('2015-03-13 09:26:00'): 2,\n",
              "         Timestamp('2017-03-09 18:53:00'): 1,\n",
              "         Timestamp('2016-12-29 06:53:00'): 1,\n",
              "         Timestamp('2015-08-22 16:22:00'): 1,\n",
              "         Timestamp('2016-10-06 18:55:00'): 2,\n",
              "         Timestamp('2017-01-28 22:35:00'): 5,\n",
              "         Timestamp('2017-07-29 13:22:00'): 2,\n",
              "         Timestamp('2017-03-14 23:48:00'): 1,\n",
              "         Timestamp('2016-12-17 00:38:00'): 1,\n",
              "         Timestamp('2016-12-14 02:12:00'): 1,\n",
              "         Timestamp('2017-08-14 07:45:00'): 3,\n",
              "         Timestamp('2015-06-04 02:12:00'): 1,\n",
              "         Timestamp('2016-12-11 20:09:00'): 1,\n",
              "         Timestamp('2016-05-16 13:04:00'): 2,\n",
              "         Timestamp('2017-08-17 16:19:00'): 14,\n",
              "         Timestamp('2017-06-19 23:39:00'): 1,\n",
              "         Timestamp('2016-07-19 15:46:00'): 3,\n",
              "         Timestamp('2016-10-06 12:11:00'): 2,\n",
              "         Timestamp('2017-08-14 01:12:00'): 1,\n",
              "         Timestamp('2017-08-11 08:39:00'): 1,\n",
              "         Timestamp('2017-08-14 14:42:00'): 1,\n",
              "         Timestamp('2017-04-05 10:49:00'): 1,\n",
              "         Timestamp('2017-02-16 09:13:00'): 1,\n",
              "         Timestamp('2017-08-13 16:07:00'): 3,\n",
              "         Timestamp('2017-08-08 14:34:00'): 4,\n",
              "         Timestamp('2015-07-21 22:31:00'): 5,\n",
              "         Timestamp('2016-10-07 04:51:00'): 2,\n",
              "         Timestamp('2017-08-17 08:24:00'): 2,\n",
              "         Timestamp('2016-05-18 13:51:00'): 1,\n",
              "         Timestamp('2017-08-17 10:01:00'): 7,\n",
              "         Timestamp('2016-09-18 14:10:00'): 2,\n",
              "         Timestamp('2016-12-10 05:54:00'): 3,\n",
              "         Timestamp('2016-12-28 16:32:00'): 3,\n",
              "         Timestamp('2017-08-10 13:52:00'): 4,\n",
              "         Timestamp('2017-03-28 12:13:00'): 2,\n",
              "         Timestamp('2017-08-12 17:24:00'): 5,\n",
              "         Timestamp('2017-08-17 13:52:00'): 2,\n",
              "         Timestamp('2016-11-19 05:21:00'): 1,\n",
              "         Timestamp('2017-01-05 08:52:00'): 1,\n",
              "         Timestamp('2016-12-01 06:49:00'): 2,\n",
              "         Timestamp('2017-08-12 04:20:00'): 5,\n",
              "         Timestamp('2015-10-05 16:39:00'): 1,\n",
              "         Timestamp('2017-03-24 06:05:00'): 2,\n",
              "         Timestamp('2017-08-08 07:43:00'): 4,\n",
              "         Timestamp('2017-07-26 06:30:00'): 2,\n",
              "         Timestamp('2017-10-11 14:12:00'): 2,\n",
              "         Timestamp('2016-01-29 02:30:00'): 1,\n",
              "         Timestamp('2015-06-06 08:32:00'): 1,\n",
              "         Timestamp('2017-03-31 10:01:00'): 2,\n",
              "         Timestamp('2017-02-15 15:28:00'): 2,\n",
              "         Timestamp('2015-03-17 16:41:00'): 1,\n",
              "         Timestamp('2016-06-27 13:44:00'): 2,\n",
              "         Timestamp('2017-08-01 01:52:00'): 2,\n",
              "         Timestamp('2016-08-08 15:03:00'): 1,\n",
              "         Timestamp('2016-12-30 10:58:00'): 2,\n",
              "         Timestamp('2016-12-10 03:39:00'): 2,\n",
              "         Timestamp('2017-04-22 18:44:00'): 2,\n",
              "         Timestamp('2017-08-16 14:09:00'): 19,\n",
              "         Timestamp('2017-08-16 16:00:00'): 2,\n",
              "         Timestamp('2017-09-04 15:48:00'): 2,\n",
              "         Timestamp('2017-08-11 21:56:00'): 7,\n",
              "         Timestamp('2017-08-04 09:26:00'): 2,\n",
              "         Timestamp('2016-12-10 18:40:00'): 3,\n",
              "         Timestamp('2015-12-21 15:09:00'): 1,\n",
              "         Timestamp('2017-08-08 10:34:00'): 1,\n",
              "         Timestamp('2016-01-29 02:09:00'): 1,\n",
              "         Timestamp('2015-11-27 00:12:00'): 3,\n",
              "         Timestamp('2016-11-08 17:52:00'): 2,\n",
              "         Timestamp('2017-08-14 15:01:00'): 9,\n",
              "         Timestamp('2016-06-28 16:45:00'): 2,\n",
              "         Timestamp('2017-02-08 16:17:00'): 3,\n",
              "         Timestamp('2015-09-08 23:02:00'): 1,\n",
              "         Timestamp('2017-08-13 12:42:00'): 4,\n",
              "         Timestamp('2016-10-06 17:31:00'): 2,\n",
              "         Timestamp('2016-06-08 16:07:00'): 1,\n",
              "         Timestamp('2017-04-22 15:38:00'): 1,\n",
              "         Timestamp('2017-02-02 11:21:00'): 3,\n",
              "         Timestamp('2016-12-07 16:20:00'): 1,\n",
              "         Timestamp('2017-04-12 22:33:00'): 2,\n",
              "         Timestamp('2017-08-14 02:47:00'): 2,\n",
              "         Timestamp('2017-08-14 04:09:00'): 1,\n",
              "         Timestamp('2017-01-23 22:40:00'): 1,\n",
              "         Timestamp('2015-06-05 11:53:00'): 3,\n",
              "         Timestamp('2015-06-04 06:51:00'): 1,\n",
              "         Timestamp('2017-03-03 15:44:00'): 1,\n",
              "         Timestamp('2017-08-13 16:51:00'): 5,\n",
              "         Timestamp('2017-08-17 09:00:00'): 1,\n",
              "         Timestamp('2017-01-30 22:10:00'): 3,\n",
              "         Timestamp('2016-09-16 21:11:00'): 2,\n",
              "         Timestamp('2017-08-01 11:26:00'): 1,\n",
              "         Timestamp('2017-08-12 18:26:00'): 23,\n",
              "         Timestamp('2016-10-11 07:38:00'): 3,\n",
              "         Timestamp('2016-09-17 22:55:00'): 4,\n",
              "         Timestamp('2017-01-29 17:45:00'): 2,\n",
              "         Timestamp('2017-08-13 08:21:00'): 1,\n",
              "         Timestamp('2017-04-08 17:26:00'): 2,\n",
              "         Timestamp('2016-08-22 13:36:00'): 3,\n",
              "         Timestamp('2016-04-25 14:19:00'): 1,\n",
              "         Timestamp('2017-04-10 02:18:00'): 1,\n",
              "         Timestamp('2017-07-30 19:37:00'): 2,\n",
              "         Timestamp('2016-12-13 22:17:00'): 1,\n",
              "         Timestamp('2015-03-18 10:07:00'): 2,\n",
              "         Timestamp('2016-09-18 02:53:00'): 1,\n",
              "         Timestamp('2016-10-07 06:11:00'): 2,\n",
              "         Timestamp('2017-08-15 00:20:00'): 10,\n",
              "         Timestamp('2016-12-25 05:54:00'): 4,\n",
              "         Timestamp('2017-02-27 00:42:00'): 1,\n",
              "         Timestamp('2015-07-13 16:34:00'): 2,\n",
              "         Timestamp('2015-10-16 13:40:00'): 1,\n",
              "         Timestamp('2015-06-09 04:53:00'): 2,\n",
              "         Timestamp('2017-01-13 07:57:00'): 1,\n",
              "         Timestamp('2017-04-29 15:41:00'): 3,\n",
              "         Timestamp('2015-12-01 19:06:00'): 1,\n",
              "         Timestamp('2015-06-10 01:53:00'): 4,\n",
              "         Timestamp('2016-04-30 01:33:00'): 1,\n",
              "         Timestamp('2017-08-17 02:19:00'): 3,\n",
              "         Timestamp('2015-09-12 02:52:00'): 1,\n",
              "         Timestamp('2017-08-15 01:24:00'): 3,\n",
              "         Timestamp('2016-09-23 17:59:00'): 1,\n",
              "         Timestamp('2016-11-27 12:55:00'): 1,\n",
              "         Timestamp('2017-08-16 01:24:00'): 4,\n",
              "         Timestamp('2017-08-09 04:43:00'): 2,\n",
              "         Timestamp('2017-03-29 07:53:00'): 1,\n",
              "         Timestamp('2015-09-19 07:33:00'): 2,\n",
              "         Timestamp('2016-11-16 23:14:00'): 4,\n",
              "         Timestamp('2015-07-22 04:33:00'): 1,\n",
              "         Timestamp('2017-08-11 11:01:00'): 3,\n",
              "         Timestamp('2017-08-17 00:40:00'): 2,\n",
              "         Timestamp('2016-12-23 15:19:00'): 2,\n",
              "         Timestamp('2015-06-10 19:15:00'): 1,\n",
              "         Timestamp('2016-05-24 15:05:00'): 1,\n",
              "         Timestamp('2016-10-21 22:08:00'): 2,\n",
              "         Timestamp('2016-08-24 15:35:00'): 1,\n",
              "         Timestamp('2016-10-06 11:50:00'): 1,\n",
              "         Timestamp('2017-08-17 16:40:00'): 4,\n",
              "         Timestamp('2017-01-24 08:20:00'): 2,\n",
              "         Timestamp('2015-08-18 16:42:00'): 1,\n",
              "         Timestamp('2017-06-05 18:42:00'): 1,\n",
              "         Timestamp('2016-12-09 14:20:00'): 1,\n",
              "         Timestamp('2017-02-08 09:24:00'): 1,\n",
              "         Timestamp('2015-06-09 21:13:00'): 3,\n",
              "         Timestamp('2017-08-12 19:25:00'): 12,\n",
              "         Timestamp('2017-08-18 22:43:00'): 1,\n",
              "         Timestamp('2015-08-29 09:32:00'): 1,\n",
              "         Timestamp('2017-02-07 21:22:00'): 1,\n",
              "         Timestamp('2017-10-07 01:01:00'): 3,\n",
              "         Timestamp('2017-01-02 10:13:00'): 1,\n",
              "         Timestamp('2017-02-03 11:18:00'): 2,\n",
              "         Timestamp('2016-10-25 14:02:00'): 1,\n",
              "         Timestamp('2017-03-26 08:21:00'): 3,\n",
              "         Timestamp('2017-08-12 19:16:00'): 21,\n",
              "         Timestamp('2016-09-16 12:12:00'): 1,\n",
              "         Timestamp('2017-04-28 17:15:00'): 2,\n",
              "         Timestamp('2017-07-13 01:57:00'): 1,\n",
              "         Timestamp('2017-04-25 22:15:00'): 1,\n",
              "         Timestamp('2016-03-30 23:11:00'): 1,\n",
              "         Timestamp('2016-12-25 15:19:00'): 2,\n",
              "         Timestamp('2016-10-07 08:37:00'): 2,\n",
              "         Timestamp('2016-09-17 18:58:00'): 2,\n",
              "         Timestamp('2016-12-09 23:15:00'): 2,\n",
              "         Timestamp('2016-07-06 14:32:00'): 1,\n",
              "         Timestamp('2017-04-17 03:55:00'): 2,\n",
              "         Timestamp('2016-03-15 16:10:00'): 1,\n",
              "         Timestamp('2017-04-17 09:26:00'): 1,\n",
              "         Timestamp('2015-06-09 04:31:00'): 2,\n",
              "         Timestamp('2016-09-19 12:56:00'): 1,\n",
              "         Timestamp('2016-01-11 15:12:00'): 1,\n",
              "         Timestamp('2016-12-25 03:48:00'): 1,\n",
              "         Timestamp('2017-01-26 18:32:00'): 4,\n",
              "         Timestamp('2015-12-01 14:00:00'): 2,\n",
              "         Timestamp('2015-10-08 09:10:00'): 1,\n",
              "         Timestamp('2017-03-05 17:09:00'): 1,\n",
              "         Timestamp('2015-07-11 15:08:00'): 2,\n",
              "         Timestamp('2016-06-15 15:03:00'): 2,\n",
              "         Timestamp('2017-08-13 01:48:00'): 5,\n",
              "         Timestamp('2015-07-11 16:15:00'): 1,\n",
              "         Timestamp('2017-03-26 23:24:00'): 2,\n",
              "         Timestamp('2017-08-12 23:16:00'): 3,\n",
              "         Timestamp('2017-08-14 14:41:00'): 6,\n",
              "         Timestamp('2016-03-21 14:27:00'): 1,\n",
              "         Timestamp('2016-12-14 17:05:00'): 1,\n",
              "         Timestamp('2015-06-11 03:53:00'): 2,\n",
              "         Timestamp('2017-03-14 07:30:00'): 1,\n",
              "         Timestamp('2017-08-13 05:05:00'): 4,\n",
              "         Timestamp('2017-08-14 17:58:00'): 4,\n",
              "         Timestamp('2017-08-11 11:07:00'): 6,\n",
              "         Timestamp('2017-10-09 19:36:00'): 3,\n",
              "         Timestamp('2017-07-22 04:09:00'): 1,\n",
              "         Timestamp('2016-08-16 13:09:00'): 1,\n",
              "         Timestamp('2016-12-19 17:40:00'): 1,\n",
              "         Timestamp('2016-12-19 06:19:00'): 1,\n",
              "         Timestamp('2016-10-21 18:35:00'): 1,\n",
              "         Timestamp('2016-05-19 16:56:00'): 3,\n",
              "         Timestamp('2017-01-12 07:57:00'): 1,\n",
              "         Timestamp('2016-10-08 17:02:00'): 1,\n",
              "         Timestamp('2017-01-22 16:15:00'): 1,\n",
              "         Timestamp('2017-03-07 15:21:00'): 2,\n",
              "         Timestamp('2015-08-01 14:26:00'): 1,\n",
              "         Timestamp('2016-07-30 15:38:00'): 2,\n",
              "         Timestamp('2016-05-16 13:56:00'): 1,\n",
              "         Timestamp('2017-08-15 04:52:00'): 3,\n",
              "         Timestamp('2016-03-31 11:20:00'): 1,\n",
              "         Timestamp('2016-02-24 19:24:00'): 1,\n",
              "         Timestamp('2015-10-21 12:29:00'): 1,\n",
              "         Timestamp('2016-11-19 14:57:00'): 1,\n",
              "         Timestamp('2017-04-20 18:47:00'): 1,\n",
              "         Timestamp('2016-05-15 14:26:00'): 4,\n",
              "         Timestamp('2017-02-09 20:34:00'): 1,\n",
              "         Timestamp('2016-01-18 15:28:00'): 1,\n",
              "         Timestamp('2016-07-30 16:20:00'): 1,\n",
              "         Timestamp('2016-11-09 15:02:00'): 3,\n",
              "         Timestamp('2017-01-21 01:14:00'): 1,\n",
              "         Timestamp('2017-08-07 14:41:00'): 1,\n",
              "         Timestamp('2015-06-10 17:16:00'): 2,\n",
              "         Timestamp('2016-09-18 17:08:00'): 2,\n",
              "         Timestamp('2015-06-06 23:51:00'): 2,\n",
              "         Timestamp('2017-04-09 03:37:00'): 1,\n",
              "         Timestamp('2016-11-24 10:35:00'): 1,\n",
              "         Timestamp('2017-02-01 16:37:00'): 2,\n",
              "         Timestamp('2016-10-11 01:02:00'): 4,\n",
              "         Timestamp('2017-08-17 21:47:00'): 3,\n",
              "         Timestamp('2017-08-12 00:31:00'): 3,\n",
              "         Timestamp('2017-02-07 14:13:00'): 3,\n",
              "         Timestamp('2015-07-22 08:13:00'): 5,\n",
              "         Timestamp('2017-06-18 17:39:00'): 1,\n",
              "         Timestamp('2017-04-15 17:04:00'): 1,\n",
              "         Timestamp('2017-07-28 21:40:00'): 9,\n",
              "         Timestamp('2016-08-15 13:59:00'): 1,\n",
              "         Timestamp('2017-03-19 21:45:00'): 2,\n",
              "         Timestamp('2017-03-14 08:24:00'): 3,\n",
              "         Timestamp('2017-08-13 19:17:00'): 1,\n",
              "         Timestamp('2017-03-24 21:38:00'): 1,\n",
              "         Timestamp('2015-06-12 01:14:00'): 1,\n",
              "         Timestamp('2017-04-17 14:02:00'): 3,\n",
              "         Timestamp('2017-02-16 11:07:00'): 1,\n",
              "         Timestamp('2016-01-17 22:11:00'): 1,\n",
              "         Timestamp('2017-03-03 12:42:00'): 1,\n",
              "         Timestamp('2015-06-02 11:11:00'): 1,\n",
              "         Timestamp('2016-11-30 12:39:00'): 2,\n",
              "         Timestamp('2017-04-30 20:08:00'): 1,\n",
              "         Timestamp('2016-02-20 12:26:00'): 1,\n",
              "         Timestamp('2016-08-27 14:37:00'): 2,\n",
              "         Timestamp('2017-08-11 13:56:00'): 2,\n",
              "         Timestamp('2017-03-02 22:00:00'): 1,\n",
              "         Timestamp('2017-02-18 08:33:00'): 1,\n",
              "         Timestamp('2017-04-20 09:23:00'): 1,\n",
              "         Timestamp('2017-08-17 16:16:00'): 5,\n",
              "         Timestamp('2016-08-10 10:38:00'): 2,\n",
              "         Timestamp('2015-12-17 00:45:00'): 1,\n",
              "         Timestamp('2017-08-16 19:00:00'): 2,\n",
              "         Timestamp('2016-04-22 00:40:00'): 1,\n",
              "         Timestamp('2017-05-02 20:19:00'): 2,\n",
              "         Timestamp('2017-02-11 11:30:00'): 2,\n",
              "         Timestamp('2016-08-17 14:22:00'): 2,\n",
              "         Timestamp('2017-04-18 01:33:00'): 2,\n",
              "         Timestamp('2016-10-07 01:31:00'): 2,\n",
              "         Timestamp('2016-09-12 15:48:00'): 2,\n",
              "         Timestamp('2016-09-23 17:51:00'): 1,\n",
              "         Timestamp('2017-08-12 08:24:00'): 2,\n",
              "         Timestamp('2017-04-08 05:20:00'): 1,\n",
              "         Timestamp('2017-01-22 18:18:00'): 1,\n",
              "         Timestamp('2016-11-30 01:15:00'): 1,\n",
              "         Timestamp('2017-07-08 15:00:00'): 1,\n",
              "         Timestamp('2017-05-03 08:54:00'): 1,\n",
              "         Timestamp('2017-03-21 07:00:00'): 1,\n",
              "         Timestamp('2017-08-13 08:08:00'): 2,\n",
              "         Timestamp('2017-08-12 18:29:00'): 6,\n",
              "         Timestamp('2017-08-12 18:25:00'): 13,\n",
              "         Timestamp('2015-06-09 08:15:00'): 1,\n",
              "         Timestamp('2016-10-06 13:30:00'): 1,\n",
              "         Timestamp('2016-10-17 15:29:00'): 2,\n",
              "         Timestamp('2017-08-14 21:43:00'): 4,\n",
              "         Timestamp('2017-08-18 16:01:00'): 1,\n",
              "         Timestamp('2015-05-29 22:55:00'): 4,\n",
              "         Timestamp('2016-10-10 08:13:00'): 2,\n",
              "         Timestamp('2016-10-19 07:19:00'): 2,\n",
              "         Timestamp('2016-06-21 15:42:00'): 5,\n",
              "         Timestamp('2017-08-15 22:17:00'): 1,\n",
              "         Timestamp('2017-01-29 19:48:00'): 1,\n",
              "         Timestamp('2016-01-20 22:40:00'): 1,\n",
              "         Timestamp('2017-01-16 23:24:00'): 1,\n",
              "         Timestamp('2016-06-17 15:58:00'): 1,\n",
              "         Timestamp('2017-08-15 17:07:00'): 5,\n",
              "         Timestamp('2016-09-05 14:58:00'): 1,\n",
              "         Timestamp('2017-08-05 12:03:00'): 1,\n",
              "         Timestamp('2017-08-02 22:37:00'): 2,\n",
              "         Timestamp('2017-08-02 10:58:00'): 3,\n",
              "         Timestamp('2017-08-09 19:06:00'): 4,\n",
              "         Timestamp('2016-04-20 10:20:00'): 2,\n",
              "         Timestamp('2017-07-29 19:00:00'): 1,\n",
              "         Timestamp('2016-12-19 16:16:00'): 2,\n",
              "         Timestamp('2017-08-12 14:25:00'): 5,\n",
              "         Timestamp('2016-11-08 23:23:00'): 3,\n",
              "         Timestamp('2016-11-28 11:12:00'): 1,\n",
              "         Timestamp('2017-08-17 16:29:00'): 14,\n",
              "         Timestamp('2017-01-08 15:55:00'): 2,\n",
              "         Timestamp('2016-09-19 14:18:00'): 3,\n",
              "         Timestamp('2017-08-10 11:38:00'): 6,\n",
              "         Timestamp('2016-05-27 18:15:00'): 1,\n",
              "         Timestamp('2017-08-09 12:18:00'): 9,\n",
              "         Timestamp('2016-03-29 13:18:00'): 1,\n",
              "         Timestamp('2017-08-12 02:09:00'): 7,\n",
              "         Timestamp('2017-08-18 02:49:00'): 1,\n",
              "         Timestamp('2015-06-09 01:32:00'): 4,\n",
              "         Timestamp('2016-12-26 14:42:00'): 2,\n",
              "         Timestamp('2017-08-15 16:54:00'): 11,\n",
              "         Timestamp('2016-03-07 20:58:00'): 1,\n",
              "         Timestamp('2016-10-06 13:06:00'): 1,\n",
              "         Timestamp('2017-04-16 00:29:00'): 1,\n",
              "         Timestamp('2017-07-06 17:46:00'): 1,\n",
              "         Timestamp('2016-04-27 15:19:00'): 1,\n",
              "         Timestamp('2015-08-26 16:54:00'): 1,\n",
              "         Timestamp('2017-08-17 18:50:00'): 5,\n",
              "         Timestamp('2016-05-18 14:10:00'): 3,\n",
              "         Timestamp('2017-08-18 14:22:00'): 5,\n",
              "         Timestamp('2016-10-14 02:55:00'): 3,\n",
              "         Timestamp('2017-08-16 13:17:00'): 3,\n",
              "         Timestamp('2016-10-06 21:33:00'): 5,\n",
              "         Timestamp('2017-08-11 23:48:00'): 4,\n",
              "         Timestamp('2015-06-05 22:32:00'): 1,\n",
              "         Timestamp('2015-08-11 16:35:00'): 2,\n",
              "         Timestamp('2017-08-09 12:35:00'): 11,\n",
              "         Timestamp('2016-09-06 15:01:00'): 1,\n",
              "         Timestamp('2017-08-17 09:24:00'): 1,\n",
              "         Timestamp('2016-05-16 08:57:00'): 3,\n",
              "         Timestamp('2017-08-18 02:07:00'): 6,\n",
              "         Timestamp('2017-07-24 22:09:00'): 1,\n",
              "         Timestamp('2017-02-10 04:22:00'): 1,\n",
              "         Timestamp('2017-08-12 23:01:00'): 2,\n",
              "         Timestamp('2017-03-07 18:31:00'): 2,\n",
              "         Timestamp('2015-07-23 07:11:00'): 2,\n",
              "         Timestamp('2016-02-01 10:42:00'): 1,\n",
              "         Timestamp('2017-08-14 05:24:00'): 1,\n",
              "         Timestamp('2015-08-30 07:25:00'): 1,\n",
              "         Timestamp('2016-09-17 12:05:00'): 1,\n",
              "         Timestamp('2017-08-10 11:27:00'): 8,\n",
              "         Timestamp('2017-08-14 22:07:00'): 6,\n",
              "         Timestamp('2017-03-04 14:22:00'): 2,\n",
              "         Timestamp('2017-01-25 23:48:00'): 1,\n",
              "         Timestamp('2016-08-16 10:21:00'): 2,\n",
              "         Timestamp('2017-01-12 13:26:00'): 3,\n",
              "         Timestamp('2017-03-24 09:30:00'): 1,\n",
              "         Timestamp('2017-08-10 02:07:00'): 1,\n",
              "         Timestamp('2017-08-12 18:43:00'): 9,\n",
              "         Timestamp('2016-10-26 02:07:00'): 1,\n",
              "         Timestamp('2017-07-27 17:57:00'): 1,\n",
              "         Timestamp('2017-08-15 05:31:00'): 2,\n",
              "         Timestamp('2017-01-07 10:49:00'): 4,\n",
              "         Timestamp('2016-08-10 15:28:00'): 1,\n",
              "         Timestamp('2016-11-25 10:34:00'): 2,\n",
              "         Timestamp('2017-02-22 21:44:00'): 2,\n",
              "         Timestamp('2017-07-22 14:30:00'): 2,\n",
              "         Timestamp('2017-08-16 13:35:00'): 4,\n",
              "         Timestamp('2017-10-18 01:06:00'): 1,\n",
              "         Timestamp('2016-02-03 02:38:00'): 1,\n",
              "         Timestamp('2015-09-17 13:30:00'): 1,\n",
              "         Timestamp('2017-08-10 21:25:00'): 8,\n",
              "         Timestamp('2015-06-17 23:31:00'): 1,\n",
              "         Timestamp('2016-10-18 19:05:00'): 1,\n",
              "         Timestamp('2016-11-26 04:42:00'): 2,\n",
              "         Timestamp('2016-12-21 16:08:00'): 2,\n",
              "         Timestamp('2017-08-12 18:22:00'): 16,\n",
              "         Timestamp('2015-07-23 02:12:00'): 3,\n",
              "         Timestamp('2015-01-15 07:36:00'): 2,\n",
              "         Timestamp('2015-07-19 13:44:00'): 1,\n",
              "         Timestamp('2015-11-18 20:49:00'): 1,\n",
              "         Timestamp('2016-02-19 03:04:00'): 1,\n",
              "         Timestamp('2017-02-11 13:28:00'): 1,\n",
              "         Timestamp('2016-11-29 10:39:00'): 2,\n",
              "         Timestamp('2017-08-10 21:22:00'): 5,\n",
              "         Timestamp('2016-12-06 20:50:00'): 3,\n",
              "         Timestamp('2016-08-31 14:45:00'): 1,\n",
              "         Timestamp('2017-08-18 13:31:00'): 1,\n",
              "         Timestamp('2017-08-08 02:22:00'): 1,\n",
              "         Timestamp('2017-08-18 15:15:00'): 6,\n",
              "         Timestamp('2015-08-31 14:12:00'): 1,\n",
              "         Timestamp('2017-08-16 12:55:00'): 1,\n",
              "         Timestamp('2016-10-07 00:07:00'): 2,\n",
              "         Timestamp('2017-07-17 15:46:00'): 1,\n",
              "         Timestamp('2017-08-10 19:30:00'): 1,\n",
              "         Timestamp('2015-12-08 08:01:00'): 2,\n",
              "         Timestamp('2016-12-17 12:44:00'): 2,\n",
              "         Timestamp('2017-08-17 00:49:00'): 8,\n",
              "         Timestamp('2017-05-04 15:13:00'): 1,\n",
              "         Timestamp('2016-09-11 07:49:00'): 1,\n",
              "         Timestamp('2017-08-18 17:23:00'): 12,\n",
              "         Timestamp('2017-08-15 17:10:00'): 17,\n",
              "         Timestamp('2017-08-12 22:06:00'): 5,\n",
              "         Timestamp('2016-03-14 14:08:00'): 1,\n",
              "         Timestamp('2017-08-11 15:00:00'): 2,\n",
              "         Timestamp('2017-02-08 16:27:00'): 2,\n",
              "         Timestamp('2017-07-26 16:11:00'): 1,\n",
              "         Timestamp('2017-08-18 00:16:00'): 8,\n",
              "         Timestamp('2017-01-09 12:47:00'): 1,\n",
              "         Timestamp('2017-09-25 21:40:00'): 1,\n",
              "         Timestamp('2017-08-12 22:13:00'): 2,\n",
              "         Timestamp('2017-08-07 00:17:00'): 2,\n",
              "         Timestamp('2015-12-24 14:16:00'): 4,\n",
              "         Timestamp('2016-03-22 18:18:00'): 3,\n",
              "         Timestamp('2017-08-14 09:26:00'): 1,\n",
              "         Timestamp('2017-02-05 07:24:00'): 2,\n",
              "         Timestamp('2017-03-02 02:58:00'): 1,\n",
              "         Timestamp('2016-09-02 15:52:00'): 1,\n",
              "         Timestamp('2017-08-13 03:05:00'): 3,\n",
              "         Timestamp('2015-06-12 22:12:00'): 1,\n",
              "         Timestamp('2016-04-24 14:29:00'): 1,\n",
              "         Timestamp('2015-06-30 21:52:00'): 3,\n",
              "         Timestamp('2015-06-07 00:53:00'): 2,\n",
              "         Timestamp('2017-08-10 19:17:00'): 5,\n",
              "         Timestamp('2017-01-23 22:27:00'): 1,\n",
              "         Timestamp('2017-05-03 09:51:00'): 1,\n",
              "         Timestamp('2017-08-09 05:55:00'): 2,\n",
              "         Timestamp('2017-09-20 22:40:00'): 1,\n",
              "         Timestamp('2016-05-16 16:11:00'): 2,\n",
              "         Timestamp('2017-08-11 15:04:00'): 2,\n",
              "         Timestamp('2016-11-14 13:54:00'): 1,\n",
              "         Timestamp('2017-03-07 09:24:00'): 2,\n",
              "         Timestamp('2016-10-11 01:04:00'): 3,\n",
              "         Timestamp('2017-08-14 11:21:00'): 2,\n",
              "         Timestamp('2017-08-17 14:11:00'): 7,\n",
              "         Timestamp('2016-09-08 10:48:00'): 2,\n",
              "         Timestamp('2016-11-26 17:24:00'): 1,\n",
              "         Timestamp('2017-08-17 02:45:00'): 1,\n",
              "         Timestamp('2016-10-20 08:34:00'): 1,\n",
              "         Timestamp('2015-12-03 02:14:00'): 1,\n",
              "         Timestamp('2017-06-21 01:37:00'): 1,\n",
              "         Timestamp('2017-08-14 23:08:00'): 8,\n",
              "         Timestamp('2017-01-29 01:24:00'): 1,\n",
              "         Timestamp('2017-08-17 21:00:00'): 1,\n",
              "         Timestamp('2017-08-11 04:53:00'): 2,\n",
              "         Timestamp('2015-06-11 12:52:00'): 2,\n",
              "         Timestamp('2017-08-12 18:31:00'): 11,\n",
              "         Timestamp('2017-05-01 00:54:00'): 2,\n",
              "         Timestamp('2017-08-09 04:03:00'): 4,\n",
              "         Timestamp('2016-08-03 17:14:00'): 1,\n",
              "         Timestamp('2017-07-13 08:55:00'): 1,\n",
              "         Timestamp('2015-12-05 02:55:00'): 1,\n",
              "         Timestamp('2016-12-12 06:24:00'): 2,\n",
              "         Timestamp('2016-11-25 09:06:00'): 3,\n",
              "         Timestamp('2017-04-30 22:49:00'): 3,\n",
              "         Timestamp('2017-08-05 02:28:00'): 3,\n",
              "         Timestamp('2016-10-12 18:03:00'): 3,\n",
              "         Timestamp('2017-08-13 02:01:00'): 2,\n",
              "         Timestamp('2016-02-03 19:20:00'): 2,\n",
              "         Timestamp('2017-01-22 18:51:00'): 1,\n",
              "         Timestamp('2016-02-03 19:15:00'): 1,\n",
              "         Timestamp('2017-04-05 17:33:00'): 2,\n",
              "         Timestamp('2016-09-18 04:08:00'): 2,\n",
              "         Timestamp('2016-02-22 14:26:00'): 1,\n",
              "         Timestamp('2017-08-04 09:31:00'): 2,\n",
              "         Timestamp('2017-08-18 14:50:00'): 6,\n",
              "         Timestamp('2017-08-07 08:48:00'): 1,\n",
              "         Timestamp('2016-11-09 16:04:00'): 2,\n",
              "         Timestamp('2016-12-20 07:26:00'): 2,\n",
              "         Timestamp('2017-08-19 14:30:00'): 2,\n",
              "         Timestamp('2016-12-10 00:17:00'): 2,\n",
              "         Timestamp('2017-05-14 09:25:00'): 1,\n",
              "         Timestamp('2017-02-28 02:41:00'): 1,\n",
              "         Timestamp('2016-11-23 15:59:00'): 2,\n",
              "         Timestamp('2016-02-04 20:00:00'): 1,\n",
              "         Timestamp('2017-02-08 16:13:00'): 5,\n",
              "         Timestamp('2015-03-17 16:12:00'): 1,\n",
              "         Timestamp('2015-11-15 03:02:00'): 1,\n",
              "         Timestamp('2017-08-18 03:55:00'): 6,\n",
              "         Timestamp('2017-08-15 17:09:00'): 19,\n",
              "         Timestamp('2016-06-13 14:33:00'): 1,\n",
              "         Timestamp('2017-03-02 20:15:00'): 1,\n",
              "         Timestamp('2016-09-09 08:43:00'): 2,\n",
              "         Timestamp('2016-12-19 16:44:00'): 2,\n",
              "         Timestamp('2017-03-19 00:29:00'): 1,\n",
              "         Timestamp('2016-09-18 16:00:00'): 2,\n",
              "         Timestamp('2017-01-05 07:51:00'): 2,\n",
              "         Timestamp('2017-01-26 18:02:00'): 1,\n",
              "         Timestamp('2016-10-06 21:25:00'): 3,\n",
              "         Timestamp('2015-02-08 14:17:00'): 2,\n",
              "         Timestamp('2017-09-29 12:59:00'): 5,\n",
              "         Timestamp('2015-06-08 23:34:00'): 1,\n",
              "         Timestamp('2015-07-22 09:12:00'): 6,\n",
              "         Timestamp('2015-06-12 15:31:00'): 1,\n",
              "         Timestamp('2016-08-24 17:11:00'): 2,\n",
              "         Timestamp('2017-04-06 16:58:00'): 2,\n",
              "         Timestamp('2017-08-13 18:12:00'): 4,\n",
              "         Timestamp('2017-08-01 02:27:00'): 4,\n",
              "         Timestamp('2016-10-11 13:47:00'): 2,\n",
              "         Timestamp('2015-06-16 12:32:00'): 2,\n",
              "         Timestamp('2017-08-12 22:04:00'): 3,\n",
              "         Timestamp('2017-08-13 16:39:00'): 14,\n",
              "         Timestamp('2015-12-04 19:57:00'): 1,\n",
              "         Timestamp('2016-12-12 12:59:00'): 1,\n",
              "         Timestamp('2017-07-04 20:53:00'): 2,\n",
              "         Timestamp('2017-08-08 05:52:00'): 2,\n",
              "         Timestamp('2015-06-06 15:13:00'): 1,\n",
              "         Timestamp('2016-09-16 15:04:00'): 2,\n",
              "         Timestamp('2017-03-24 10:07:00'): 1,\n",
              "         Timestamp('2015-06-11 13:54:00'): 1,\n",
              "         Timestamp('2015-12-14 15:02:00'): 1,\n",
              "         Timestamp('2016-12-21 15:57:00'): 2,\n",
              "         Timestamp('2017-08-16 18:35:00'): 1,\n",
              "         Timestamp('2016-10-07 00:59:00'): 1,\n",
              "         Timestamp('2017-08-16 06:49:00'): 6,\n",
              "         Timestamp('2015-05-17 23:40:00'): 1,\n",
              "         Timestamp('2015-06-03 19:52:00'): 2,\n",
              "         Timestamp('2016-06-13 13:39:00'): 2,\n",
              "         Timestamp('2015-06-11 22:13:00'): 4,\n",
              "         Timestamp('2016-08-08 10:37:00'): 1,\n",
              "         Timestamp('2016-11-16 15:44:00'): 4,\n",
              "         Timestamp('2017-07-12 20:44:00'): 1,\n",
              "         Timestamp('2017-05-05 02:03:00'): 1,\n",
              "         Timestamp('2017-08-10 11:35:00'): 2,\n",
              "         Timestamp('2017-03-10 04:05:00'): 1,\n",
              "         Timestamp('2016-06-15 14:41:00'): 3,\n",
              "         Timestamp('2016-10-06 19:51:00'): 3,\n",
              "         Timestamp('2017-08-18 06:03:00'): 10,\n",
              "         Timestamp('2015-05-29 00:11:00'): 1,\n",
              "         Timestamp('2017-08-18 05:35:00'): 5,\n",
              "         Timestamp('2016-05-04 15:20:00'): 1,\n",
              "         Timestamp('2017-08-14 05:35:00'): 5,\n",
              "         Timestamp('2017-01-25 04:28:00'): 3,\n",
              "         Timestamp('2016-09-05 11:09:00'): 1,\n",
              "         Timestamp('2016-09-09 05:44:00'): 1,\n",
              "         Timestamp('2016-10-14 00:07:00'): 2,\n",
              "         Timestamp('2017-09-14 23:58:00'): 1,\n",
              "         Timestamp('2016-10-05 16:13:00'): 1,\n",
              "         Timestamp('2017-08-12 19:24:00'): 13,\n",
              "         Timestamp('2017-08-13 16:30:00'): 6,\n",
              "         Timestamp('2017-08-12 18:28:00'): 11,\n",
              "         Timestamp('2016-09-21 15:49:00'): 1,\n",
              "         Timestamp('2015-07-04 10:07:00'): 2,\n",
              "         Timestamp('2016-10-06 13:11:00'): 3,\n",
              "         Timestamp('2017-01-18 16:08:00'): 3,\n",
              "         Timestamp('2017-04-19 10:39:00'): 1,\n",
              "         Timestamp('2015-06-10 16:32:00'): 2,\n",
              "         Timestamp('2016-12-09 21:55:00'): 1,\n",
              "         Timestamp('2016-11-30 15:52:00'): 2,\n",
              "         Timestamp('2017-08-17 22:22:00'): 7,\n",
              "         Timestamp('2017-08-16 10:00:00'): 2,\n",
              "         Timestamp('2016-12-06 02:59:00'): 2,\n",
              "         Timestamp('2017-08-14 21:51:00'): 1,\n",
              "         Timestamp('2016-12-11 18:01:00'): 1,\n",
              "         Timestamp('2015-12-03 16:46:00'): 1,\n",
              "         Timestamp('2016-12-26 22:51:00'): 1,\n",
              "         Timestamp('2017-02-27 22:26:00'): 1,\n",
              "         Timestamp('2016-11-03 11:50:00'): 1,\n",
              "         Timestamp('2016-12-25 22:23:00'): 1,\n",
              "         Timestamp('2016-07-06 14:50:00'): 5,\n",
              "         Timestamp('2017-08-09 02:56:00'): 7,\n",
              "         Timestamp('2016-05-20 15:48:00'): 2,\n",
              "         Timestamp('2016-05-10 09:16:00'): 1,\n",
              "         Timestamp('2016-12-02 15:56:00'): 1,\n",
              "         Timestamp('2016-12-08 04:49:00'): 2,\n",
              "         Timestamp('2016-03-14 13:17:00'): 2,\n",
              "         Timestamp('2017-08-18 04:47:00'): 6,\n",
              "         Timestamp('2017-08-18 13:17:00'): 1,\n",
              "         Timestamp('2015-12-16 02:06:00'): 1,\n",
              "         Timestamp('2017-04-17 20:18:00'): 3,\n",
              "         Timestamp('2017-08-10 21:33:00'): 2,\n",
              "         Timestamp('2017-08-10 11:39:00'): 4,\n",
              "         Timestamp('2016-02-01 15:23:00'): 3,\n",
              "         Timestamp('2017-08-17 09:17:00'): 3,\n",
              "         Timestamp('2015-06-10 01:13:00'): 1,\n",
              "         Timestamp('2017-08-17 23:31:00'): 2,\n",
              "         Timestamp('2017-10-07 18:11:00'): 2,\n",
              "         Timestamp('2016-10-06 12:07:00'): 3,\n",
              "         Timestamp('2017-08-14 00:55:00'): 8,\n",
              "         Timestamp('2016-05-16 14:11:00'): 2,\n",
              "         Timestamp('2017-04-10 19:03:00'): 2,\n",
              "         Timestamp('2017-03-07 09:47:00'): 1,\n",
              "         Timestamp('2015-06-03 20:54:00'): 2,\n",
              "         Timestamp('2017-01-25 15:52:00'): 1,\n",
              "         Timestamp('2017-08-08 19:29:00'): 4,\n",
              "         Timestamp('2017-09-13 16:19:00'): 3,\n",
              "         Timestamp('2017-08-01 12:36:00'): 2,\n",
              "         Timestamp('2015-06-15 17:32:00'): 2,\n",
              "         Timestamp('2016-10-26 07:01:00'): 2,\n",
              "         Timestamp('2015-08-28 11:47:00'): 1,\n",
              "         Timestamp('2016-10-27 11:38:00'): 1,\n",
              "         Timestamp('2016-09-19 08:43:00'): 2,\n",
              "         Timestamp('2017-06-12 15:42:00'): 1,\n",
              "         Timestamp('2017-07-19 23:32:00'): 1,\n",
              "         Timestamp('2017-03-24 08:06:00'): 1,\n",
              "         Timestamp('2017-08-10 13:56:00'): 8,\n",
              "         Timestamp('2016-08-24 16:28:00'): 3,\n",
              "         Timestamp('2016-03-05 10:08:00'): 1,\n",
              "         Timestamp('2017-08-13 17:07:00'): 2,\n",
              "         Timestamp('2017-02-14 13:30:00'): 1,\n",
              "         Timestamp('2016-08-07 14:28:00'): 1,\n",
              "         Timestamp('2016-12-30 14:55:00'): 2,\n",
              "         Timestamp('2015-07-21 12:51:00'): 2,\n",
              "         Timestamp('2017-08-13 16:20:00'): 14,\n",
              "         Timestamp('2017-08-14 18:12:00'): 3,\n",
              "         Timestamp('2017-08-12 19:22:00'): 12,\n",
              "         Timestamp('2017-01-02 01:11:00'): 3,\n",
              "         Timestamp('2017-09-06 18:56:00'): 1,\n",
              "         Timestamp('2016-10-12 15:15:00'): 2,\n",
              "         Timestamp('2017-08-18 14:55:00'): 5,\n",
              "         Timestamp('2016-03-18 15:54:00'): 1,\n",
              "         Timestamp('2016-09-05 15:17:00'): 1,\n",
              "         Timestamp('2016-09-19 12:50:00'): 2,\n",
              "         Timestamp('2016-11-15 13:27:00'): 1,\n",
              "         ...})"
            ]
          },
          "metadata": {
            "tags": []
          },
          "execution_count": 72
        }
      ]
    },
    {
      "cell_type": "code",
      "metadata": {
        "scrolled": true,
        "id": "0S7zAJYliuOK",
        "outputId": "4a9a311c-5d59-46b5-956c-3bc6ad2ed06c"
      },
      "source": [
        "sort_publish = sorted(publish_days.items(), key=lambda x: x[1], reverse=True)\n",
        "sort_publish[:30]"
      ],
      "execution_count": null,
      "outputs": [
        {
          "output_type": "execute_result",
          "data": {
            "text/plain": [
              "[(Timestamp('2017-08-12 18:26:00'), 23),\n",
              " (Timestamp('2017-08-12 19:16:00'), 21),\n",
              " (Timestamp('2017-08-16 14:09:00'), 19),\n",
              " (Timestamp('2017-08-15 17:09:00'), 19),\n",
              " (Timestamp('2017-08-18 06:14:00'), 19),\n",
              " (Timestamp('2017-08-09 12:31:00'), 18),\n",
              " (Timestamp('2017-08-12 18:51:00'), 17),\n",
              " (Timestamp('2017-08-15 17:10:00'), 17),\n",
              " (Timestamp('2017-08-12 18:47:00'), 17),\n",
              " (Timestamp('2017-08-12 19:11:00'), 17),\n",
              " (Timestamp('2017-08-16 14:25:00'), 16),\n",
              " (Timestamp('2017-08-12 18:22:00'), 16),\n",
              " (Timestamp('2017-08-15 17:03:00'), 15),\n",
              " (Timestamp('2017-08-15 17:01:00'), 15),\n",
              " (Timestamp('2017-08-12 18:17:00'), 15),\n",
              " (Timestamp('2017-08-12 20:04:00'), 15),\n",
              " (Timestamp('2017-08-15 17:11:00'), 15),\n",
              " (Timestamp('2017-08-16 14:23:00'), 15),\n",
              " (Timestamp('2017-08-16 14:05:00'), 15),\n",
              " (Timestamp('2017-08-12 19:32:00'), 15),\n",
              " (Timestamp('2017-08-18 17:24:00'), 14),\n",
              " (Timestamp('2017-08-16 14:13:00'), 14),\n",
              " (Timestamp('2017-08-17 16:19:00'), 14),\n",
              " (Timestamp('2017-08-17 16:29:00'), 14),\n",
              " (Timestamp('2017-08-13 16:39:00'), 14),\n",
              " (Timestamp('2017-08-13 16:20:00'), 14),\n",
              " (Timestamp('2017-08-15 00:16:00'), 14),\n",
              " (Timestamp('2017-08-10 11:51:00'), 14),\n",
              " (Timestamp('2017-08-18 17:14:00'), 14),\n",
              " (Timestamp('2017-08-12 19:17:00'), 14)]"
            ]
          },
          "metadata": {
            "tags": []
          },
          "execution_count": 73
        }
      ]
    },
    {
      "cell_type": "code",
      "metadata": {
        "id": "zzeGoYmgiuOK"
      },
      "source": [
        "# get range to encapsulate before and after election 2016\n",
        "mask = (data['publish_date'] > '09/01/2016') &\\\n",
        "(data['publish_date']  <= '12/01/2017')\n",
        "\n",
        "data=data[mask].sort_values('publish_date')\n",
        "\n",
        "data['publish_date_Only']=pd.to_datetime(data['publish_date_Only'])"
      ],
      "execution_count": null,
      "outputs": []
    },
    {
      "cell_type": "code",
      "metadata": {
        "id": "0f78B8T9iuOL",
        "outputId": "93113c7f-50ed-4450-c46c-ba000e0070df"
      },
      "source": [
        "import matplotlib.pyplot as plt # if you don't do .pyplot you get error for labels\n",
        "\n",
        "plt.figure(figsize=(11,7))\n",
        "\n",
        "# Count the number of times a date appears and convert to dataframe\n",
        "tweet_trend = pd.DataFrame(data['publish_date_Only'].value_counts())\n",
        "\n",
        "# sort dates and get count by date:\n",
        "dd=pd.to_datetime(data['publish_date_Only']).value_counts().sort_index()\n",
        "\n",
        "plt.plot(dd)\n",
        "\n",
        "plt.xticks(rotation=45,ha=\"right\")\n",
        "plt.title('English Tweets: Sept 2016 - Jan. 2017',fontsize=17)\n",
        "plt.xlabel('Date', fontsize = 14)\n",
        "plt.ylabel('Tweet Count', fontsize = 14)\n",
        "plt.grid(True)\n",
        "plt.show()"
      ],
      "execution_count": null,
      "outputs": [
        {
          "output_type": "display_data",
          "data": {
            "image/png": "[encoded data removed]",
            "text/plain": [
              "<Figure size 792x504 with 1 Axes>"
            ]
          },
          "metadata": {
            "tags": [],
            "needs_background": "light"
          }
        }
      ]
    },
    {
      "cell_type": "code",
      "metadata": {
        "id": "CjuULXfbiuOL",
        "outputId": "9b9488d3-739f-4b99-d4a7-01547f355584"
      },
      "source": [
        "#Let's take a look at the english tweets during this spike\n",
        "eng_spike = data[data['language'] == 'English']\n",
        "eng_spike.shape\n",
        "#Most of the tweets within this spike were in English language"
      ],
      "execution_count": null,
      "outputs": [
        {
          "output_type": "execute_result",
          "data": {
            "text/plain": [
              "(33186, 20)"
            ]
          },
          "metadata": {
            "tags": []
          },
          "execution_count": 76
        }
      ]
    },
    {
      "cell_type": "code",
      "metadata": {
        "id": "ua_qmdN_iuOL",
        "outputId": "539aebb4-4557-466a-eb59-12b95754cfa6"
      },
      "source": [
        "eng_spike['publish_date_Only'].value_counts()"
      ],
      "execution_count": null,
      "outputs": [
        {
          "output_type": "execute_result",
          "data": {
            "text/plain": [
              "2017-08-12    1487\n",
              "2017-08-18    1391\n",
              "2017-08-16    1291\n",
              "2017-08-15    1263\n",
              "2017-08-17    1243\n",
              "              ... \n",
              "2017-11-28       1\n",
              "2017-06-25       1\n",
              "2016-10-01       1\n",
              "2017-11-20       1\n",
              "2017-11-12       1\n",
              "Name: publish_date_Only, Length: 431, dtype: int64"
            ]
          },
          "metadata": {
            "tags": []
          },
          "execution_count": 77
        }
      ]
    },
    {
      "cell_type": "code",
      "metadata": {
        "id": "Ed4bOAjPiuOM",
        "outputId": "2573a81e-87f1-4fd5-ce68-beee9c63e555"
      },
      "source": [
        "\n",
        "# August 12, 2017\n",
        "\n",
        "aug_8=eng_spike[eng_spike['publish_date_Only']=='08/12/2017']\n",
        "\n",
        "plt.figure(figsize=(11,7))\n",
        "sns.countplot(aug_8['account_category'])\n",
        "\n",
        "\n",
        "plt.grid(True)\n",
        "plt.title('August 12,2017 Account Category Tweets',size=15)\n",
        "plt.xlabel('Account Category',size=15)\n",
        "plt.ylabel('Tweet Count',size=15)\n",
        "plt.show()"
      ],
      "execution_count": null,
      "outputs": [
        {
          "output_type": "display_data",
          "data": {
            "image/png": "[encoded data removed]",
            "text/plain": [
              "<Figure size 792x504 with 1 Axes>"
            ]
          },
          "metadata": {
            "tags": [],
            "needs_background": "light"
          }
        }
      ]
    },
    {
      "cell_type": "code",
      "metadata": {
        "id": "RteoKC4RiuOM",
        "outputId": "ea280d26-47a4-41df-c775-565f6f503db4"
      },
      "source": [
        "aug_8['account_category'].value_counts()"
      ],
      "execution_count": null,
      "outputs": [
        {
          "output_type": "execute_result",
          "data": {
            "text/plain": [
              "RightTroll    1487\n",
              "Name: account_category, dtype: int64"
            ]
          },
          "metadata": {
            "tags": []
          },
          "execution_count": 79
        }
      ]
    },
    {
      "cell_type": "markdown",
      "metadata": {
        "id": "AWY4oSe_iuON"
      },
      "source": [
        "Apparently, all tweets on this day (August 08,2017) were made by Right Troll accounts"
      ]
    },
    {
      "cell_type": "code",
      "metadata": {
        "id": "x43ZvlXSiuON",
        "outputId": "8a61f946-d864-463e-debb-a205f6800a65"
      },
      "source": [
        "# August 18, 2017\n",
        "\n",
        "aug_18=eng_spike[eng_spike['publish_date_Only']=='08/18/2017']\n",
        "\n",
        "plt.figure(figsize=(11,7))\n",
        "\n",
        "sns.countplot(aug_18['account_category'])\n",
        "\n",
        "plt.grid(True)\n",
        "plt.title('August 18,2017 Account Category Tweets',size=15)\n",
        "plt.xlabel('Account Category',size=15)\n",
        "plt.ylabel('Tweet Count',size=15)\n",
        "plt.show()"
      ],
      "execution_count": null,
      "outputs": [
        {
          "output_type": "display_data",
          "data": {
            "image/png": "[encoded data removed]",
            "text/plain": [
              "<Figure size 792x504 with 1 Axes>"
            ]
          },
          "metadata": {
            "tags": [],
            "needs_background": "light"
          }
        }
      ]
    },
    {
      "cell_type": "code",
      "metadata": {
        "id": "w5w4YtZ-iuOO",
        "outputId": "43579d25-08b7-4b6c-c8a1-b3a6b112f521"
      },
      "source": [
        "aug_18['account_category'].value_counts()"
      ],
      "execution_count": null,
      "outputs": [
        {
          "output_type": "execute_result",
          "data": {
            "text/plain": [
              "RightTroll    1391\n",
              "Name: account_category, dtype: int64"
            ]
          },
          "metadata": {
            "tags": []
          },
          "execution_count": 81
        }
      ]
    },
    {
      "cell_type": "code",
      "metadata": {
        "id": "AEv94aymiuOP",
        "outputId": "caed0323-0532-45e0-fe2e-5e1d02d2fc6d"
      },
      "source": [
        "eng_spike['author'].value_counts()[:10].index\n",
        "#Biggest English Tweeters of the spike"
      ],
      "execution_count": null,
      "outputs": [
        {
          "output_type": "execute_result",
          "data": {
            "text/plain": [
              "Index(['AMELIEBALDWIN', 'ANTONHAYHAY', 'ALECMOOOOODY', 'ADNNELSTR',\n",
              "       'ANIIANTRS', 'ACEJINEV', 'ATLANTA_ONLINE', 'ALEXXDRTRR', 'AMBERLINETR',\n",
              "       'ALBUQUERQUEON'],\n",
              "      dtype='object')"
            ]
          },
          "metadata": {
            "tags": []
          },
          "execution_count": 82
        }
      ]
    },
    {
      "cell_type": "code",
      "metadata": {
        "scrolled": true,
        "id": "krjsNNEPiuOP",
        "outputId": "d19d1491-3114-447e-f16a-55b618835689"
      },
      "source": [
        "top_ten_auth_spike=list(eng_spike['author'].value_counts()[:10].index)\n",
        "\n",
        "sub_en_auth=eng_spike.loc[:,['author','publish_date_Only','followers','following']]\n",
        "\n",
        "top10_author_spike=sub_en_auth[sub_en_auth['author'].isin(top_ten_auth_spike)]\n",
        "\n",
        "\n",
        "mi=top10_author_spike.sort_values(['publish_date_Only','author']).\\\n",
        "groupby(['publish_date_Only','author']).max()\n",
        "mi"
      ],
      "execution_count": null,
      "outputs": [
        {
          "output_type": "execute_result",
          "data": {
            "text/html": [
              "<div>\n",
              "<style scoped>\n",
              "    .dataframe tbody tr th:only-of-type {\n",
              "        vertical-align: middle;\n",
              "    }\n",
              "\n",
              "    .dataframe tbody tr th {\n",
              "        vertical-align: top;\n",
              "    }\n",
              "\n",
              "    .dataframe thead th {\n",
              "        text-align: right;\n",
              "    }\n",
              "</style>\n",
              "<table border=\"1\" class=\"dataframe\">\n",
              "  <thead>\n",
              "    <tr style=\"text-align: right;\">\n",
              "      <th></th>\n",
              "      <th></th>\n",
              "      <th>followers</th>\n",
              "      <th>following</th>\n",
              "    </tr>\n",
              "    <tr>\n",
              "      <th>publish_date_Only</th>\n",
              "      <th>author</th>\n",
              "      <th></th>\n",
              "      <th></th>\n",
              "    </tr>\n",
              "  </thead>\n",
              "  <tbody>\n",
              "    <tr>\n",
              "      <th rowspan=\"4\" valign=\"top\">2016-09-01</th>\n",
              "      <th>ACEJINEV</th>\n",
              "      <td>857</td>\n",
              "      <td>1021</td>\n",
              "    </tr>\n",
              "    <tr>\n",
              "      <th>ALECMOOOOODY</th>\n",
              "      <td>906</td>\n",
              "      <td>842</td>\n",
              "    </tr>\n",
              "    <tr>\n",
              "      <th>ANTONHAYHAY</th>\n",
              "      <td>693</td>\n",
              "      <td>656</td>\n",
              "    </tr>\n",
              "    <tr>\n",
              "      <th>ATLANTA_ONLINE</th>\n",
              "      <td>17336</td>\n",
              "      <td>8519</td>\n",
              "    </tr>\n",
              "    <tr>\n",
              "      <th>2016-09-02</th>\n",
              "      <th>ATLANTA_ONLINE</th>\n",
              "      <td>17331</td>\n",
              "      <td>8518</td>\n",
              "    </tr>\n",
              "    <tr>\n",
              "      <th>...</th>\n",
              "      <th>...</th>\n",
              "      <td>...</td>\n",
              "      <td>...</td>\n",
              "    </tr>\n",
              "    <tr>\n",
              "      <th>2017-10-18</th>\n",
              "      <th>ANIIANTRS</th>\n",
              "      <td>1502</td>\n",
              "      <td>1</td>\n",
              "    </tr>\n",
              "    <tr>\n",
              "      <th>2017-10-19</th>\n",
              "      <th>ANIIANTRS</th>\n",
              "      <td>1472</td>\n",
              "      <td>1</td>\n",
              "    </tr>\n",
              "    <tr>\n",
              "      <th>2017-10-20</th>\n",
              "      <th>ANIIANTRS</th>\n",
              "      <td>1448</td>\n",
              "      <td>3</td>\n",
              "    </tr>\n",
              "    <tr>\n",
              "      <th>2017-10-21</th>\n",
              "      <th>ANIIANTRS</th>\n",
              "      <td>1505</td>\n",
              "      <td>1001</td>\n",
              "    </tr>\n",
              "    <tr>\n",
              "      <th>2017-10-22</th>\n",
              "      <th>ANIIANTRS</th>\n",
              "      <td>1541</td>\n",
              "      <td>1005</td>\n",
              "    </tr>\n",
              "  </tbody>\n",
              "</table>\n",
              "<p>1494 rows × 2 columns</p>\n",
              "</div>"
            ],
            "text/plain": [
              "                                  followers  following\n",
              "publish_date_Only author                              \n",
              "2016-09-01        ACEJINEV              857       1021\n",
              "                  ALECMOOOOODY          906        842\n",
              "                  ANTONHAYHAY           693        656\n",
              "                  ATLANTA_ONLINE      17336       8519\n",
              "2016-09-02        ATLANTA_ONLINE      17331       8518\n",
              "...                                     ...        ...\n",
              "2017-10-18        ANIIANTRS            1502          1\n",
              "2017-10-19        ANIIANTRS            1472          1\n",
              "2017-10-20        ANIIANTRS            1448          3\n",
              "2017-10-21        ANIIANTRS            1505       1001\n",
              "2017-10-22        ANIIANTRS            1541       1005\n",
              "\n",
              "[1494 rows x 2 columns]"
            ]
          },
          "metadata": {
            "tags": []
          },
          "execution_count": 83
        }
      ]
    },
    {
      "cell_type": "code",
      "metadata": {
        "id": "HAh8c68iiuOQ",
        "outputId": "e73061c8-f5eb-4d50-aa9d-9f3e19f389b0"
      },
      "source": [
        "f=pd.DataFrame(list(mi.index),columns=['date','author'])\n",
        "\n",
        "followers=pd.DataFrame(list(mi['followers']),columns=['followers'])\n",
        "\n",
        "following=pd.DataFrame(list(mi['following']),columns=['following'])\n",
        "\n",
        "pp=pd.concat([f,followers,following],axis=1).sort_values(['author','date'])\n",
        "\n",
        "\n",
        "plt.figure(figsize=(16,9))\n",
        "\n",
        "sns.lineplot(data=pp, x=\"date\", y=\"followers\", hue=\"author\")\n",
        "\n",
        "\n",
        "# Put the legend out of the figure\n",
        "plt.legend(bbox_to_anchor=(1.05, 1), loc=2, borderaxespad=0.)\n",
        "\n",
        "plt.title('Top 10 Users By Follower Count',size=20)\n",
        "plt.xlabel('Date',size=20)\n",
        "plt.ylabel('Followers Count',size=20)\n",
        "plt.yticks(size=15)\n",
        "plt.xticks(size=14,rotation=30,ha='right')\n",
        "plt.yticks(size=14)\n",
        "\n",
        "plt.show()"
      ],
      "execution_count": null,
      "outputs": [
        {
          "output_type": "display_data",
          "data": {
            "image/png": "[encoded data removed]",
            "text/plain": [
              "<Figure size 1152x648 with 1 Axes>"
            ]
          },
          "metadata": {
            "tags": [],
            "needs_background": "light"
          }
        }
      ]
    },
    {
      "cell_type": "code",
      "metadata": {
        "id": "c1d9awpsiuOQ",
        "outputId": "4f92b7c6-6edd-4ce2-83b1-621f21777274"
      },
      "source": [
        "plt.figure(figsize=(16,9))\n",
        "sns.lineplot(data=pp, x=\"date\", y=\"following\", hue=\"author\")\n",
        "\n",
        "# Put the legend out of the figure\n",
        "plt.legend(bbox_to_anchor=(1.05, 1), loc=2, borderaxespad=0.)\n",
        "\n",
        "plt.title('Top 10 Users By Following Count',size=20)\n",
        "plt.xlabel('Date',size=20)\n",
        "plt.ylabel('Following Count',size=20)\n",
        "plt.yticks(size=15)\n",
        "plt.xticks(size=14,rotation=30,ha='right')\n",
        "plt.yticks(size=14)\n",
        "\n",
        "plt.show()"
      ],
      "execution_count": null,
      "outputs": [
        {
          "output_type": "display_data",
          "data": {
            "image/png": "[encoded data removed]",
            "text/plain": [
              "<Figure size 1152x648 with 1 Axes>"
            ]
          },
          "metadata": {
            "tags": [],
            "needs_background": "light"
          }
        }
      ]
    },
    {
      "cell_type": "code",
      "metadata": {
        "id": "WahAdoPeiuOS",
        "outputId": "a70af8d3-8d32-4ead-cb52-43fbf6f06ff5"
      },
      "source": [
        "#Hashtag counter\n",
        "def getHashtags(text):\n",
        "    for string in text:\n",
        "        if isinstance(string,str):\n",
        "            for token in string.split(' '):\n",
        "                if token.startswith('#'):\n",
        "                    yield token\n",
        "\n",
        "\n",
        "hashtags = getHashtags(ameliebaldwin['content'])\n",
        "hashtag_frequency = Counter(hashtags)\n",
        "hashtag_frequency.most_common(100)"
      ],
      "execution_count": null,
      "outputs": [
        {
          "output_type": "execute_result",
          "data": {
            "text/plain": [
              "[('#MAGA', 300),\n",
              " ('#tcot', 114),\n",
              " ('#Trump', 88),\n",
              " ('#NeverHillary', 80),\n",
              " ('#PJNET', 70),\n",
              " ('#TrumpTrain', 62),\n",
              " ('#NoDAPL', 55),\n",
              " ('#Trump2016', 54),\n",
              " ('#AmericaFirst', 47),\n",
              " ('#TrumpPence16', 45),\n",
              " ('#WakeUpAmerica', 35),\n",
              " ('#MakeAmericaGreatAgain', 34),\n",
              " ('#TCOT', 34),\n",
              " ('#Hillary', 30),\n",
              " ('#HillaryClinton', 29),\n",
              " ('#ccot', 27),\n",
              " ('#maga', 27),\n",
              " ('#2A', 26),\n",
              " ('#CrookedHillary', 25),\n",
              " ('#DrainTheSwamp', 23),\n",
              " ('#Syria', 21),\n",
              " ('#FakeNews', 21),\n",
              " ('#Chelsea', 20),\n",
              " ('#VoteTrump', 20),\n",
              " ('#Obama', 18),\n",
              " ('#FeelTheBern', 17),\n",
              " ('#HillaryForPrison', 17),\n",
              " ('#TRUMP', 17),\n",
              " ('#DNC', 16),\n",
              " ('#pjnet', 16),\n",
              " ('#RedNationRising', 15),\n",
              " ('#Election2016', 15),\n",
              " ('#CCOT', 15),\n",
              " ('#PodestaEmails', 15),\n",
              " ('#Israel', 15),\n",
              " ('#DemExit', 14),\n",
              " ('#BasketOfDeplorables', 14),\n",
              " ('#hacked', 14),\n",
              " ('#USA', 14),\n",
              " ('#HillarysHealth', 14),\n",
              " ('#FridayFeeling', 13),\n",
              " ('#Hacked', 13),\n",
              " ('#WomensMarch', 13),\n",
              " ('#Aleppo', 13),\n",
              " ('#JillNotHill', 13),\n",
              " ('#Hannity', 13),\n",
              " ('#gop', 13),\n",
              " ('#DNCleak', 13),\n",
              " ('#MSM', 13),\n",
              " ('#PizzaGate', 12),\n",
              " ('#TrumpsArmy', 12),\n",
              " ('#p2', 12),\n",
              " ('#birtherism', 12),\n",
              " ('#ISIS', 12),\n",
              " ('#TheGOPHasBecome', 12),\n",
              " ('#news', 12),\n",
              " ('#CNN', 12),\n",
              " ('#auspol', 12),\n",
              " ('#LockHerUp', 12),\n",
              " ('#trump', 11),\n",
              " ('#1', 11),\n",
              " ('#BringBernieBack', 11),\n",
              " ('#Islam', 11),\n",
              " ('#smallbusiness', 10),\n",
              " ('#saturdaymorning', 10),\n",
              " ('#TrumpForPresident', 10),\n",
              " ('#FollowTheMoney', 10),\n",
              " ('#SusanRice', 10),\n",
              " ('#ThursdayThoughts', 10),\n",
              " ('#PresidentTrump', 10),\n",
              " ('#Clinton', 10),\n",
              " ('#ObamaGate', 9),\n",
              " ('#GOP', 9),\n",
              " ('#Recount2016', 9),\n",
              " ('#resist', 9),\n",
              " ('#preppers', 9),\n",
              " ('#veterans', 9),\n",
              " ('#ProLife', 9),\n",
              " ('#StandingRock', 9),\n",
              " ('#cdnpoli', 9),\n",
              " ('#climatechange', 9),\n",
              " ('#WaterIsLife', 9),\n",
              " ('#Vault7', 9),\n",
              " ('#fakenews', 8),\n",
              " ('#Dobbs', 8),\n",
              " ('#Debate', 8),\n",
              " ('#ElectionDay', 8),\n",
              " ('#MAGA3X', 8),\n",
              " ('#draintheswamp', 8),\n",
              " ('#Brexit', 8),\n",
              " ('#FBI', 8),\n",
              " ('#TheResistance', 8),\n",
              " ('#America', 8),\n",
              " ('#WikiLeaks', 8),\n",
              " ('#Russia', 8),\n",
              " ('#SpiritCooking', 8),\n",
              " ('#Oscars', 7),\n",
              " ('#WeThePeople', 7),\n",
              " ('#NRA', 7),\n",
              " ('#Veterans', 7)]"
            ]
          },
          "metadata": {
            "tags": []
          },
          "execution_count": 86
        }
      ]
    },
    {
      "cell_type": "code",
      "metadata": {
        "id": "A2AboLediuOT",
        "outputId": "d0df937b-5e10-4e5f-c332-d94b7e059b70"
      },
      "source": [
        "def getRetweets(text):\n",
        "    for string in text:\n",
        "        if isinstance(string,str):\n",
        "            tokens = string.split(' ')\n",
        "            if tokens[0] == 'RT' and tokens[1].startswith('@'):\n",
        "                yield tokens[1]\n",
        "\n",
        "\n",
        "retweets = getRetweets(ameliebaldwin['content'])\n",
        "retweet_frequency = Counter(retweets)\n",
        "retweet_frequency.most_common(30)"
      ],
      "execution_count": null,
      "outputs": [
        {
          "output_type": "execute_result",
          "data": {
            "text/plain": [
              "[('@jstines3:', 2),\n",
              " ('@Krisden10:', 2),\n",
              " ('@realDonaldTrump:', 1),\n",
              " ('@mikandynothem:', 1),\n",
              " ('@ZaRdOz420WPN', 1),\n",
              " ('@ositoraul1', 1),\n",
              " ('@N71240869', 1),\n",
              " ('@mellowsprytny', 1),\n",
              " ('@sow_with_vision:', 1),\n",
              " ('@HOPE4THE_FUTURE', 1),\n",
              " ('@MattBatzel:', 1),\n",
              " ('@GlobeOpinion', 1),\n",
              " ('@hillaryclinton', 1),\n",
              " ('@LindaSuhler:', 1),\n",
              " ('@truth_woman', 1),\n",
              " ('@gerfingerpoken:', 1),\n",
              " ('@Fingersflying:', 1),\n",
              " ('@Pudingtane:', 1),\n",
              " ('@oneJesusloves:', 1),\n",
              " ('@kipwood13:', 1),\n",
              " ('@dansch2002:', 1),\n",
              " ('@SarahPalinUSA:', 1)]"
            ]
          },
          "metadata": {
            "tags": []
          },
          "execution_count": 87
        }
      ]
    },
    {
      "cell_type": "code",
      "metadata": {
        "id": "zF1QTdvmiuOT",
        "outputId": "7dcc39ac-4b26-4375-95c6-0e0530213691"
      },
      "source": [
        "def getMentions(text):\n",
        "    for string in text:\n",
        "        if isinstance(string,str):\n",
        "            for token in string.split(' '):\n",
        "                if token.startswith('@') and len(token)>1:\n",
        "                    yield token.partition('\\'')[0].partition(':')[0]\n",
        "\n",
        "\n",
        "mentions = getMentions(ameliebaldwin['content']) \n",
        "mention_frequency = Counter(mentions)- retweet_frequency\n",
        "mention_frequency.most_common(100)"
      ],
      "execution_count": null,
      "outputs": [
        {
          "output_type": "execute_result",
          "data": {
            "text/plain": [
              "[('@realDonaldTrump', 230),\n",
              " ('@POTUS', 91),\n",
              " ('@HillaryClinton', 79),\n",
              " ('@YouTube', 70),\n",
              " ('@FoxNews', 42),\n",
              " ('@CNN', 36),\n",
              " ('@BreitbartNews', 29),\n",
              " ('@seanhannity', 22),\n",
              " ('@FBI', 20),\n",
              " ('@GOP', 16),\n",
              " ('@Cernovich', 16),\n",
              " ('@wikileaks', 16),\n",
              " ('@MSNBC', 16),\n",
              " ('@KellyannePolls', 15),\n",
              " ('@jaketapper', 14),\n",
              " ('@BarackObama', 14),\n",
              " ('@BernieSanders', 13),\n",
              " ('@TheDemocrats', 12),\n",
              " ('@PrisonPlanet', 12),\n",
              " ('@dailycaller', 12),\n",
              " ('@SenSanders', 12),\n",
              " ('@MiceeMouse', 11),\n",
              " ('@SpeakerRyan', 11),\n",
              " ('@Nigel_Farage', 10),\n",
              " ('@MailOnline', 10),\n",
              " ('@foxandfriends', 10),\n",
              " ('@washingtonpost', 10),\n",
              " ('@mike_pence', 10),\n",
              " ('@nytimes', 10),\n",
              " ('@Lrihendry', 10),\n",
              " ('@LindaSuhler', 10),\n",
              " ('@alllibertynews', 10),\n",
              " ('@IvankaTrump', 10),\n",
              " ('@TeamTrump', 10),\n",
              " ('@ABC', 10),\n",
              " ('@gatewaypundit', 10),\n",
              " ('@DanScavino', 9),\n",
              " ('@nypost', 9),\n",
              " ('@TuckerCarlson', 8),\n",
              " ('@bfraser747', 8),\n",
              " ('@SheriffClarke', 8),\n",
              " ('@SenJohnMcCain', 8),\n",
              " ('@CBSNews', 8),\n",
              " ('@maddow', 7),\n",
              " ('@c0nvey', 7),\n",
              " ('@realDonaldTrump.', 7),\n",
              " ('@ChristiChat', 7),\n",
              " ('@SandraTXAS', 6),\n",
              " ('@DNC', 6),\n",
              " ('@HAGOODMANAUTHOR', 6),\n",
              " ('@PressSec', 6),\n",
              " ('@NancyPelosi', 6),\n",
              " ('@VP', 6),\n",
              " ('@DrMartyFox', 6),\n",
              " ('@JustinTrudeau', 6),\n",
              " ('@infowars', 6),\n",
              " ('@cnn', 6),\n",
              " ('@LorettaLynch', 6),\n",
              " ('@Evan_McMullin', 6),\n",
              " ('@DrJillStein', 6),\n",
              " ('@LeeCamp', 6),\n",
              " ('@SecretService', 6),\n",
              " ('@LPNational', 6),\n",
              " ('@CarmineZozzora', 6),\n",
              " ('@RealAlexJones', 6),\n",
              " ('@RandPaul', 6),\n",
              " ('@WhiteHouse', 6),\n",
              " ('@ICEgov', 6),\n",
              " ('@FLOTUS', 5),\n",
              " ('@DailyCaller', 5),\n",
              " ('@realDonaldTrump!', 5),\n",
              " ('@SenTedCruz', 5),\n",
              " ('@GlennMcmillan14', 5),\n",
              " ('@twitter', 5),\n",
              " ('@TheEconomist', 5),\n",
              " ('@Pudingtane', 5),\n",
              " ('@LifeZette', 5),\n",
              " ('@dcexaminer', 5),\n",
              " ('@CBS', 5),\n",
              " ('@timkaine', 5),\n",
              " ('@KazmierskiR', 5),\n",
              " ('@realalexjones', 5),\n",
              " ('@GovGaryJohnson', 5),\n",
              " ('@JamesOKeefeIII', 4),\n",
              " ('@HillaryClinton,', 4),\n",
              " ('@po_st', 4),\n",
              " ('@LeahR77', 4),\n",
              " ('@BuzzFeed', 4),\n",
              " ('@DMashak', 4),\n",
              " ('@CUBASIKASTRONO', 4),\n",
              " ('@HuffPostPol', 4),\n",
              " ('@Reince', 4),\n",
              " ('@CIA', 4),\n",
              " ('@AmyMek', 4),\n",
              " ('@inabster', 4),\n",
              " ('@AP', 4),\n",
              " ('@RealTimBlack', 4),\n",
              " ('@BilldeBlasio', 4),\n",
              " ('@GeorgiaDirtRoad', 4),\n",
              " ('@netanyahu', 4)]"
            ]
          },
          "metadata": {
            "tags": []
          },
          "execution_count": 88
        }
      ]
    },
    {
      "cell_type": "code",
      "metadata": {
        "id": "IS9dr_ouiuOU",
        "outputId": "00df1939-7f02-4e6a-f8c4-8f42520a1466"
      },
      "source": [
        "plt.figure(figsize=(24,16))\n",
        "\n",
        "plt.subplot(1,3,1)\n",
        "top50 = hashtag_frequency.most_common(50)\n",
        "keys = [x[0] for x in top50]\n",
        "vals = [x[1] for x in top50]\n",
        "xpos = range(len(vals),0,-1)\n",
        "plt.barh(xpos, vals)\n",
        "plt.yticks(xpos,keys)\n",
        "plt.title(\"Hashtags\")\n",
        "\n",
        "plt.subplot(1,3,2)\n",
        "top50 = mention_frequency.most_common(50)\n",
        "keys = [x[0] for x in top50]\n",
        "vals = [x[1] for x in top50]\n",
        "xpos = range(len(vals),0,-1)\n",
        "plt.barh(xpos, vals)\n",
        "plt.yticks(xpos,keys)\n",
        "plt.title(\"Mentions\")\n",
        "\n",
        "plt.subplot(1,3,3)\n",
        "top50 = retweet_frequency.most_common(50)\n",
        "keys = [x[0] for x in top50]\n",
        "vals = [x[1] for x in top50]\n",
        "xpos = range(len(vals),0,-1)\n",
        "plt.barh(xpos, vals)\n",
        "plt.yticks(xpos,keys)\n",
        "plt.title(\"Retweets\")\n",
        "\n",
        "plt.subplots_adjust(wspace=0.3)\n",
        "plt.show()"
      ],
      "execution_count": null,
      "outputs": [
        {
          "output_type": "display_data",
          "data": {
            "image/png": "[encoded data removed]",
            "text/plain": [
              "<Figure size 1728x1152 with 3 Axes>"
            ]
          },
          "metadata": {
            "tags": [],
            "needs_background": "light"
          }
        }
      ]
    },
    {
      "cell_type": "markdown",
      "metadata": {
        "id": "q0C--LSUiuOU"
      },
      "source": [
        "#### Checking AMELIEBALDWIN account for Bot activity"
      ]
    },
    {
      "cell_type": "code",
      "metadata": {
        "id": "WmiHhA2diuOU",
        "outputId": "aa881a70-9a50-49ee-d220-096ddd3eaded"
      },
      "source": [
        "#Hashtag counter\n",
        "def getHashtags(text):\n",
        "    for string in text:\n",
        "        if isinstance(string,str):\n",
        "            for token in string.split(' '):\n",
        "                if token.startswith('#'):\n",
        "                    yield token\n",
        "\n",
        "\n",
        "amelie_hashtags = getHashtags(ameliebaldwin['content'])\n",
        "amelie_hashtag_frequency = Counter(amelie_hashtags)\n",
        "amelie_hashtag_frequency.most_common(100)"
      ],
      "execution_count": null,
      "outputs": [
        {
          "output_type": "execute_result",
          "data": {
            "text/plain": [
              "[('#MAGA', 300),\n",
              " ('#tcot', 114),\n",
              " ('#Trump', 88),\n",
              " ('#NeverHillary', 80),\n",
              " ('#PJNET', 70),\n",
              " ('#TrumpTrain', 62),\n",
              " ('#NoDAPL', 55),\n",
              " ('#Trump2016', 54),\n",
              " ('#AmericaFirst', 47),\n",
              " ('#TrumpPence16', 45),\n",
              " ('#WakeUpAmerica', 35),\n",
              " ('#MakeAmericaGreatAgain', 34),\n",
              " ('#TCOT', 34),\n",
              " ('#Hillary', 30),\n",
              " ('#HillaryClinton', 29),\n",
              " ('#ccot', 27),\n",
              " ('#maga', 27),\n",
              " ('#2A', 26),\n",
              " ('#CrookedHillary', 25),\n",
              " ('#DrainTheSwamp', 23),\n",
              " ('#Syria', 21),\n",
              " ('#FakeNews', 21),\n",
              " ('#Chelsea', 20),\n",
              " ('#VoteTrump', 20),\n",
              " ('#Obama', 18),\n",
              " ('#FeelTheBern', 17),\n",
              " ('#HillaryForPrison', 17),\n",
              " ('#TRUMP', 17),\n",
              " ('#DNC', 16),\n",
              " ('#pjnet', 16),\n",
              " ('#RedNationRising', 15),\n",
              " ('#Election2016', 15),\n",
              " ('#CCOT', 15),\n",
              " ('#PodestaEmails', 15),\n",
              " ('#Israel', 15),\n",
              " ('#DemExit', 14),\n",
              " ('#BasketOfDeplorables', 14),\n",
              " ('#hacked', 14),\n",
              " ('#USA', 14),\n",
              " ('#HillarysHealth', 14),\n",
              " ('#FridayFeeling', 13),\n",
              " ('#Hacked', 13),\n",
              " ('#WomensMarch', 13),\n",
              " ('#Aleppo', 13),\n",
              " ('#JillNotHill', 13),\n",
              " ('#Hannity', 13),\n",
              " ('#gop', 13),\n",
              " ('#DNCleak', 13),\n",
              " ('#MSM', 13),\n",
              " ('#PizzaGate', 12),\n",
              " ('#TrumpsArmy', 12),\n",
              " ('#p2', 12),\n",
              " ('#birtherism', 12),\n",
              " ('#ISIS', 12),\n",
              " ('#TheGOPHasBecome', 12),\n",
              " ('#news', 12),\n",
              " ('#CNN', 12),\n",
              " ('#auspol', 12),\n",
              " ('#LockHerUp', 12),\n",
              " ('#trump', 11),\n",
              " ('#1', 11),\n",
              " ('#BringBernieBack', 11),\n",
              " ('#Islam', 11),\n",
              " ('#smallbusiness', 10),\n",
              " ('#saturdaymorning', 10),\n",
              " ('#TrumpForPresident', 10),\n",
              " ('#FollowTheMoney', 10),\n",
              " ('#SusanRice', 10),\n",
              " ('#ThursdayThoughts', 10),\n",
              " ('#PresidentTrump', 10),\n",
              " ('#Clinton', 10),\n",
              " ('#ObamaGate', 9),\n",
              " ('#GOP', 9),\n",
              " ('#Recount2016', 9),\n",
              " ('#resist', 9),\n",
              " ('#preppers', 9),\n",
              " ('#veterans', 9),\n",
              " ('#ProLife', 9),\n",
              " ('#StandingRock', 9),\n",
              " ('#cdnpoli', 9),\n",
              " ('#climatechange', 9),\n",
              " ('#WaterIsLife', 9),\n",
              " ('#Vault7', 9),\n",
              " ('#fakenews', 8),\n",
              " ('#Dobbs', 8),\n",
              " ('#Debate', 8),\n",
              " ('#ElectionDay', 8),\n",
              " ('#MAGA3X', 8),\n",
              " ('#draintheswamp', 8),\n",
              " ('#Brexit', 8),\n",
              " ('#FBI', 8),\n",
              " ('#TheResistance', 8),\n",
              " ('#America', 8),\n",
              " ('#WikiLeaks', 8),\n",
              " ('#Russia', 8),\n",
              " ('#SpiritCooking', 8),\n",
              " ('#Oscars', 7),\n",
              " ('#WeThePeople', 7),\n",
              " ('#NRA', 7),\n",
              " ('#Veterans', 7)]"
            ]
          },
          "metadata": {
            "tags": []
          },
          "execution_count": 90
        }
      ]
    },
    {
      "cell_type": "code",
      "metadata": {
        "id": "RhhgZiM_iuOV",
        "outputId": "45bf0844-05bc-4e38-f8ce-0fad788446b6"
      },
      "source": [
        "def getRetweets(text):\n",
        "    for string in text:\n",
        "        if isinstance(string,str):\n",
        "            tokens = string.split(' ')\n",
        "            if tokens[0] == 'RT' and tokens[1].startswith('@'):\n",
        "                yield tokens[1]\n",
        "\n",
        "\n",
        "amelie_retweets = getRetweets(ameliebaldwin['content'])\n",
        "amelie_retweet_frequency = Counter(amelie_retweets)\n",
        "amelie_retweet_frequency.most_common(30)"
      ],
      "execution_count": null,
      "outputs": [
        {
          "output_type": "execute_result",
          "data": {
            "text/plain": [
              "[('@jstines3:', 2),\n",
              " ('@Krisden10:', 2),\n",
              " ('@realDonaldTrump:', 1),\n",
              " ('@mikandynothem:', 1),\n",
              " ('@ZaRdOz420WPN', 1),\n",
              " ('@ositoraul1', 1),\n",
              " ('@N71240869', 1),\n",
              " ('@mellowsprytny', 1),\n",
              " ('@sow_with_vision:', 1),\n",
              " ('@HOPE4THE_FUTURE', 1),\n",
              " ('@MattBatzel:', 1),\n",
              " ('@GlobeOpinion', 1),\n",
              " ('@hillaryclinton', 1),\n",
              " ('@LindaSuhler:', 1),\n",
              " ('@truth_woman', 1),\n",
              " ('@gerfingerpoken:', 1),\n",
              " ('@Fingersflying:', 1),\n",
              " ('@Pudingtane:', 1),\n",
              " ('@oneJesusloves:', 1),\n",
              " ('@kipwood13:', 1),\n",
              " ('@dansch2002:', 1),\n",
              " ('@SarahPalinUSA:', 1)]"
            ]
          },
          "metadata": {
            "tags": []
          },
          "execution_count": 91
        }
      ]
    },
    {
      "cell_type": "code",
      "metadata": {
        "id": "TRzQvGEriuOV",
        "outputId": "d3dc70cc-98c5-4279-dc5d-5f966a35e4d0"
      },
      "source": [
        "def getMentions(text):\n",
        "    for string in text:\n",
        "        if isinstance(string,str):\n",
        "            for token in string.split(' '):\n",
        "                if token.startswith('@') and len(token)>1:\n",
        "                    yield token.partition('\\'')[0].partition(':')[0]\n",
        "\n",
        "\n",
        "amelie_mentions = getMentions(ameliebaldwin['content']) \n",
        "amelie_mention_frequency = Counter(amelie_mentions)- amelie_retweet_frequency\n",
        "amelie_mention_frequency.most_common(100)"
      ],
      "execution_count": null,
      "outputs": [
        {
          "output_type": "execute_result",
          "data": {
            "text/plain": [
              "[('@realDonaldTrump', 230),\n",
              " ('@POTUS', 91),\n",
              " ('@HillaryClinton', 79),\n",
              " ('@YouTube', 70),\n",
              " ('@FoxNews', 42),\n",
              " ('@CNN', 36),\n",
              " ('@BreitbartNews', 29),\n",
              " ('@seanhannity', 22),\n",
              " ('@FBI', 20),\n",
              " ('@GOP', 16),\n",
              " ('@Cernovich', 16),\n",
              " ('@wikileaks', 16),\n",
              " ('@MSNBC', 16),\n",
              " ('@KellyannePolls', 15),\n",
              " ('@jaketapper', 14),\n",
              " ('@BarackObama', 14),\n",
              " ('@BernieSanders', 13),\n",
              " ('@TheDemocrats', 12),\n",
              " ('@PrisonPlanet', 12),\n",
              " ('@dailycaller', 12),\n",
              " ('@SenSanders', 12),\n",
              " ('@MiceeMouse', 11),\n",
              " ('@SpeakerRyan', 11),\n",
              " ('@Nigel_Farage', 10),\n",
              " ('@MailOnline', 10),\n",
              " ('@foxandfriends', 10),\n",
              " ('@washingtonpost', 10),\n",
              " ('@mike_pence', 10),\n",
              " ('@nytimes', 10),\n",
              " ('@Lrihendry', 10),\n",
              " ('@LindaSuhler', 10),\n",
              " ('@alllibertynews', 10),\n",
              " ('@IvankaTrump', 10),\n",
              " ('@TeamTrump', 10),\n",
              " ('@ABC', 10),\n",
              " ('@gatewaypundit', 10),\n",
              " ('@DanScavino', 9),\n",
              " ('@nypost', 9),\n",
              " ('@TuckerCarlson', 8),\n",
              " ('@bfraser747', 8),\n",
              " ('@SheriffClarke', 8),\n",
              " ('@SenJohnMcCain', 8),\n",
              " ('@CBSNews', 8),\n",
              " ('@maddow', 7),\n",
              " ('@c0nvey', 7),\n",
              " ('@realDonaldTrump.', 7),\n",
              " ('@ChristiChat', 7),\n",
              " ('@SandraTXAS', 6),\n",
              " ('@DNC', 6),\n",
              " ('@HAGOODMANAUTHOR', 6),\n",
              " ('@PressSec', 6),\n",
              " ('@NancyPelosi', 6),\n",
              " ('@VP', 6),\n",
              " ('@DrMartyFox', 6),\n",
              " ('@JustinTrudeau', 6),\n",
              " ('@infowars', 6),\n",
              " ('@cnn', 6),\n",
              " ('@LorettaLynch', 6),\n",
              " ('@Evan_McMullin', 6),\n",
              " ('@DrJillStein', 6),\n",
              " ('@LeeCamp', 6),\n",
              " ('@SecretService', 6),\n",
              " ('@LPNational', 6),\n",
              " ('@CarmineZozzora', 6),\n",
              " ('@RealAlexJones', 6),\n",
              " ('@RandPaul', 6),\n",
              " ('@WhiteHouse', 6),\n",
              " ('@ICEgov', 6),\n",
              " ('@FLOTUS', 5),\n",
              " ('@DailyCaller', 5),\n",
              " ('@realDonaldTrump!', 5),\n",
              " ('@SenTedCruz', 5),\n",
              " ('@GlennMcmillan14', 5),\n",
              " ('@twitter', 5),\n",
              " ('@TheEconomist', 5),\n",
              " ('@Pudingtane', 5),\n",
              " ('@LifeZette', 5),\n",
              " ('@dcexaminer', 5),\n",
              " ('@CBS', 5),\n",
              " ('@timkaine', 5),\n",
              " ('@KazmierskiR', 5),\n",
              " ('@realalexjones', 5),\n",
              " ('@GovGaryJohnson', 5),\n",
              " ('@JamesOKeefeIII', 4),\n",
              " ('@HillaryClinton,', 4),\n",
              " ('@po_st', 4),\n",
              " ('@LeahR77', 4),\n",
              " ('@BuzzFeed', 4),\n",
              " ('@DMashak', 4),\n",
              " ('@CUBASIKASTRONO', 4),\n",
              " ('@HuffPostPol', 4),\n",
              " ('@Reince', 4),\n",
              " ('@CIA', 4),\n",
              " ('@AmyMek', 4),\n",
              " ('@inabster', 4),\n",
              " ('@AP', 4),\n",
              " ('@RealTimBlack', 4),\n",
              " ('@BilldeBlasio', 4),\n",
              " ('@GeorgiaDirtRoad', 4),\n",
              " ('@netanyahu', 4)]"
            ]
          },
          "metadata": {
            "tags": []
          },
          "execution_count": 92
        }
      ]
    },
    {
      "cell_type": "code",
      "metadata": {
        "id": "m5IniMjqiuOV"
      },
      "source": [
        "amelie = data[data['author'] == 'AMELIEBALDWIN']"
      ],
      "execution_count": null,
      "outputs": []
    },
    {
      "cell_type": "code",
      "metadata": {
        "id": "gi0IoLP8iuOW",
        "outputId": "9532992a-4584-4096-b2ee-3f6b53eb5cf6"
      },
      "source": [
        "first_tweet = amelie['publish_date'].min()\n",
        "first_tweet"
      ],
      "execution_count": null,
      "outputs": [
        {
          "output_type": "execute_result",
          "data": {
            "text/plain": [
              "Timestamp('2016-09-08 10:11:00')"
            ]
          },
          "metadata": {
            "tags": []
          },
          "execution_count": 94
        }
      ]
    },
    {
      "cell_type": "code",
      "metadata": {
        "id": "fj5B6JgLiuOW",
        "outputId": "0d4e1bd5-67f2-4985-bd3f-9e33053245f0"
      },
      "source": [
        "last_tweet = amelie['publish_date'].max()\n",
        "last_tweet"
      ],
      "execution_count": null,
      "outputs": [
        {
          "output_type": "execute_result",
          "data": {
            "text/plain": [
              "Timestamp('2017-05-05 16:08:00')"
            ]
          },
          "metadata": {
            "tags": []
          },
          "execution_count": 95
        }
      ]
    },
    {
      "cell_type": "code",
      "metadata": {
        "id": "H8wlUOlQiuOW",
        "outputId": "74279bf4-31f5-43a4-ebba-d17695244467"
      },
      "source": [
        "amelie.shape[0]"
      ],
      "execution_count": null,
      "outputs": [
        {
          "output_type": "execute_result",
          "data": {
            "text/plain": [
              "8436"
            ]
          },
          "metadata": {
            "tags": []
          },
          "execution_count": 96
        }
      ]
    },
    {
      "cell_type": "code",
      "metadata": {
        "id": "I4gc_QeFiuOX",
        "outputId": "1815bfd9-379c-4eb1-a115-a09e5093a28a"
      },
      "source": [
        "last_tweet - first_tweet"
      ],
      "execution_count": null,
      "outputs": [
        {
          "output_type": "execute_result",
          "data": {
            "text/plain": [
              "Timedelta('239 days 05:57:00')"
            ]
          },
          "metadata": {
            "tags": []
          },
          "execution_count": 97
        }
      ]
    },
    {
      "cell_type": "markdown",
      "metadata": {
        "id": "JcbZpWGBiuOX"
      },
      "source": [
        "* The account AMELIEBALDWIN made 8436 tweets in less than a year (239 days)\n",
        "* an average of 35 tweets a day.\n",
        "* From my analysis above, over 90% of all tweets by this account were retweets\n",
        "* The frequent use of hashtags and mentioning users \n",
        "* The account could be a bot account"
      ]
    },
    {
      "cell_type": "code",
      "metadata": {
        "id": "97Rs3D5jiuOX"
      },
      "source": [
        ""
      ],
      "execution_count": null,
      "outputs": []
    }
  ]
}