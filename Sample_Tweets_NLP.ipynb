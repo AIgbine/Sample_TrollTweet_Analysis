{
  "nbformat": 4,
  "nbformat_minor": 0,
  "metadata": {
    "kernelspec": {
      "display_name": "Python 3",
      "language": "python",
      "name": "python3"
    },
    "language_info": {
      "codemirror_mode": {
        "name": "ipython",
        "version": 3
      },
      "file_extension": ".py",
      "mimetype": "text/x-python",
      "name": "python",
      "nbconvert_exporter": "python",
      "pygments_lexer": "ipython3",
      "version": "3.8.3"
    },
    "colab": {
      "name": "Sample_Tweets_NLP.ipynb",
      "provenance": [],
      "include_colab_link": true
    }
  },
  "cells": [
    {
      "cell_type": "markdown",
      "metadata": {
        "id": "view-in-github",
        "colab_type": "text"
      },
      "source": [
        "<a href=\"https://colab.research.google.com/github/AIgbine/Sample_TrollTweet_Analysis/blob/main/Sample_Tweets_NLP.ipynb\" target=\"_parent\"><img src=\"https://colab.research.google.com/assets/colab-badge.svg\" alt=\"Open In Colab\"/></a>"
      ]
    },
    {
      "cell_type": "code",
      "metadata": {
        "id": "q3MTkeJujI5e"
      },
      "source": [
        "import pandas as pd\n",
        "import numpy as np\n",
        "import re\n",
        "\n",
        "# plotting image with word cloud\n",
        "from PIL import Image                    # for our images\n",
        "import numpy as np                       # convert image to np arrays\n",
        "from wordcloud import WordCloud,ImageColorGenerator,STOPWORDS # generate word cloud\n",
        "import matplotlib.pyplot as plt          # plotting\n",
        "import seaborn as sns\n",
        "\n",
        "# nlp\n",
        "import nltk                              # text processing\n",
        "from nltk import word_tokenize           # split sentence into list of words\n",
        "from nltk.corpus import stopwords        # remove: and,it,i,etc\n",
        "import string                            # remove punctuation\n",
        "from collections import defaultdict      # dictionary with values as lists\n",
        "from nltk.stem import WordNetLemmatizer  # remove word endings etc\n",
        "\n",
        "%matplotlib inline"
      ],
      "execution_count": null,
      "outputs": []
    },
    {
      "cell_type": "code",
      "metadata": {
        "id": "KiJCu81XjI5n",
        "outputId": "eba9016a-2821-4120-a5c1-36c82daa40e7"
      },
      "source": [
        "data = pd.read_csv('sample_tweets.csv')\n",
        "data.head()"
      ],
      "execution_count": null,
      "outputs": [
        {
          "output_type": "execute_result",
          "data": {
            "text/html": [
              "<div>\n",
              "<style scoped>\n",
              "    .dataframe tbody tr th:only-of-type {\n",
              "        vertical-align: middle;\n",
              "    }\n",
              "\n",
              "    .dataframe tbody tr th {\n",
              "        vertical-align: top;\n",
              "    }\n",
              "\n",
              "    .dataframe thead th {\n",
              "        text-align: right;\n",
              "    }\n",
              "</style>\n",
              "<table border=\"1\" class=\"dataframe\">\n",
              "  <thead>\n",
              "    <tr style=\"text-align: right;\">\n",
              "      <th></th>\n",
              "      <th>Unnamed: 0</th>\n",
              "      <th>author</th>\n",
              "      <th>content</th>\n",
              "      <th>region</th>\n",
              "      <th>language</th>\n",
              "      <th>publish_date</th>\n",
              "      <th>following</th>\n",
              "      <th>followers</th>\n",
              "      <th>post_type</th>\n",
              "      <th>account_type</th>\n",
              "      <th>retweet</th>\n",
              "      <th>account_category</th>\n",
              "      <th>tweet_id</th>\n",
              "      <th>article_url</th>\n",
              "      <th>tco1_step1</th>\n",
              "      <th>tco2_step1</th>\n",
              "      <th>tco3_step1</th>\n",
              "    </tr>\n",
              "  </thead>\n",
              "  <tbody>\n",
              "    <tr>\n",
              "      <th>0</th>\n",
              "      <td>0</td>\n",
              "      <td>ADNNELSTR</td>\n",
              "      <td>The empty podium says it all. The Marxists are...</td>\n",
              "      <td>Unknown</td>\n",
              "      <td>English</td>\n",
              "      <td>8/13/2017 21:00</td>\n",
              "      <td>946</td>\n",
              "      <td>83</td>\n",
              "      <td>NaN</td>\n",
              "      <td>Right</td>\n",
              "      <td>0</td>\n",
              "      <td>RightTroll</td>\n",
              "      <td>896838937028775937</td>\n",
              "      <td>http://twitter.com/893370639309996032/statuses...</td>\n",
              "      <td>https://twitter.com/i/web/status/8968383433838...</td>\n",
              "      <td>NaN</td>\n",
              "      <td>NaN</td>\n",
              "    </tr>\n",
              "    <tr>\n",
              "      <th>1</th>\n",
              "      <td>1</td>\n",
              "      <td>ATLANTA_ONLINE</td>\n",
              "      <td>Dust in your house may have toxic chemicals, s...</td>\n",
              "      <td>United States</td>\n",
              "      <td>English</td>\n",
              "      <td>9/15/2016 3:34</td>\n",
              "      <td>7825</td>\n",
              "      <td>17383</td>\n",
              "      <td>NaN</td>\n",
              "      <td>local</td>\n",
              "      <td>0</td>\n",
              "      <td>NewsFeed</td>\n",
              "      <td>776262908388839424</td>\n",
              "      <td>http://twitter.com/Atlanta_Online/statuses/776...</td>\n",
              "      <td>http://on-ajc.com/2coKeyO</td>\n",
              "      <td>NaN</td>\n",
              "      <td>NaN</td>\n",
              "    </tr>\n",
              "    <tr>\n",
              "      <th>2</th>\n",
              "      <td>2</td>\n",
              "      <td>ANTONHAYHAY</td>\n",
              "      <td>singers Get 1 million soundcloud plays for $45...</td>\n",
              "      <td>United States</td>\n",
              "      <td>English</td>\n",
              "      <td>3/3/2017 20:41</td>\n",
              "      <td>303</td>\n",
              "      <td>711</td>\n",
              "      <td>RETWEET</td>\n",
              "      <td>Left</td>\n",
              "      <td>1</td>\n",
              "      <td>LeftTroll</td>\n",
              "      <td>837764807826763781</td>\n",
              "      <td>http://twitter.com/1652262638/statuses/8377648...</td>\n",
              "      <td>https://twitter.com/jayceodpromoter/status/837...</td>\n",
              "      <td>http://bit.ly/2m4KZPJ</td>\n",
              "      <td>NaN</td>\n",
              "    </tr>\n",
              "    <tr>\n",
              "      <th>3</th>\n",
              "      <td>3</td>\n",
              "      <td>AMELIEBALDWIN</td>\n",
              "      <td>.@JohnsonHildy may be on to something about th...</td>\n",
              "      <td>United States</td>\n",
              "      <td>English</td>\n",
              "      <td>2/23/2017 2:05</td>\n",
              "      <td>2322</td>\n",
              "      <td>2743</td>\n",
              "      <td>RETWEET</td>\n",
              "      <td>Right</td>\n",
              "      <td>1</td>\n",
              "      <td>RightTroll</td>\n",
              "      <td>834584872111001601</td>\n",
              "      <td>http://twitter.com/1679279490/statuses/8345848...</td>\n",
              "      <td>http://www.washingtonexaminer.com/james-okeefe...</td>\n",
              "      <td>NaN</td>\n",
              "      <td>NaN</td>\n",
              "    </tr>\n",
              "    <tr>\n",
              "      <th>4</th>\n",
              "      <td>4</td>\n",
              "      <td>AMELIEBALDWIN</td>\n",
              "      <td>.@ViolaDavis just made #Oscars history, and it...</td>\n",
              "      <td>United States</td>\n",
              "      <td>English</td>\n",
              "      <td>1/25/2017 9:36</td>\n",
              "      <td>2340</td>\n",
              "      <td>2726</td>\n",
              "      <td>RETWEET</td>\n",
              "      <td>Right</td>\n",
              "      <td>1</td>\n",
              "      <td>RightTroll</td>\n",
              "      <td>824189182897754117</td>\n",
              "      <td>http://twitter.com/1679279490/statuses/8241891...</td>\n",
              "      <td>https://twitter.com/hellogiggles/status/824184...</td>\n",
              "      <td>http://trib.al/adflVAC</td>\n",
              "      <td>NaN</td>\n",
              "    </tr>\n",
              "  </tbody>\n",
              "</table>\n",
              "</div>"
            ],
            "text/plain": [
              "   Unnamed: 0          author  \\\n",
              "0           0       ADNNELSTR   \n",
              "1           1  ATLANTA_ONLINE   \n",
              "2           2     ANTONHAYHAY   \n",
              "3           3   AMELIEBALDWIN   \n",
              "4           4   AMELIEBALDWIN   \n",
              "\n",
              "                                             content         region language  \\\n",
              "0  The empty podium says it all. The Marxists are...        Unknown  English   \n",
              "1  Dust in your house may have toxic chemicals, s...  United States  English   \n",
              "2  singers Get 1 million soundcloud plays for $45...  United States  English   \n",
              "3  .@JohnsonHildy may be on to something about th...  United States  English   \n",
              "4  .@ViolaDavis just made #Oscars history, and it...  United States  English   \n",
              "\n",
              "      publish_date  following  followers post_type account_type  retweet  \\\n",
              "0  8/13/2017 21:00        946         83       NaN        Right        0   \n",
              "1   9/15/2016 3:34       7825      17383       NaN        local        0   \n",
              "2   3/3/2017 20:41        303        711   RETWEET         Left        1   \n",
              "3   2/23/2017 2:05       2322       2743   RETWEET        Right        1   \n",
              "4   1/25/2017 9:36       2340       2726   RETWEET        Right        1   \n",
              "\n",
              "  account_category            tweet_id  \\\n",
              "0       RightTroll  896838937028775937   \n",
              "1         NewsFeed  776262908388839424   \n",
              "2        LeftTroll  837764807826763781   \n",
              "3       RightTroll  834584872111001601   \n",
              "4       RightTroll  824189182897754117   \n",
              "\n",
              "                                         article_url  \\\n",
              "0  http://twitter.com/893370639309996032/statuses...   \n",
              "1  http://twitter.com/Atlanta_Online/statuses/776...   \n",
              "2  http://twitter.com/1652262638/statuses/8377648...   \n",
              "3  http://twitter.com/1679279490/statuses/8345848...   \n",
              "4  http://twitter.com/1679279490/statuses/8241891...   \n",
              "\n",
              "                                          tco1_step1              tco2_step1  \\\n",
              "0  https://twitter.com/i/web/status/8968383433838...                     NaN   \n",
              "1                          http://on-ajc.com/2coKeyO                     NaN   \n",
              "2  https://twitter.com/jayceodpromoter/status/837...   http://bit.ly/2m4KZPJ   \n",
              "3  http://www.washingtonexaminer.com/james-okeefe...                     NaN   \n",
              "4  https://twitter.com/hellogiggles/status/824184...  http://trib.al/adflVAC   \n",
              "\n",
              "  tco3_step1  \n",
              "0        NaN  \n",
              "1        NaN  \n",
              "2        NaN  \n",
              "3        NaN  \n",
              "4        NaN  "
            ]
          },
          "metadata": {
            "tags": []
          },
          "execution_count": 2
        }
      ]
    },
    {
      "cell_type": "code",
      "metadata": {
        "id": "Unit4fNAjI5p"
      },
      "source": [
        "data.columns.values[0] = \"id\""
      ],
      "execution_count": null,
      "outputs": []
    },
    {
      "cell_type": "code",
      "metadata": {
        "id": "DZYf3NfEjI5p",
        "outputId": "8ea8fa0f-da2f-4603-99b0-672f7f5d80cd"
      },
      "source": [
        "import re\n",
        "#Clean url in the tweets\n",
        "text_wo_http=[]\n",
        "for i in data['content']:\n",
        "    re_pattern=r'\\b(?:http).+\\b'\n",
        "    re_p=r'http\\S+'\n",
        "    if type(i)==str and re.findall(re_pattern,i):\n",
        "        text_wo_http.append(re.sub(re_p,'',i))\n",
        "    else:\n",
        "        text_wo_http.append(i)\n",
        "        \n",
        "len(text_wo_http )"
      ],
      "execution_count": null,
      "outputs": [
        {
          "output_type": "execute_result",
          "data": {
            "text/plain": [
              "47708"
            ]
          },
          "metadata": {
            "tags": []
          },
          "execution_count": 4
        }
      ]
    },
    {
      "cell_type": "code",
      "metadata": {
        "id": "LAlcLVdEjI5q"
      },
      "source": [
        "data['content without http']=text_wo_http"
      ],
      "execution_count": null,
      "outputs": []
    },
    {
      "cell_type": "code",
      "metadata": {
        "id": "-WAw8CbrjI5q",
        "outputId": "68bdd5d9-d240-4275-ba87-a3eed9578e50"
      },
      "source": [
        "data.info()"
      ],
      "execution_count": null,
      "outputs": [
        {
          "output_type": "stream",
          "text": [
            "<class 'pandas.core.frame.DataFrame'>\n",
            "RangeIndex: 47708 entries, 0 to 47707\n",
            "Data columns (total 18 columns):\n",
            " #   Column                Non-Null Count  Dtype \n",
            "---  ------                --------------  ----- \n",
            " 0   id                    47708 non-null  int64 \n",
            " 1   author                47708 non-null  object\n",
            " 2   content               47708 non-null  object\n",
            " 3   region                47704 non-null  object\n",
            " 4   language              47708 non-null  object\n",
            " 5   publish_date          47708 non-null  object\n",
            " 6   following             47708 non-null  int64 \n",
            " 7   followers             47708 non-null  int64 \n",
            " 8   post_type             26525 non-null  object\n",
            " 9   account_type          47708 non-null  object\n",
            " 10  retweet               47708 non-null  int64 \n",
            " 11  account_category      47708 non-null  object\n",
            " 12  tweet_id              47708 non-null  int64 \n",
            " 13  article_url           47708 non-null  object\n",
            " 14  tco1_step1            33206 non-null  object\n",
            " 15  tco2_step1            12505 non-null  object\n",
            " 16  tco3_step1            657 non-null    object\n",
            " 17  content without http  47708 non-null  object\n",
            "dtypes: int64(5), object(13)\n",
            "memory usage: 6.6+ MB\n"
          ],
          "name": "stdout"
        }
      ]
    },
    {
      "cell_type": "code",
      "metadata": {
        "id": "-Q4a755bjI5r"
      },
      "source": [
        "#Data Cleaning\n",
        "data['post_type'].fillna(value='TWEET',inplace = True)\n",
        "\n",
        "data['region'].fillna(value='Unknown',inplace = True)\n",
        "\n",
        "data['account_type']=data['account_type'].\\\n",
        "replace('?','Unknown')"
      ],
      "execution_count": null,
      "outputs": []
    },
    {
      "cell_type": "code",
      "metadata": {
        "id": "DiLbOiIBjI5r",
        "outputId": "2c3b74f1-c9b9-4e2f-d6e0-a6f6c914beed"
      },
      "source": [
        "data.isnull().sum()"
      ],
      "execution_count": null,
      "outputs": [
        {
          "output_type": "execute_result",
          "data": {
            "text/plain": [
              "id                          0\n",
              "author                      0\n",
              "content                     0\n",
              "region                      0\n",
              "language                    0\n",
              "publish_date                0\n",
              "following                   0\n",
              "followers                   0\n",
              "post_type                   0\n",
              "account_type                0\n",
              "retweet                     0\n",
              "account_category            0\n",
              "tweet_id                    0\n",
              "article_url                 0\n",
              "tco1_step1              14502\n",
              "tco2_step1              35203\n",
              "tco3_step1              47051\n",
              "content without http        0\n",
              "dtype: int64"
            ]
          },
          "metadata": {
            "tags": []
          },
          "execution_count": 8
        }
      ]
    },
    {
      "cell_type": "code",
      "metadata": {
        "id": "9F5t8K8ljI5r",
        "outputId": "32932dc7-f4a5-41df-bc9c-c1c4f46d1e16"
      },
      "source": [
        "#We can't analyze links with nlp so we get rid of the folowing columns:\n",
        "\n",
        "data=data.drop(['tco1_step1',\n",
        "                    'tco2_step1','tco3_step1','article_url'],axis=1)\n",
        "data.head()"
      ],
      "execution_count": null,
      "outputs": [
        {
          "output_type": "execute_result",
          "data": {
            "text/html": [
              "<div>\n",
              "<style scoped>\n",
              "    .dataframe tbody tr th:only-of-type {\n",
              "        vertical-align: middle;\n",
              "    }\n",
              "\n",
              "    .dataframe tbody tr th {\n",
              "        vertical-align: top;\n",
              "    }\n",
              "\n",
              "    .dataframe thead th {\n",
              "        text-align: right;\n",
              "    }\n",
              "</style>\n",
              "<table border=\"1\" class=\"dataframe\">\n",
              "  <thead>\n",
              "    <tr style=\"text-align: right;\">\n",
              "      <th></th>\n",
              "      <th>id</th>\n",
              "      <th>author</th>\n",
              "      <th>content</th>\n",
              "      <th>region</th>\n",
              "      <th>language</th>\n",
              "      <th>publish_date</th>\n",
              "      <th>following</th>\n",
              "      <th>followers</th>\n",
              "      <th>post_type</th>\n",
              "      <th>account_type</th>\n",
              "      <th>retweet</th>\n",
              "      <th>account_category</th>\n",
              "      <th>tweet_id</th>\n",
              "      <th>content without http</th>\n",
              "    </tr>\n",
              "  </thead>\n",
              "  <tbody>\n",
              "    <tr>\n",
              "      <th>0</th>\n",
              "      <td>0</td>\n",
              "      <td>ADNNELSTR</td>\n",
              "      <td>The empty podium says it all. The Marxists are...</td>\n",
              "      <td>Unknown</td>\n",
              "      <td>English</td>\n",
              "      <td>8/13/2017 21:00</td>\n",
              "      <td>946</td>\n",
              "      <td>83</td>\n",
              "      <td>TWEET</td>\n",
              "      <td>Right</td>\n",
              "      <td>0</td>\n",
              "      <td>RightTroll</td>\n",
              "      <td>896838937028775937</td>\n",
              "      <td>The empty podium says it all. The Marxists are...</td>\n",
              "    </tr>\n",
              "    <tr>\n",
              "      <th>1</th>\n",
              "      <td>1</td>\n",
              "      <td>ATLANTA_ONLINE</td>\n",
              "      <td>Dust in your house may have toxic chemicals, s...</td>\n",
              "      <td>United States</td>\n",
              "      <td>English</td>\n",
              "      <td>9/15/2016 3:34</td>\n",
              "      <td>7825</td>\n",
              "      <td>17383</td>\n",
              "      <td>TWEET</td>\n",
              "      <td>local</td>\n",
              "      <td>0</td>\n",
              "      <td>NewsFeed</td>\n",
              "      <td>776262908388839424</td>\n",
              "      <td>Dust in your house may have toxic chemicals, s...</td>\n",
              "    </tr>\n",
              "    <tr>\n",
              "      <th>2</th>\n",
              "      <td>2</td>\n",
              "      <td>ANTONHAYHAY</td>\n",
              "      <td>singers Get 1 million soundcloud plays for $45...</td>\n",
              "      <td>United States</td>\n",
              "      <td>English</td>\n",
              "      <td>3/3/2017 20:41</td>\n",
              "      <td>303</td>\n",
              "      <td>711</td>\n",
              "      <td>RETWEET</td>\n",
              "      <td>Left</td>\n",
              "      <td>1</td>\n",
              "      <td>LeftTroll</td>\n",
              "      <td>837764807826763781</td>\n",
              "      <td>singers Get 1 million soundcloud plays for $45...</td>\n",
              "    </tr>\n",
              "    <tr>\n",
              "      <th>3</th>\n",
              "      <td>3</td>\n",
              "      <td>AMELIEBALDWIN</td>\n",
              "      <td>.@JohnsonHildy may be on to something about th...</td>\n",
              "      <td>United States</td>\n",
              "      <td>English</td>\n",
              "      <td>2/23/2017 2:05</td>\n",
              "      <td>2322</td>\n",
              "      <td>2743</td>\n",
              "      <td>RETWEET</td>\n",
              "      <td>Right</td>\n",
              "      <td>1</td>\n",
              "      <td>RightTroll</td>\n",
              "      <td>834584872111001601</td>\n",
              "      <td>.@JohnsonHildy may be on to something about th...</td>\n",
              "    </tr>\n",
              "    <tr>\n",
              "      <th>4</th>\n",
              "      <td>4</td>\n",
              "      <td>AMELIEBALDWIN</td>\n",
              "      <td>.@ViolaDavis just made #Oscars history, and it...</td>\n",
              "      <td>United States</td>\n",
              "      <td>English</td>\n",
              "      <td>1/25/2017 9:36</td>\n",
              "      <td>2340</td>\n",
              "      <td>2726</td>\n",
              "      <td>RETWEET</td>\n",
              "      <td>Right</td>\n",
              "      <td>1</td>\n",
              "      <td>RightTroll</td>\n",
              "      <td>824189182897754117</td>\n",
              "      <td>.@ViolaDavis just made #Oscars history, and it...</td>\n",
              "    </tr>\n",
              "  </tbody>\n",
              "</table>\n",
              "</div>"
            ],
            "text/plain": [
              "   id          author                                            content  \\\n",
              "0   0       ADNNELSTR  The empty podium says it all. The Marxists are...   \n",
              "1   1  ATLANTA_ONLINE  Dust in your house may have toxic chemicals, s...   \n",
              "2   2     ANTONHAYHAY  singers Get 1 million soundcloud plays for $45...   \n",
              "3   3   AMELIEBALDWIN  .@JohnsonHildy may be on to something about th...   \n",
              "4   4   AMELIEBALDWIN  .@ViolaDavis just made #Oscars history, and it...   \n",
              "\n",
              "          region language     publish_date  following  followers post_type  \\\n",
              "0        Unknown  English  8/13/2017 21:00        946         83     TWEET   \n",
              "1  United States  English   9/15/2016 3:34       7825      17383     TWEET   \n",
              "2  United States  English   3/3/2017 20:41        303        711   RETWEET   \n",
              "3  United States  English   2/23/2017 2:05       2322       2743   RETWEET   \n",
              "4  United States  English   1/25/2017 9:36       2340       2726   RETWEET   \n",
              "\n",
              "  account_type  retweet account_category            tweet_id  \\\n",
              "0        Right        0       RightTroll  896838937028775937   \n",
              "1        local        0         NewsFeed  776262908388839424   \n",
              "2         Left        1        LeftTroll  837764807826763781   \n",
              "3        Right        1       RightTroll  834584872111001601   \n",
              "4        Right        1       RightTroll  824189182897754117   \n",
              "\n",
              "                                content without http  \n",
              "0  The empty podium says it all. The Marxists are...  \n",
              "1  Dust in your house may have toxic chemicals, s...  \n",
              "2  singers Get 1 million soundcloud plays for $45...  \n",
              "3  .@JohnsonHildy may be on to something about th...  \n",
              "4  .@ViolaDavis just made #Oscars history, and it...  "
            ]
          },
          "metadata": {
            "tags": []
          },
          "execution_count": 9
        }
      ]
    },
    {
      "cell_type": "code",
      "metadata": {
        "id": "QeZ69WTZjI5s",
        "outputId": "8112bbb6-6d2b-45b2-cf8f-f17d505d2171"
      },
      "source": [
        "data['tweet_id'].value_counts().sum()"
      ],
      "execution_count": null,
      "outputs": [
        {
          "output_type": "execute_result",
          "data": {
            "text/plain": [
              "47708"
            ]
          },
          "metadata": {
            "tags": []
          },
          "execution_count": 10
        }
      ]
    },
    {
      "cell_type": "code",
      "metadata": {
        "id": "vayAZrlJjI5s"
      },
      "source": [
        "#Clean url in the tweets\n",
        "str_repl=[]\n",
        "for i in data['content without http']:\n",
        "    '''Make text lowercase, remove text in square brackets, remove punctuation and remove words containing numbers.'''\n",
        "    i = i.lower()\n",
        "    i = re.sub('\\[.*?\\]', '', i)\n",
        "    i = re.sub('[%s]' % re.escape(string.punctuation), '', i)\n",
        "    i = re.sub('\\w*\\d\\w*', '', i)\n",
        "    i = re.sub('[‘’“”…]', '', i)\n",
        "    i = re.sub('\\n', '', i)\n",
        "    str_repl.append(i)\n",
        "        \n"
      ],
      "execution_count": null,
      "outputs": []
    },
    {
      "cell_type": "code",
      "metadata": {
        "id": "oCZ4xmDrjI5t",
        "outputId": "fab1b29a-5da6-4fc7-f5ab-14174ac5dbc7"
      },
      "source": [
        "str_repl[:3]"
      ],
      "execution_count": null,
      "outputs": [
        {
          "output_type": "execute_result",
          "data": {
            "text/plain": [
              "['the empty podium says it all the marxists are losing ground amp dont like it stand up for freedom amp join at ',\n",
              " 'dust in your house may have toxic chemicals study says  breaking',\n",
              " 'singers get  million soundcloud plays for  click here for more details  we do youtube views too spinrilla ']"
            ]
          },
          "metadata": {
            "tags": []
          },
          "execution_count": 12
        }
      ]
    },
    {
      "cell_type": "code",
      "metadata": {
        "id": "8PYiW6y5jI5t"
      },
      "source": [
        "data['content without http']=str_repl"
      ],
      "execution_count": null,
      "outputs": []
    },
    {
      "cell_type": "code",
      "metadata": {
        "id": "cH2moJv7jI5t",
        "outputId": "b2a12f10-4279-42d8-b2ae-d7a4fa06b1f1"
      },
      "source": [
        "data.head()"
      ],
      "execution_count": null,
      "outputs": [
        {
          "output_type": "execute_result",
          "data": {
            "text/html": [
              "<div>\n",
              "<style scoped>\n",
              "    .dataframe tbody tr th:only-of-type {\n",
              "        vertical-align: middle;\n",
              "    }\n",
              "\n",
              "    .dataframe tbody tr th {\n",
              "        vertical-align: top;\n",
              "    }\n",
              "\n",
              "    .dataframe thead th {\n",
              "        text-align: right;\n",
              "    }\n",
              "</style>\n",
              "<table border=\"1\" class=\"dataframe\">\n",
              "  <thead>\n",
              "    <tr style=\"text-align: right;\">\n",
              "      <th></th>\n",
              "      <th>id</th>\n",
              "      <th>author</th>\n",
              "      <th>content</th>\n",
              "      <th>region</th>\n",
              "      <th>language</th>\n",
              "      <th>publish_date</th>\n",
              "      <th>following</th>\n",
              "      <th>followers</th>\n",
              "      <th>post_type</th>\n",
              "      <th>account_type</th>\n",
              "      <th>retweet</th>\n",
              "      <th>account_category</th>\n",
              "      <th>tweet_id</th>\n",
              "      <th>content without http</th>\n",
              "    </tr>\n",
              "  </thead>\n",
              "  <tbody>\n",
              "    <tr>\n",
              "      <th>0</th>\n",
              "      <td>0</td>\n",
              "      <td>ADNNELSTR</td>\n",
              "      <td>The empty podium says it all. The Marxists are...</td>\n",
              "      <td>Unknown</td>\n",
              "      <td>English</td>\n",
              "      <td>8/13/2017 21:00</td>\n",
              "      <td>946</td>\n",
              "      <td>83</td>\n",
              "      <td>TWEET</td>\n",
              "      <td>Right</td>\n",
              "      <td>0</td>\n",
              "      <td>RightTroll</td>\n",
              "      <td>896838937028775937</td>\n",
              "      <td>the empty podium says it all the marxists are ...</td>\n",
              "    </tr>\n",
              "    <tr>\n",
              "      <th>1</th>\n",
              "      <td>1</td>\n",
              "      <td>ATLANTA_ONLINE</td>\n",
              "      <td>Dust in your house may have toxic chemicals, s...</td>\n",
              "      <td>United States</td>\n",
              "      <td>English</td>\n",
              "      <td>9/15/2016 3:34</td>\n",
              "      <td>7825</td>\n",
              "      <td>17383</td>\n",
              "      <td>TWEET</td>\n",
              "      <td>local</td>\n",
              "      <td>0</td>\n",
              "      <td>NewsFeed</td>\n",
              "      <td>776262908388839424</td>\n",
              "      <td>dust in your house may have toxic chemicals st...</td>\n",
              "    </tr>\n",
              "    <tr>\n",
              "      <th>2</th>\n",
              "      <td>2</td>\n",
              "      <td>ANTONHAYHAY</td>\n",
              "      <td>singers Get 1 million soundcloud plays for $45...</td>\n",
              "      <td>United States</td>\n",
              "      <td>English</td>\n",
              "      <td>3/3/2017 20:41</td>\n",
              "      <td>303</td>\n",
              "      <td>711</td>\n",
              "      <td>RETWEET</td>\n",
              "      <td>Left</td>\n",
              "      <td>1</td>\n",
              "      <td>LeftTroll</td>\n",
              "      <td>837764807826763781</td>\n",
              "      <td>singers get  million soundcloud plays for  cli...</td>\n",
              "    </tr>\n",
              "    <tr>\n",
              "      <th>3</th>\n",
              "      <td>3</td>\n",
              "      <td>AMELIEBALDWIN</td>\n",
              "      <td>.@JohnsonHildy may be on to something about th...</td>\n",
              "      <td>United States</td>\n",
              "      <td>English</td>\n",
              "      <td>2/23/2017 2:05</td>\n",
              "      <td>2322</td>\n",
              "      <td>2743</td>\n",
              "      <td>RETWEET</td>\n",
              "      <td>Right</td>\n",
              "      <td>1</td>\n",
              "      <td>RightTroll</td>\n",
              "      <td>834584872111001601</td>\n",
              "      <td>johnsonhildy may be on to something about the ...</td>\n",
              "    </tr>\n",
              "    <tr>\n",
              "      <th>4</th>\n",
              "      <td>4</td>\n",
              "      <td>AMELIEBALDWIN</td>\n",
              "      <td>.@ViolaDavis just made #Oscars history, and it...</td>\n",
              "      <td>United States</td>\n",
              "      <td>English</td>\n",
              "      <td>1/25/2017 9:36</td>\n",
              "      <td>2340</td>\n",
              "      <td>2726</td>\n",
              "      <td>RETWEET</td>\n",
              "      <td>Right</td>\n",
              "      <td>1</td>\n",
              "      <td>RightTroll</td>\n",
              "      <td>824189182897754117</td>\n",
              "      <td>violadavis just made oscars history and its fo...</td>\n",
              "    </tr>\n",
              "  </tbody>\n",
              "</table>\n",
              "</div>"
            ],
            "text/plain": [
              "   id          author                                            content  \\\n",
              "0   0       ADNNELSTR  The empty podium says it all. The Marxists are...   \n",
              "1   1  ATLANTA_ONLINE  Dust in your house may have toxic chemicals, s...   \n",
              "2   2     ANTONHAYHAY  singers Get 1 million soundcloud plays for $45...   \n",
              "3   3   AMELIEBALDWIN  .@JohnsonHildy may be on to something about th...   \n",
              "4   4   AMELIEBALDWIN  .@ViolaDavis just made #Oscars history, and it...   \n",
              "\n",
              "          region language     publish_date  following  followers post_type  \\\n",
              "0        Unknown  English  8/13/2017 21:00        946         83     TWEET   \n",
              "1  United States  English   9/15/2016 3:34       7825      17383     TWEET   \n",
              "2  United States  English   3/3/2017 20:41        303        711   RETWEET   \n",
              "3  United States  English   2/23/2017 2:05       2322       2743   RETWEET   \n",
              "4  United States  English   1/25/2017 9:36       2340       2726   RETWEET   \n",
              "\n",
              "  account_type  retweet account_category            tweet_id  \\\n",
              "0        Right        0       RightTroll  896838937028775937   \n",
              "1        local        0         NewsFeed  776262908388839424   \n",
              "2         Left        1        LeftTroll  837764807826763781   \n",
              "3        Right        1       RightTroll  834584872111001601   \n",
              "4        Right        1       RightTroll  824189182897754117   \n",
              "\n",
              "                                content without http  \n",
              "0  the empty podium says it all the marxists are ...  \n",
              "1  dust in your house may have toxic chemicals st...  \n",
              "2  singers get  million soundcloud plays for  cli...  \n",
              "3  johnsonhildy may be on to something about the ...  \n",
              "4  violadavis just made oscars history and its fo...  "
            ]
          },
          "metadata": {
            "tags": []
          },
          "execution_count": 14
        }
      ]
    },
    {
      "cell_type": "code",
      "metadata": {
        "id": "E1YoJDY5jI5u",
        "outputId": "d16a5d30-30e4-4e6b-a589-b91183715494"
      },
      "source": [
        "eng_tweets=data[data['language']=='English']\n",
        "#From our previous EDA, we found that majority of the tweets were in English\n",
        "#Also most of the tweets during the spike were English tweets so we will work with English tweets\n",
        "eng_tweets.shape"
      ],
      "execution_count": null,
      "outputs": [
        {
          "output_type": "execute_result",
          "data": {
            "text/plain": [
              "(47016, 14)"
            ]
          },
          "metadata": {
            "tags": []
          },
          "execution_count": 15
        }
      ]
    },
    {
      "cell_type": "code",
      "metadata": {
        "id": "FIAVd93JjI5u",
        "outputId": "76201ab2-9760-4d17-9bfd-e38f4bceb674"
      },
      "source": [
        "eng_tweets['author'].unique()"
      ],
      "execution_count": null,
      "outputs": [
        {
          "output_type": "execute_result",
          "data": {
            "text/plain": [
              "array(['ADNNELSTR', 'ATLANTA_ONLINE', 'ANTONHAYHAY', 'AMELIEBALDWIN',\n",
              "       'ARM_2_ALAN', 'ANNIEPOSHES', 'ALEXXDRTRR', 'ARABMTR',\n",
              "       'ABIGAILSSILK', 'ANDYHASHTAGGER', 'ACEJINEV', 'ALECMOOOOODY',\n",
              "       'ANAAISLEC', 'ADRIENNE_GG', 'ALYSSABEDOLLA', '4MYSQUAD',\n",
              "       'ARIELLE_BROWNIN', 'ADDIE_HOL', 'ADRGREERR', 'AFEELIUTR',\n",
              "       'AMBERLINETR', 'ANIIANTRS', 'ARGENTINACATLE1', 'ALDRICH420',\n",
              "       'AMYYSLEGENTR', 'ARIAANST', 'AMANDAVGREEN', 'ALANISSTRS',\n",
              "       'AURRLISTR', 'ANDRISNABRT', 'ANDIOSMARRTRUMP', 'ALIISTRR',\n",
              "       'ANISILOPE', 'ASWWIMMORRIS', '10_GOP', 'AMCONVOICE',\n",
              "       'ARIELSHINING', 'ANNAMINGT', 'AMYYTHOSSMA', 'ANTONRUMSS',\n",
              "       'ANISACRRUTR', 'AMELINAASTR', 'ANGTHEESTR', 'AIDEN7757',\n",
              "       'ANDYDREWDANIELS', 'ADRIANAMFTTT', 'ABIISSROSB', 'ARTEMSSFE',\n",
              "       'AMIISTRS', 'ARCHIEOLIVERS', 'ANAALESSIS', 'AMERICANALBERT',\n",
              "       'ALESSIAWILLSON', 'AARONALLENALL', 'ALBUQUERQUEON', 'ANDRREETRT',\n",
              "       'ANASTASSITR', 'AMBERRPAR', 'ADAMCHAPMANJR', 'ARIEENSLPE',\n",
              "       'ANNIJONSTR', 'ANGISDOOYL', 'ANGEELISTR', 'ALIZASSHIELD',\n",
              "       'ALAXXATR', 'ALEXWARNINGU', 'ALLBERRTOSS', 'ASHLEEYWES',\n",
              "       'ARISGRAYS', 'ADAM_MATHISSS', 'APRRILSBRUSS', '2NDHALFONION',\n",
              "       'AANTIRACIST', 'ALBERTMORENMORE', 'ADKEZLATE', 'AESPARZZA',\n",
              "       'ATIF_SHAIKH_ME', 'ARAGARTRR', 'AGNESGRHM', 'ABMERRLINS',\n",
              "       'ACAB_ZONE', 'ABELLABAB', '666STEVEROGERS', 'AMBBERTHTT',\n",
              "       'ALFREDTHREE', 'ANDEERLWR', 'ACAPARELLA', 'ANN_HANAH',\n",
              "       'ARTHCLAUDIA', 'ANTHONYCANLASS', 'ANGELISTRR', 'ANN1EMCCONNELL',\n",
              "       'ABIGAILCALLME', 'ALEXLOVESSHENNA', 'AMYMUSICLL', 'ASHLEYSIMPSN',\n",
              "       'ALTMANBELINDA', 'ANISSNOVOTR', 'AMALIA_PETTY', 'ARMEDFREJYA',\n",
              "       'ANGEELISHET', 'ABRAMSREBEKAH', 'ANFINRUDSADIE', 'AUSTINLOVESBEER',\n",
              "       'ADRIASNSS', 'ARONHOLDEN8', 'ALMOSTSAINTGIRL', 'AMIRAFERRR',\n",
              "       'ANTIEHARMON', 'ASSUNCAOWALLAS', 'AFUCKINSIDE', 'AMIYAHSAMUELS',\n",
              "       '1D_NICOLE_', 'ANGELOENOUGH', 'ANITALOVEHEART', 'ANTHONYWOODBOY',\n",
              "       'ALEXISFOXIE', 'ADRI_LOW_R', 'AAASSSSSHHH', 'ASHLEY_KRI',\n",
              "       'AN_N_GASTON', 'ALBERTA_HAYNESS', 'ALVA_MC_GHEE', 'ANCARICTRS',\n",
              "       '4EVER_SUSAN', 'ADELE_BROCK', 'ANITABR1994', 'ANGELITHSS',\n",
              "       'ANEELSSTRT', 'ARIANNA_PER_RY', 'ARNOLDPARRK', 'AFIFYAMIRA1',\n",
              "       'AHOGAN_AM', 'ALLFORPETERSONS', 'AMIRAHPOPE', 'AMELCREECH',\n",
              "       'AMAMCAMCAM', 'ADLEESWOD', 'ABOUTPOLIT', 'AMIRICANWILL',\n",
              "       'ANDREWHEDDD', 'ALW_ILL', 'AN_NA__AN', 'ANTHONYCARTR',\n",
              "       'ALFREDBENBEN', 'ASHLEECOLLINSS', 'ANDSBXX30', 'ALEMICHLESS',\n",
              "       'ALESISTRTT', 'ABISADMASST', 'ALEESATRS', 'ANG__BOWERS',\n",
              "       'ADELINE_GS', 'ANFRAIZER', 'ABBYLOPTRT', 'ARYANNAJ0NES',\n",
              "       'AMALIAHULICK', 'ADLEESTTT', 'AMBAASTRT', '1ERIK_LEE',\n",
              "       'APRIILDTRUT', 'ADALESTRTM', 'AARON_M1TCHELL', 'ACHSAHORKHAN',\n",
              "       'AMBERDAVV', 'ADELIINESTRT', 'ALFNEWDAY'], dtype=object)"
            ]
          },
          "metadata": {
            "tags": []
          },
          "execution_count": 16
        }
      ]
    },
    {
      "cell_type": "code",
      "metadata": {
        "id": "n8bm3hZijI5v",
        "outputId": "4e196c39-7f4b-4817-941c-7202ad5b03af"
      },
      "source": [
        "# Friend To Follower Ratios: \n",
        "eng_tweets['follower_to_following_Ratio']=np.where(eng_tweets['followers']/\\\n",
        "                        eng_tweets['following']==np.inf\n",
        "                     , eng_tweets['followers'], \n",
        "         eng_tweets['followers']/eng_tweets['following'])\n",
        "\n",
        "\n",
        "print('Proportion of Users w/ High Follower Count (ALL-SUBset data):',\\\n",
        "round(eng_tweets[eng_tweets['follower_to_following_Ratio']>2].shape[0]/\\\n",
        "eng_tweets[eng_tweets['follower_to_following_Ratio']<2].shape[0],3))"
      ],
      "execution_count": null,
      "outputs": [
        {
          "output_type": "stream",
          "text": [
            "Proportion of Users w/ High Follower Count (ALL-SUBset data): 0.17\n"
          ],
          "name": "stdout"
        },
        {
          "output_type": "stream",
          "text": [
            "<ipython-input-17-115b8104706c>:2: SettingWithCopyWarning: \n",
            "A value is trying to be set on a copy of a slice from a DataFrame.\n",
            "Try using .loc[row_indexer,col_indexer] = value instead\n",
            "\n",
            "See the caveats in the documentation: https://pandas.pydata.org/pandas-docs/stable/user_guide/indexing.html#returning-a-view-versus-a-copy\n",
            "  eng_tweets['follower_to_following_Ratio']=np.where(eng_tweets['followers']/\\\n"
          ],
          "name": "stderr"
        }
      ]
    },
    {
      "cell_type": "code",
      "metadata": {
        "id": "uiHlBqSdjI5w",
        "outputId": "a2f8db55-cd0c-4dce-a4d5-375218a1f92c"
      },
      "source": [
        "eng_tweets.sort_values('follower_to_following_Ratio',ascending=False)[:10]"
      ],
      "execution_count": null,
      "outputs": [
        {
          "output_type": "execute_result",
          "data": {
            "text/html": [
              "<div>\n",
              "<style scoped>\n",
              "    .dataframe tbody tr th:only-of-type {\n",
              "        vertical-align: middle;\n",
              "    }\n",
              "\n",
              "    .dataframe tbody tr th {\n",
              "        vertical-align: top;\n",
              "    }\n",
              "\n",
              "    .dataframe thead th {\n",
              "        text-align: right;\n",
              "    }\n",
              "</style>\n",
              "<table border=\"1\" class=\"dataframe\">\n",
              "  <thead>\n",
              "    <tr style=\"text-align: right;\">\n",
              "      <th></th>\n",
              "      <th>id</th>\n",
              "      <th>author</th>\n",
              "      <th>content</th>\n",
              "      <th>region</th>\n",
              "      <th>language</th>\n",
              "      <th>publish_date</th>\n",
              "      <th>following</th>\n",
              "      <th>followers</th>\n",
              "      <th>post_type</th>\n",
              "      <th>account_type</th>\n",
              "      <th>retweet</th>\n",
              "      <th>account_category</th>\n",
              "      <th>tweet_id</th>\n",
              "      <th>content without http</th>\n",
              "      <th>follower_to_following_Ratio</th>\n",
              "    </tr>\n",
              "  </thead>\n",
              "  <tbody>\n",
              "    <tr>\n",
              "      <th>12858</th>\n",
              "      <td>12879</td>\n",
              "      <td>ANIIANTRS</td>\n",
              "      <td>Jane Fonda Declared That She’s ‘Not Proud of A...</td>\n",
              "      <td>Unknown</td>\n",
              "      <td>English</td>\n",
              "      <td>10/17/2017 17:31</td>\n",
              "      <td>0</td>\n",
              "      <td>1514</td>\n",
              "      <td>TWEET</td>\n",
              "      <td>Right</td>\n",
              "      <td>0</td>\n",
              "      <td>RightTroll</td>\n",
              "      <td>920341627167797248</td>\n",
              "      <td>jane fonda declared that shes not proud of ame...</td>\n",
              "      <td>1514.0</td>\n",
              "    </tr>\n",
              "    <tr>\n",
              "      <th>761</th>\n",
              "      <td>762</td>\n",
              "      <td>ANIIANTRS</td>\n",
              "      <td>Varney – Media Will Keep Losing Credibility Ov...</td>\n",
              "      <td>Unknown</td>\n",
              "      <td>English</td>\n",
              "      <td>10/18/2017 1:06</td>\n",
              "      <td>0</td>\n",
              "      <td>1502</td>\n",
              "      <td>TWEET</td>\n",
              "      <td>Right</td>\n",
              "      <td>0</td>\n",
              "      <td>RightTroll</td>\n",
              "      <td>920455965060804609</td>\n",
              "      <td>varney – media will keep losing credibility ov...</td>\n",
              "      <td>1502.0</td>\n",
              "    </tr>\n",
              "    <tr>\n",
              "      <th>36554</th>\n",
              "      <td>36611</td>\n",
              "      <td>ANIIANTRS</td>\n",
              "      <td>Jimmy Kimmel Admits That He’s ‘One of the BIGG...</td>\n",
              "      <td>Unknown</td>\n",
              "      <td>English</td>\n",
              "      <td>10/18/2017 1:11</td>\n",
              "      <td>0</td>\n",
              "      <td>1502</td>\n",
              "      <td>TWEET</td>\n",
              "      <td>Right</td>\n",
              "      <td>0</td>\n",
              "      <td>RightTroll</td>\n",
              "      <td>920457171552358400</td>\n",
              "      <td>jimmy kimmel admits that hes one of the bigges...</td>\n",
              "      <td>1502.0</td>\n",
              "    </tr>\n",
              "    <tr>\n",
              "      <th>8108</th>\n",
              "      <td>8122</td>\n",
              "      <td>ANIIANTRS</td>\n",
              "      <td>BREAKING: Monica Lewinsky’s ‘Sexual Assault’ V...</td>\n",
              "      <td>Unknown</td>\n",
              "      <td>English</td>\n",
              "      <td>10/18/2017 1:11</td>\n",
              "      <td>0</td>\n",
              "      <td>1502</td>\n",
              "      <td>TWEET</td>\n",
              "      <td>Right</td>\n",
              "      <td>0</td>\n",
              "      <td>RightTroll</td>\n",
              "      <td>920457169694351360</td>\n",
              "      <td>breaking monica lewinskys sexual assault victi...</td>\n",
              "      <td>1502.0</td>\n",
              "    </tr>\n",
              "    <tr>\n",
              "      <th>25962</th>\n",
              "      <td>26002</td>\n",
              "      <td>ANIIANTRS</td>\n",
              "      <td>What He Read On The Card From His Wife Freaked...</td>\n",
              "      <td>Unknown</td>\n",
              "      <td>English</td>\n",
              "      <td>10/18/2017 3:02</td>\n",
              "      <td>1</td>\n",
              "      <td>1497</td>\n",
              "      <td>TWEET</td>\n",
              "      <td>Right</td>\n",
              "      <td>0</td>\n",
              "      <td>RightTroll</td>\n",
              "      <td>920485262517592069</td>\n",
              "      <td>what he read on the card from his wife freaked...</td>\n",
              "      <td>1497.0</td>\n",
              "    </tr>\n",
              "    <tr>\n",
              "      <th>34346</th>\n",
              "      <td>34400</td>\n",
              "      <td>ANIIANTRS</td>\n",
              "      <td>15 Pets That Are Thoroughly Unimpressed With T...</td>\n",
              "      <td>Unknown</td>\n",
              "      <td>English</td>\n",
              "      <td>10/18/2017 3:16</td>\n",
              "      <td>1</td>\n",
              "      <td>1497</td>\n",
              "      <td>TWEET</td>\n",
              "      <td>Right</td>\n",
              "      <td>0</td>\n",
              "      <td>RightTroll</td>\n",
              "      <td>920488615817437189</td>\n",
              "      <td>pets that are thoroughly unimpressed with the...</td>\n",
              "      <td>1497.0</td>\n",
              "    </tr>\n",
              "    <tr>\n",
              "      <th>31233</th>\n",
              "      <td>31284</td>\n",
              "      <td>ANIIANTRS</td>\n",
              "      <td>BREAKING: Trump Admin to Pour $26 Million into...</td>\n",
              "      <td>Unknown</td>\n",
              "      <td>English</td>\n",
              "      <td>10/18/2017 11:26</td>\n",
              "      <td>1</td>\n",
              "      <td>1489</td>\n",
              "      <td>TWEET</td>\n",
              "      <td>Right</td>\n",
              "      <td>0</td>\n",
              "      <td>RightTroll</td>\n",
              "      <td>920612059628298240</td>\n",
              "      <td>breaking trump admin to pour  million into cle...</td>\n",
              "      <td>1489.0</td>\n",
              "    </tr>\n",
              "    <tr>\n",
              "      <th>30331</th>\n",
              "      <td>30381</td>\n",
              "      <td>ANIIANTRS</td>\n",
              "      <td>BREAKING VIDEO: Bombshell Report Exposes the R...</td>\n",
              "      <td>Unknown</td>\n",
              "      <td>English</td>\n",
              "      <td>10/18/2017 11:06</td>\n",
              "      <td>1</td>\n",
              "      <td>1488</td>\n",
              "      <td>TWEET</td>\n",
              "      <td>Right</td>\n",
              "      <td>0</td>\n",
              "      <td>RightTroll</td>\n",
              "      <td>920606962999578624</td>\n",
              "      <td>breaking video bombshell report exposes the re...</td>\n",
              "      <td>1488.0</td>\n",
              "    </tr>\n",
              "    <tr>\n",
              "      <th>13148</th>\n",
              "      <td>13170</td>\n",
              "      <td>ANIIANTRS</td>\n",
              "      <td>BREAKING VIDEO: Thousands of Huma Abedin Files...</td>\n",
              "      <td>Unknown</td>\n",
              "      <td>English</td>\n",
              "      <td>10/18/2017 11:16</td>\n",
              "      <td>1</td>\n",
              "      <td>1488</td>\n",
              "      <td>TWEET</td>\n",
              "      <td>Right</td>\n",
              "      <td>0</td>\n",
              "      <td>RightTroll</td>\n",
              "      <td>920609619847909377</td>\n",
              "      <td>breaking video thousands of huma abedin files ...</td>\n",
              "      <td>1488.0</td>\n",
              "    </tr>\n",
              "    <tr>\n",
              "      <th>37846</th>\n",
              "      <td>37903</td>\n",
              "      <td>ANIIANTRS</td>\n",
              "      <td>Hillary Encourages NFL Players to Keep Kneelin...</td>\n",
              "      <td>Unknown</td>\n",
              "      <td>English</td>\n",
              "      <td>10/18/2017 11:36</td>\n",
              "      <td>1</td>\n",
              "      <td>1487</td>\n",
              "      <td>TWEET</td>\n",
              "      <td>Right</td>\n",
              "      <td>0</td>\n",
              "      <td>RightTroll</td>\n",
              "      <td>920614549178503168</td>\n",
              "      <td>hillary encourages nfl players to keep kneeling</td>\n",
              "      <td>1487.0</td>\n",
              "    </tr>\n",
              "  </tbody>\n",
              "</table>\n",
              "</div>"
            ],
            "text/plain": [
              "          id     author                                            content  \\\n",
              "12858  12879  ANIIANTRS  Jane Fonda Declared That She’s ‘Not Proud of A...   \n",
              "761      762  ANIIANTRS  Varney – Media Will Keep Losing Credibility Ov...   \n",
              "36554  36611  ANIIANTRS  Jimmy Kimmel Admits That He’s ‘One of the BIGG...   \n",
              "8108    8122  ANIIANTRS  BREAKING: Monica Lewinsky’s ‘Sexual Assault’ V...   \n",
              "25962  26002  ANIIANTRS  What He Read On The Card From His Wife Freaked...   \n",
              "34346  34400  ANIIANTRS  15 Pets That Are Thoroughly Unimpressed With T...   \n",
              "31233  31284  ANIIANTRS  BREAKING: Trump Admin to Pour $26 Million into...   \n",
              "30331  30381  ANIIANTRS  BREAKING VIDEO: Bombshell Report Exposes the R...   \n",
              "13148  13170  ANIIANTRS  BREAKING VIDEO: Thousands of Huma Abedin Files...   \n",
              "37846  37903  ANIIANTRS  Hillary Encourages NFL Players to Keep Kneelin...   \n",
              "\n",
              "        region language      publish_date  following  followers post_type  \\\n",
              "12858  Unknown  English  10/17/2017 17:31          0       1514     TWEET   \n",
              "761    Unknown  English   10/18/2017 1:06          0       1502     TWEET   \n",
              "36554  Unknown  English   10/18/2017 1:11          0       1502     TWEET   \n",
              "8108   Unknown  English   10/18/2017 1:11          0       1502     TWEET   \n",
              "25962  Unknown  English   10/18/2017 3:02          1       1497     TWEET   \n",
              "34346  Unknown  English   10/18/2017 3:16          1       1497     TWEET   \n",
              "31233  Unknown  English  10/18/2017 11:26          1       1489     TWEET   \n",
              "30331  Unknown  English  10/18/2017 11:06          1       1488     TWEET   \n",
              "13148  Unknown  English  10/18/2017 11:16          1       1488     TWEET   \n",
              "37846  Unknown  English  10/18/2017 11:36          1       1487     TWEET   \n",
              "\n",
              "      account_type  retweet account_category            tweet_id  \\\n",
              "12858        Right        0       RightTroll  920341627167797248   \n",
              "761          Right        0       RightTroll  920455965060804609   \n",
              "36554        Right        0       RightTroll  920457171552358400   \n",
              "8108         Right        0       RightTroll  920457169694351360   \n",
              "25962        Right        0       RightTroll  920485262517592069   \n",
              "34346        Right        0       RightTroll  920488615817437189   \n",
              "31233        Right        0       RightTroll  920612059628298240   \n",
              "30331        Right        0       RightTroll  920606962999578624   \n",
              "13148        Right        0       RightTroll  920609619847909377   \n",
              "37846        Right        0       RightTroll  920614549178503168   \n",
              "\n",
              "                                    content without http  \\\n",
              "12858  jane fonda declared that shes not proud of ame...   \n",
              "761    varney – media will keep losing credibility ov...   \n",
              "36554  jimmy kimmel admits that hes one of the bigges...   \n",
              "8108   breaking monica lewinskys sexual assault victi...   \n",
              "25962  what he read on the card from his wife freaked...   \n",
              "34346   pets that are thoroughly unimpressed with the...   \n",
              "31233  breaking trump admin to pour  million into cle...   \n",
              "30331  breaking video bombshell report exposes the re...   \n",
              "13148  breaking video thousands of huma abedin files ...   \n",
              "37846   hillary encourages nfl players to keep kneeling    \n",
              "\n",
              "       follower_to_following_Ratio  \n",
              "12858                       1514.0  \n",
              "761                         1502.0  \n",
              "36554                       1502.0  \n",
              "8108                        1502.0  \n",
              "25962                       1497.0  \n",
              "34346                       1497.0  \n",
              "31233                       1489.0  \n",
              "30331                       1488.0  \n",
              "13148                       1488.0  \n",
              "37846                       1487.0  "
            ]
          },
          "metadata": {
            "tags": []
          },
          "execution_count": 18
        }
      ]
    },
    {
      "cell_type": "code",
      "metadata": {
        "id": "Wo2oWGQ2jI5x",
        "outputId": "17dd2166-0cf7-427a-a730-0f26adef7f80"
      },
      "source": [
        "#Top English Users by Number of Followers/Following Ratio\n",
        "eng_tweets.sort_values('follower_to_following_Ratio',ascending=False)[:500]['author'].unique()"
      ],
      "execution_count": null,
      "outputs": [
        {
          "output_type": "execute_result",
          "data": {
            "text/plain": [
              "array(['ANIIANTRS', 'ACEJINEV', 'ADAM_MATHISSS', 'AMELINAASTR',\n",
              "       'ARGENTINACATLE1', 'ARCHIEOLIVERS', 'ANAAISLEC', '10_GOP',\n",
              "       'ASHLEEYWES', 'ANGELISTRR', 'ANDEERLWR', 'ANGEELISTR',\n",
              "       'ALBUQUERQUEON', 'ANDRREETRT', 'ALIISTRR', 'ANGTHEESTR',\n",
              "       'AMELCREECH', 'ATLANTA_ONLINE', 'ANNIEPOSHES', 'ARIEENSLPE',\n",
              "       'APRRILSBRUSS', 'ABOUTPOLIT', 'ARM_2_ALAN'], dtype=object)"
            ]
          },
          "metadata": {
            "tags": []
          },
          "execution_count": 19
        }
      ]
    },
    {
      "cell_type": "code",
      "metadata": {
        "id": "4zcK6S5pjI5y",
        "outputId": "897fde5d-ba23-49b2-a4dd-5d3f4fda2c37"
      },
      "source": [
        "#Who Comes Up The Most for Reteeting\n",
        "eng_tweets[eng_tweets['retweet']==1]['author'].value_counts()[:10]"
      ],
      "execution_count": null,
      "outputs": [
        {
          "output_type": "execute_result",
          "data": {
            "text/plain": [
              "AMELIEBALDWIN     8131\n",
              "ARM_2_ALAN        3658\n",
              "ANTONHAYHAY       2427\n",
              "ALECMOOOOODY      2036\n",
              "ANDYHASHTAGGER    1541\n",
              "ACEJINEV          1397\n",
              "AMANDAVGREEN       842\n",
              "ALDRICH420         759\n",
              "ANNIEPOSHES        553\n",
              "AIDEN7757          518\n",
              "Name: author, dtype: int64"
            ]
          },
          "metadata": {
            "tags": []
          },
          "execution_count": 20
        }
      ]
    },
    {
      "cell_type": "code",
      "metadata": {
        "id": "nWhYZePLjI5z",
        "outputId": "b29d485c-4b68-418d-a464-340d90d86ddc"
      },
      "source": [
        "# Proportion of their total tweets being retweets\n",
        "eng_ppl=list(eng_tweets[eng_tweets['retweet']==1]['author'].value_counts()[:10].index)\n",
        "\n",
        "e=[]\n",
        "for i in eng_ppl:\n",
        "    e.append(eng_tweets[(eng_tweets['retweet']==1)&\\\n",
        "    (eng_tweets['author']==i)]['author'].value_counts()/\\\n",
        "    eng_tweets[eng_tweets['author']==i].shape[0])\n",
        "\n",
        "e"
      ],
      "execution_count": null,
      "outputs": [
        {
          "output_type": "execute_result",
          "data": {
            "text/plain": [
              "[AMELIEBALDWIN    0.96316\n",
              " Name: author, dtype: float64,\n",
              " ARM_2_ALAN    0.991328\n",
              " Name: author, dtype: float64,\n",
              " ANTONHAYHAY    0.940698\n",
              " Name: author, dtype: float64,\n",
              " ALECMOOOOODY    0.952292\n",
              " Name: author, dtype: float64,\n",
              " ANDYHASHTAGGER    0.659675\n",
              " Name: author, dtype: float64,\n",
              " ACEJINEV    0.9357\n",
              " Name: author, dtype: float64,\n",
              " AMANDAVGREEN    0.781076\n",
              " Name: author, dtype: float64,\n",
              " ALDRICH420    0.85957\n",
              " Name: author, dtype: float64,\n",
              " ANNIEPOSHES    0.771269\n",
              " Name: author, dtype: float64,\n",
              " AIDEN7757    0.617402\n",
              " Name: author, dtype: float64]"
            ]
          },
          "metadata": {
            "tags": []
          },
          "execution_count": 21
        }
      ]
    },
    {
      "cell_type": "code",
      "metadata": {
        "id": "bxviisVtjI5z",
        "outputId": "3507d7c4-3af0-44aa-80f6-5ced8527bfc3"
      },
      "source": [
        "#create a new row in tweets containing the screen_name of the user who is being retweeted if applicable\n",
        "eng_tweets['RT_source'] = eng_tweets['content'].str.extract(r'@(\\S+):')\n",
        "eng_tweets['RT_source'].fillna('None',inplace=True)\n",
        "                      \n",
        "eng_tweets['RT_source'].head()"
      ],
      "execution_count": null,
      "outputs": [
        {
          "output_type": "stream",
          "text": [
            "<ipython-input-22-6dd578a486ad>:2: SettingWithCopyWarning: \n",
            "A value is trying to be set on a copy of a slice from a DataFrame.\n",
            "Try using .loc[row_indexer,col_indexer] = value instead\n",
            "\n",
            "See the caveats in the documentation: https://pandas.pydata.org/pandas-docs/stable/user_guide/indexing.html#returning-a-view-versus-a-copy\n",
            "  eng_tweets['RT_source'] = eng_tweets['content'].str.extract(r'@(\\S+):')\n",
            "C:\\Users\\ANITA\\AppData\\Roaming\\Python\\Python38\\site-packages\\pandas\\core\\series.py:4433: SettingWithCopyWarning: \n",
            "A value is trying to be set on a copy of a slice from a DataFrame\n",
            "\n",
            "See the caveats in the documentation: https://pandas.pydata.org/pandas-docs/stable/user_guide/indexing.html#returning-a-view-versus-a-copy\n",
            "  return super().fillna(\n"
          ],
          "name": "stderr"
        },
        {
          "output_type": "execute_result",
          "data": {
            "text/plain": [
              "0    None\n",
              "1    None\n",
              "2    None\n",
              "3    None\n",
              "4    None\n",
              "Name: RT_source, dtype: object"
            ]
          },
          "metadata": {
            "tags": []
          },
          "execution_count": 22
        }
      ]
    },
    {
      "cell_type": "code",
      "metadata": {
        "id": "zQ2p2PiSjI50",
        "outputId": "020360fc-ea79-4ee6-fcb0-b0ae4c1f73c5"
      },
      "source": [
        "eng_tweets['RT_source'].value_counts()"
      ],
      "execution_count": null,
      "outputs": [
        {
          "output_type": "execute_result",
          "data": {
            "text/plain": [
              "None               46500\n",
              "realDonaldTrump        9\n",
              "jstines3               8\n",
              "POTUS                  6\n",
              "2AFight                4\n",
              "                   ...  \n",
              "Love4Military          1\n",
              "OrgasmicJaidon         1\n",
              "sdv92                  1\n",
              "HiCaliberLilGal        1\n",
              "LifeSite               1\n",
              "Name: RT_source, Length: 425, dtype: int64"
            ]
          },
          "metadata": {
            "tags": []
          },
          "execution_count": 23
        }
      ]
    },
    {
      "cell_type": "code",
      "metadata": {
        "id": "8_i6xlEjjI50",
        "outputId": "77b20462-2f4c-4d88-fdef-ce858ade8167"
      },
      "source": [
        "#create a new row in tweets containing the screen_name of the user who is being retweeted if applicable\n",
        "eng_tweets['hashtags'] = eng_tweets['content'].str.extract(r'#(\\S+):')\n",
        "eng_tweets['hashtags'].fillna('None',inplace=True)\n",
        "                      \n",
        "eng_tweets['hashtags'].head()"
      ],
      "execution_count": null,
      "outputs": [
        {
          "output_type": "stream",
          "text": [
            "<ipython-input-24-26b526a1a144>:2: SettingWithCopyWarning: \n",
            "A value is trying to be set on a copy of a slice from a DataFrame.\n",
            "Try using .loc[row_indexer,col_indexer] = value instead\n",
            "\n",
            "See the caveats in the documentation: https://pandas.pydata.org/pandas-docs/stable/user_guide/indexing.html#returning-a-view-versus-a-copy\n",
            "  eng_tweets['hashtags'] = eng_tweets['content'].str.extract(r'#(\\S+):')\n"
          ],
          "name": "stderr"
        },
        {
          "output_type": "execute_result",
          "data": {
            "text/plain": [
              "0    None\n",
              "1    None\n",
              "2    None\n",
              "3    None\n",
              "4    None\n",
              "Name: hashtags, dtype: object"
            ]
          },
          "metadata": {
            "tags": []
          },
          "execution_count": 24
        }
      ]
    },
    {
      "cell_type": "code",
      "metadata": {
        "id": "-QEHYCYHjI50",
        "outputId": "38052337-284a-4a7d-e9e5-3ea8b8b8d0ce"
      },
      "source": [
        "eng_tweets['hashtags'].value_counts()"
      ],
      "execution_count": null,
      "outputs": [
        {
          "output_type": "execute_result",
          "data": {
            "text/plain": [
              "None          46767\n",
              "NowPlaying       47\n",
              "Periscope        16\n",
              "NP                9\n",
              "BREAKING          7\n",
              "              ...  \n",
              "MOOD              1\n",
              "France            1\n",
              "AP10Things        1\n",
              "Israel            1\n",
              "NEGROPEAN         1\n",
              "Name: hashtags, Length: 148, dtype: int64"
            ]
          },
          "metadata": {
            "tags": []
          },
          "execution_count": 25
        }
      ]
    },
    {
      "cell_type": "code",
      "metadata": {
        "id": "goYgTVNMjI51",
        "outputId": "5db46ce5-6a53-4be9-a4b3-7daf68566829"
      },
      "source": [
        "eng_tweets['account_category'].value_counts()"
      ],
      "execution_count": null,
      "outputs": [
        {
          "output_type": "execute_result",
          "data": {
            "text/plain": [
              "RightTroll      28406\n",
              "LeftTroll        8884\n",
              "HashtagGamer     6782\n",
              "NewsFeed         2708\n",
              "Unknown           143\n",
              "Fearmonger         93\n",
              "Name: account_category, dtype: int64"
            ]
          },
          "metadata": {
            "tags": []
          },
          "execution_count": 26
        }
      ]
    },
    {
      "cell_type": "code",
      "metadata": {
        "id": "Gfbt4k5vjI51"
      },
      "source": [
        "from sklearn.cluster import KMeans\n"
      ],
      "execution_count": null,
      "outputs": []
    },
    {
      "cell_type": "code",
      "metadata": {
        "id": "KA56tOPUjI51"
      },
      "source": [
        "kmeans = KMeans(n_clusters=6)"
      ],
      "execution_count": null,
      "outputs": []
    },
    {
      "cell_type": "code",
      "metadata": {
        "id": "8Ez5mRSajI51",
        "outputId": "abc09f06-6e8e-4b89-e3e1-038b222a0f43"
      },
      "source": [
        "data.shape"
      ],
      "execution_count": null,
      "outputs": [
        {
          "output_type": "execute_result",
          "data": {
            "text/plain": [
              "(47708, 14)"
            ]
          },
          "metadata": {
            "tags": []
          },
          "execution_count": 29
        }
      ]
    },
    {
      "cell_type": "code",
      "metadata": {
        "id": "Vi7QbmY1jI52",
        "outputId": "3445a0a4-6621-46dc-ab86-d2debb600c69"
      },
      "source": [
        "data.head()"
      ],
      "execution_count": null,
      "outputs": [
        {
          "output_type": "execute_result",
          "data": {
            "text/html": [
              "<div>\n",
              "<style scoped>\n",
              "    .dataframe tbody tr th:only-of-type {\n",
              "        vertical-align: middle;\n",
              "    }\n",
              "\n",
              "    .dataframe tbody tr th {\n",
              "        vertical-align: top;\n",
              "    }\n",
              "\n",
              "    .dataframe thead th {\n",
              "        text-align: right;\n",
              "    }\n",
              "</style>\n",
              "<table border=\"1\" class=\"dataframe\">\n",
              "  <thead>\n",
              "    <tr style=\"text-align: right;\">\n",
              "      <th></th>\n",
              "      <th>id</th>\n",
              "      <th>author</th>\n",
              "      <th>content</th>\n",
              "      <th>region</th>\n",
              "      <th>language</th>\n",
              "      <th>publish_date</th>\n",
              "      <th>following</th>\n",
              "      <th>followers</th>\n",
              "      <th>post_type</th>\n",
              "      <th>account_type</th>\n",
              "      <th>retweet</th>\n",
              "      <th>account_category</th>\n",
              "      <th>tweet_id</th>\n",
              "      <th>content without http</th>\n",
              "    </tr>\n",
              "  </thead>\n",
              "  <tbody>\n",
              "    <tr>\n",
              "      <th>0</th>\n",
              "      <td>0</td>\n",
              "      <td>ADNNELSTR</td>\n",
              "      <td>The empty podium says it all. The Marxists are...</td>\n",
              "      <td>Unknown</td>\n",
              "      <td>English</td>\n",
              "      <td>8/13/2017 21:00</td>\n",
              "      <td>946</td>\n",
              "      <td>83</td>\n",
              "      <td>TWEET</td>\n",
              "      <td>Right</td>\n",
              "      <td>0</td>\n",
              "      <td>RightTroll</td>\n",
              "      <td>896838937028775937</td>\n",
              "      <td>the empty podium says it all the marxists are ...</td>\n",
              "    </tr>\n",
              "    <tr>\n",
              "      <th>1</th>\n",
              "      <td>1</td>\n",
              "      <td>ATLANTA_ONLINE</td>\n",
              "      <td>Dust in your house may have toxic chemicals, s...</td>\n",
              "      <td>United States</td>\n",
              "      <td>English</td>\n",
              "      <td>9/15/2016 3:34</td>\n",
              "      <td>7825</td>\n",
              "      <td>17383</td>\n",
              "      <td>TWEET</td>\n",
              "      <td>local</td>\n",
              "      <td>0</td>\n",
              "      <td>NewsFeed</td>\n",
              "      <td>776262908388839424</td>\n",
              "      <td>dust in your house may have toxic chemicals st...</td>\n",
              "    </tr>\n",
              "    <tr>\n",
              "      <th>2</th>\n",
              "      <td>2</td>\n",
              "      <td>ANTONHAYHAY</td>\n",
              "      <td>singers Get 1 million soundcloud plays for $45...</td>\n",
              "      <td>United States</td>\n",
              "      <td>English</td>\n",
              "      <td>3/3/2017 20:41</td>\n",
              "      <td>303</td>\n",
              "      <td>711</td>\n",
              "      <td>RETWEET</td>\n",
              "      <td>Left</td>\n",
              "      <td>1</td>\n",
              "      <td>LeftTroll</td>\n",
              "      <td>837764807826763781</td>\n",
              "      <td>singers get  million soundcloud plays for  cli...</td>\n",
              "    </tr>\n",
              "    <tr>\n",
              "      <th>3</th>\n",
              "      <td>3</td>\n",
              "      <td>AMELIEBALDWIN</td>\n",
              "      <td>.@JohnsonHildy may be on to something about th...</td>\n",
              "      <td>United States</td>\n",
              "      <td>English</td>\n",
              "      <td>2/23/2017 2:05</td>\n",
              "      <td>2322</td>\n",
              "      <td>2743</td>\n",
              "      <td>RETWEET</td>\n",
              "      <td>Right</td>\n",
              "      <td>1</td>\n",
              "      <td>RightTroll</td>\n",
              "      <td>834584872111001601</td>\n",
              "      <td>johnsonhildy may be on to something about the ...</td>\n",
              "    </tr>\n",
              "    <tr>\n",
              "      <th>4</th>\n",
              "      <td>4</td>\n",
              "      <td>AMELIEBALDWIN</td>\n",
              "      <td>.@ViolaDavis just made #Oscars history, and it...</td>\n",
              "      <td>United States</td>\n",
              "      <td>English</td>\n",
              "      <td>1/25/2017 9:36</td>\n",
              "      <td>2340</td>\n",
              "      <td>2726</td>\n",
              "      <td>RETWEET</td>\n",
              "      <td>Right</td>\n",
              "      <td>1</td>\n",
              "      <td>RightTroll</td>\n",
              "      <td>824189182897754117</td>\n",
              "      <td>violadavis just made oscars history and its fo...</td>\n",
              "    </tr>\n",
              "  </tbody>\n",
              "</table>\n",
              "</div>"
            ],
            "text/plain": [
              "   id          author                                            content  \\\n",
              "0   0       ADNNELSTR  The empty podium says it all. The Marxists are...   \n",
              "1   1  ATLANTA_ONLINE  Dust in your house may have toxic chemicals, s...   \n",
              "2   2     ANTONHAYHAY  singers Get 1 million soundcloud plays for $45...   \n",
              "3   3   AMELIEBALDWIN  .@JohnsonHildy may be on to something about th...   \n",
              "4   4   AMELIEBALDWIN  .@ViolaDavis just made #Oscars history, and it...   \n",
              "\n",
              "          region language     publish_date  following  followers post_type  \\\n",
              "0        Unknown  English  8/13/2017 21:00        946         83     TWEET   \n",
              "1  United States  English   9/15/2016 3:34       7825      17383     TWEET   \n",
              "2  United States  English   3/3/2017 20:41        303        711   RETWEET   \n",
              "3  United States  English   2/23/2017 2:05       2322       2743   RETWEET   \n",
              "4  United States  English   1/25/2017 9:36       2340       2726   RETWEET   \n",
              "\n",
              "  account_type  retweet account_category            tweet_id  \\\n",
              "0        Right        0       RightTroll  896838937028775937   \n",
              "1        local        0         NewsFeed  776262908388839424   \n",
              "2         Left        1        LeftTroll  837764807826763781   \n",
              "3        Right        1       RightTroll  834584872111001601   \n",
              "4        Right        1       RightTroll  824189182897754117   \n",
              "\n",
              "                                content without http  \n",
              "0  the empty podium says it all the marxists are ...  \n",
              "1  dust in your house may have toxic chemicals st...  \n",
              "2  singers get  million soundcloud plays for  cli...  \n",
              "3  johnsonhildy may be on to something about the ...  \n",
              "4  violadavis just made oscars history and its fo...  "
            ]
          },
          "metadata": {
            "tags": []
          },
          "execution_count": 30
        }
      ]
    },
    {
      "cell_type": "code",
      "metadata": {
        "id": "XQOp3tJ1jI52",
        "outputId": "264b41c9-2d15-40a0-c3da-5d21244215e7"
      },
      "source": [
        "data.isnull().sum()"
      ],
      "execution_count": null,
      "outputs": [
        {
          "output_type": "execute_result",
          "data": {
            "text/plain": [
              "id                      0\n",
              "author                  0\n",
              "content                 0\n",
              "region                  0\n",
              "language                0\n",
              "publish_date            0\n",
              "following               0\n",
              "followers               0\n",
              "post_type               0\n",
              "account_type            0\n",
              "retweet                 0\n",
              "account_category        0\n",
              "tweet_id                0\n",
              "content without http    0\n",
              "dtype: int64"
            ]
          },
          "metadata": {
            "tags": []
          },
          "execution_count": 31
        }
      ]
    },
    {
      "cell_type": "markdown",
      "metadata": {
        "id": "jmdBrObojI52"
      },
      "source": [
        "### Understand what is being said and how the information is flowing\n",
        "Illustrate how this tweet network is working\n",
        "Show the people from top down trickling tweets\n",
        "Using Top 10 Tweets"
      ]
    },
    {
      "cell_type": "code",
      "metadata": {
        "id": "zU2bay-ljI53",
        "outputId": "dc47f647-3ebd-4c21-b1e8-498ea0beab63"
      },
      "source": [
        "# Convert str to date/time with pandas\n",
        "eng_tweets['publish_date']=pd.to_datetime(eng_tweets['publish_date'],\n",
        "                                        infer_datetime_format=True)\n",
        "\n",
        "eng_tweets.sort_values('publish_date',ascending=True)\n",
        "\n",
        "# Change formating trfo US dates\n",
        "eng_tweets['publish_date_Only']=eng_tweets['publish_date'].\\\n",
        "dt.strftime('%m/%d/%Y')\n",
        "\n",
        "eng_tweets['time']=eng_tweets['publish_date'].\\\n",
        "dt.strftime('%H')"
      ],
      "execution_count": null,
      "outputs": [
        {
          "output_type": "stream",
          "text": [
            "<ipython-input-32-32ac29e2467b>:2: SettingWithCopyWarning: \n",
            "A value is trying to be set on a copy of a slice from a DataFrame.\n",
            "Try using .loc[row_indexer,col_indexer] = value instead\n",
            "\n",
            "See the caveats in the documentation: https://pandas.pydata.org/pandas-docs/stable/user_guide/indexing.html#returning-a-view-versus-a-copy\n",
            "  eng_tweets['publish_date']=pd.to_datetime(eng_tweets['publish_date'],\n",
            "<ipython-input-32-32ac29e2467b>:8: SettingWithCopyWarning: \n",
            "A value is trying to be set on a copy of a slice from a DataFrame.\n",
            "Try using .loc[row_indexer,col_indexer] = value instead\n",
            "\n",
            "See the caveats in the documentation: https://pandas.pydata.org/pandas-docs/stable/user_guide/indexing.html#returning-a-view-versus-a-copy\n",
            "  eng_tweets['publish_date_Only']=eng_tweets['publish_date'].\\\n",
            "<ipython-input-32-32ac29e2467b>:11: SettingWithCopyWarning: \n",
            "A value is trying to be set on a copy of a slice from a DataFrame.\n",
            "Try using .loc[row_indexer,col_indexer] = value instead\n",
            "\n",
            "See the caveats in the documentation: https://pandas.pydata.org/pandas-docs/stable/user_guide/indexing.html#returning-a-view-versus-a-copy\n",
            "  eng_tweets['time']=eng_tweets['publish_date'].\\\n"
          ],
          "name": "stderr"
        }
      ]
    },
    {
      "cell_type": "code",
      "metadata": {
        "id": "FAsbjuCRjI53",
        "outputId": "7d789648-d5eb-4ad2-91c0-4f9162c0c622"
      },
      "source": [
        "eng_ppl_exp=list(eng_tweets[eng_tweets['retweet']==1]['author'].\\\n",
        "                 value_counts()[:20].index)\n",
        "\n",
        "top_10_retweeters=eng_tweets[eng_tweets['author'].isin(eng_ppl_exp)]\n",
        "\n",
        "top_10=top_10_retweeters.loc[:,['author','time','content without http','retweet']]\n",
        " \n",
        "top_10=top_10[top_10['retweet']==1]\n",
        "\n",
        "\n",
        "top_10=top_10.sort_values(['author','time'])\n",
        "top_10\n",
        "\n",
        "val_cnts_authors_by_hr=[]\n",
        "for i in eng_ppl_exp:\n",
        "    val_cnts_authors_by_hr.extend(list(zip(len(top_10[top_10['author']==i]['time'].\\\n",
        "                            value_counts().index)*[i],\n",
        "                            top_10[top_10['author']==i]['time'].value_counts().index,\n",
        "    top_10[top_10['author']==i]['time'].value_counts())))\n",
        "\n",
        "    \n",
        "val_cnts_authors_by_hr[0:23]"
      ],
      "execution_count": null,
      "outputs": [
        {
          "output_type": "execute_result",
          "data": {
            "text/plain": [
              "[('AMELIEBALDWIN', '17', 443),\n",
              " ('AMELIEBALDWIN', '16', 430),\n",
              " ('AMELIEBALDWIN', '18', 412),\n",
              " ('AMELIEBALDWIN', '12', 405),\n",
              " ('AMELIEBALDWIN', '13', 384),\n",
              " ('AMELIEBALDWIN', '15', 383),\n",
              " ('AMELIEBALDWIN', '14', 378),\n",
              " ('AMELIEBALDWIN', '20', 367),\n",
              " ('AMELIEBALDWIN', '19', 342),\n",
              " ('AMELIEBALDWIN', '22', 334),\n",
              " ('AMELIEBALDWIN', '21', 330),\n",
              " ('AMELIEBALDWIN', '04', 326),\n",
              " ('AMELIEBALDWIN', '10', 325),\n",
              " ('AMELIEBALDWIN', '07', 320),\n",
              " ('AMELIEBALDWIN', '23', 319),\n",
              " ('AMELIEBALDWIN', '11', 315),\n",
              " ('AMELIEBALDWIN', '02', 314),\n",
              " ('AMELIEBALDWIN', '06', 311),\n",
              " ('AMELIEBALDWIN', '03', 303),\n",
              " ('AMELIEBALDWIN', '08', 287),\n",
              " ('AMELIEBALDWIN', '00', 284),\n",
              " ('AMELIEBALDWIN', '01', 279),\n",
              " ('AMELIEBALDWIN', '05', 271)]"
            ]
          },
          "metadata": {
            "tags": []
          },
          "execution_count": 33
        }
      ]
    },
    {
      "cell_type": "code",
      "metadata": {
        "id": "ucPptS0CjI53",
        "outputId": "450f72c2-005d-4944-876d-7cefce8d70d1"
      },
      "source": [
        "jj=[]\n",
        "for i in eng_ppl_exp:\n",
        "    if len(top_10[top_10['author']==i]['time'].unique())<24:\n",
        "        q=set(top_10['time'].unique())-\\\n",
        "        set(list(top_10[top_10['author']==i]['time'].unique()))\n",
        "        jj.extend(list(zip([i]*len(q),list(q),len(q)*[0])))        \n",
        "\n",
        "A=pd.DataFrame(jj,columns=['author','time','value'])\n",
        "B=pd.DataFrame(val_cnts_authors_by_hr,columns=['author','time','value'])\n",
        "\n",
        "user_by_hr_cnt=A.append(B)\n",
        "\n",
        "\n",
        "user_by_hr_cnt.sort_values(['author','time'])"
      ],
      "execution_count": null,
      "outputs": [
        {
          "output_type": "execute_result",
          "data": {
            "text/html": [
              "<div>\n",
              "<style scoped>\n",
              "    .dataframe tbody tr th:only-of-type {\n",
              "        vertical-align: middle;\n",
              "    }\n",
              "\n",
              "    .dataframe tbody tr th {\n",
              "        vertical-align: top;\n",
              "    }\n",
              "\n",
              "    .dataframe thead th {\n",
              "        text-align: right;\n",
              "    }\n",
              "</style>\n",
              "<table border=\"1\" class=\"dataframe\">\n",
              "  <thead>\n",
              "    <tr style=\"text-align: right;\">\n",
              "      <th></th>\n",
              "      <th>author</th>\n",
              "      <th>time</th>\n",
              "      <th>value</th>\n",
              "    </tr>\n",
              "  </thead>\n",
              "  <tbody>\n",
              "    <tr>\n",
              "      <th>353</th>\n",
              "      <td>4MYSQUAD</td>\n",
              "      <td>00</td>\n",
              "      <td>5</td>\n",
              "    </tr>\n",
              "    <tr>\n",
              "      <th>349</th>\n",
              "      <td>4MYSQUAD</td>\n",
              "      <td>01</td>\n",
              "      <td>6</td>\n",
              "    </tr>\n",
              "    <tr>\n",
              "      <th>348</th>\n",
              "      <td>4MYSQUAD</td>\n",
              "      <td>02</td>\n",
              "      <td>7</td>\n",
              "    </tr>\n",
              "    <tr>\n",
              "      <th>70</th>\n",
              "      <td>4MYSQUAD</td>\n",
              "      <td>03</td>\n",
              "      <td>0</td>\n",
              "    </tr>\n",
              "    <tr>\n",
              "      <th>71</th>\n",
              "      <td>4MYSQUAD</td>\n",
              "      <td>04</td>\n",
              "      <td>0</td>\n",
              "    </tr>\n",
              "    <tr>\n",
              "      <th>...</th>\n",
              "      <td>...</td>\n",
              "      <td>...</td>\n",
              "      <td>...</td>\n",
              "    </tr>\n",
              "    <tr>\n",
              "      <th>26</th>\n",
              "      <td>ARM_2_ALAN</td>\n",
              "      <td>19</td>\n",
              "      <td>215</td>\n",
              "    </tr>\n",
              "    <tr>\n",
              "      <th>28</th>\n",
              "      <td>ARM_2_ALAN</td>\n",
              "      <td>20</td>\n",
              "      <td>201</td>\n",
              "    </tr>\n",
              "    <tr>\n",
              "      <th>31</th>\n",
              "      <td>ARM_2_ALAN</td>\n",
              "      <td>21</td>\n",
              "      <td>174</td>\n",
              "    </tr>\n",
              "    <tr>\n",
              "      <th>24</th>\n",
              "      <td>ARM_2_ALAN</td>\n",
              "      <td>22</td>\n",
              "      <td>219</td>\n",
              "    </tr>\n",
              "    <tr>\n",
              "      <th>27</th>\n",
              "      <td>ARM_2_ALAN</td>\n",
              "      <td>23</td>\n",
              "      <td>204</td>\n",
              "    </tr>\n",
              "  </tbody>\n",
              "</table>\n",
              "<p>480 rows × 3 columns</p>\n",
              "</div>"
            ],
            "text/plain": [
              "         author time  value\n",
              "353    4MYSQUAD   00      5\n",
              "349    4MYSQUAD   01      6\n",
              "348    4MYSQUAD   02      7\n",
              "70     4MYSQUAD   03      0\n",
              "71     4MYSQUAD   04      0\n",
              "..          ...  ...    ...\n",
              "26   ARM_2_ALAN   19    215\n",
              "28   ARM_2_ALAN   20    201\n",
              "31   ARM_2_ALAN   21    174\n",
              "24   ARM_2_ALAN   22    219\n",
              "27   ARM_2_ALAN   23    204\n",
              "\n",
              "[480 rows x 3 columns]"
            ]
          },
          "metadata": {
            "tags": []
          },
          "execution_count": 34
        }
      ]
    },
    {
      "cell_type": "code",
      "metadata": {
        "id": "mCo3K2NTjI54",
        "outputId": "22885d5c-8cc9-4599-ddaf-63592bd371bb"
      },
      "source": [
        "top_10.head()"
      ],
      "execution_count": null,
      "outputs": [
        {
          "output_type": "execute_result",
          "data": {
            "text/html": [
              "<div>\n",
              "<style scoped>\n",
              "    .dataframe tbody tr th:only-of-type {\n",
              "        vertical-align: middle;\n",
              "    }\n",
              "\n",
              "    .dataframe tbody tr th {\n",
              "        vertical-align: top;\n",
              "    }\n",
              "\n",
              "    .dataframe thead th {\n",
              "        text-align: right;\n",
              "    }\n",
              "</style>\n",
              "<table border=\"1\" class=\"dataframe\">\n",
              "  <thead>\n",
              "    <tr style=\"text-align: right;\">\n",
              "      <th></th>\n",
              "      <th>author</th>\n",
              "      <th>time</th>\n",
              "      <th>content without http</th>\n",
              "      <th>retweet</th>\n",
              "    </tr>\n",
              "  </thead>\n",
              "  <tbody>\n",
              "    <tr>\n",
              "      <th>2762</th>\n",
              "      <td>4MYSQUAD</td>\n",
              "      <td>00</td>\n",
              "      <td>to females that carries grocery bags instead ...</td>\n",
              "      <td>1</td>\n",
              "    </tr>\n",
              "    <tr>\n",
              "      <th>5014</th>\n",
              "      <td>4MYSQUAD</td>\n",
              "      <td>00</td>\n",
              "      <td>to the females that dont mind wearing her hai...</td>\n",
              "      <td>1</td>\n",
              "    </tr>\n",
              "    <tr>\n",
              "      <th>14513</th>\n",
              "      <td>4MYSQUAD</td>\n",
              "      <td>00</td>\n",
              "      <td>nb lanes of  freeway closed in devore after pu...</td>\n",
              "      <td>1</td>\n",
              "    </tr>\n",
              "    <tr>\n",
              "      <th>20648</th>\n",
              "      <td>4MYSQUAD</td>\n",
              "      <td>00</td>\n",
              "      <td>youre doing a great job guys keep it up</td>\n",
              "      <td>1</td>\n",
              "    </tr>\n",
              "    <tr>\n",
              "      <th>36194</th>\n",
              "      <td>4MYSQUAD</td>\n",
              "      <td>00</td>\n",
              "      <td>this lady gotta be tought a tough lesson boost...</td>\n",
              "      <td>1</td>\n",
              "    </tr>\n",
              "  </tbody>\n",
              "</table>\n",
              "</div>"
            ],
            "text/plain": [
              "         author time                               content without http  \\\n",
              "2762   4MYSQUAD   00   to females that carries grocery bags instead ...   \n",
              "5014   4MYSQUAD   00   to the females that dont mind wearing her hai...   \n",
              "14513  4MYSQUAD   00  nb lanes of  freeway closed in devore after pu...   \n",
              "20648  4MYSQUAD   00          youre doing a great job guys keep it up     \n",
              "36194  4MYSQUAD   00  this lady gotta be tought a tough lesson boost...   \n",
              "\n",
              "       retweet  \n",
              "2762         1  \n",
              "5014         1  \n",
              "14513        1  \n",
              "20648        1  \n",
              "36194        1  "
            ]
          },
          "metadata": {
            "tags": []
          },
          "execution_count": 35
        }
      ]
    },
    {
      "cell_type": "code",
      "metadata": {
        "id": "-0h0lmOkjI54",
        "outputId": "260387d8-1f0c-4874-c7ce-2163dee30c3a"
      },
      "source": [
        "#Authors tweet activity across the day\n",
        "store_hr_cnts=defaultdict(list)\n",
        "\n",
        "for i in user_by_hr_cnt.sort_values(['author','time']).values:\n",
        "    store_hr_cnts[i[1]].append(i[2])\n",
        "    \n",
        "d1=pd.DataFrame(store_hr_cnts,index=sorted(user_by_hr_cnt['author'].unique()))\n",
        "\n",
        "sns.clustermap(d1,col_cluster=False,robust=True)"
      ],
      "execution_count": null,
      "outputs": [
        {
          "output_type": "execute_result",
          "data": {
            "text/plain": [
              "<seaborn.matrix.ClusterGrid at 0x292562efca0>"
            ]
          },
          "metadata": {
            "tags": []
          },
          "execution_count": 36
        },
        {
          "output_type": "display_data",
          "data": {
            "image/png": "[encoded data removed]",
            "text/plain": [
              "<Figure size 720x720 with 4 Axes>"
            ]
          },
          "metadata": {
            "tags": [],
            "needs_background": "light"
          }
        }
      ]
    },
    {
      "cell_type": "markdown",
      "metadata": {
        "id": "oIVNM6EKjI54"
      },
      "source": [
        "### Show how the Large Retweeters Trickle Down:¶\n",
        "Pick two tweets and show activity by plotting\n",
        "Work Flow:\n",
        "\n",
        "Take the top 10-20 Re-tweeters\n",
        "Sort By Tweet then user\n",
        "Choose top 10 users for that tweet\n",
        "We will need to see the time of posting these tweets to see who posted first and trickle down from there."
      ]
    },
    {
      "cell_type": "code",
      "metadata": {
        "id": "rcN261ngjI55"
      },
      "source": [
        "# Get Top 10 Retweeters: English\n",
        "eng_top_10=eng_tweets[eng_tweets['retweet']==1]['author'].value_counts()[:10]"
      ],
      "execution_count": null,
      "outputs": []
    },
    {
      "cell_type": "code",
      "metadata": {
        "id": "o8XJ72O9jI55",
        "outputId": "a3285f02-7edd-44bc-a59a-d054014a7229"
      },
      "source": [
        "eng_tweets[eng_tweets['retweet']==1]['author'].value_counts()[:10]"
      ],
      "execution_count": null,
      "outputs": [
        {
          "output_type": "execute_result",
          "data": {
            "text/plain": [
              "AMELIEBALDWIN     8131\n",
              "ARM_2_ALAN        3658\n",
              "ANTONHAYHAY       2427\n",
              "ALECMOOOOODY      2036\n",
              "ANDYHASHTAGGER    1541\n",
              "ACEJINEV          1397\n",
              "AMANDAVGREEN       842\n",
              "ALDRICH420         759\n",
              "ANNIEPOSHES        553\n",
              "AIDEN7757          518\n",
              "Name: author, dtype: int64"
            ]
          },
          "metadata": {
            "tags": []
          },
          "execution_count": 38
        }
      ]
    },
    {
      "cell_type": "code",
      "metadata": {
        "id": "CeB16obgjI55",
        "outputId": "4e62b5c7-9e96-4564-cc25-5b9b65a51c15"
      },
      "source": [
        "eng_tweets[eng_tweets['retweet']==1]['content without http'].value_counts()[:10]"
      ],
      "execution_count": null,
      "outputs": [
        {
          "output_type": "execute_result",
          "data": {
            "text/plain": [
              "                                                                                                          54\n",
              "                                                                                                          28\n",
              "★★★ patriots who dare join our fight to save america ➠ click here                                         27\n",
              "ste massive obama era food stamp fraud exposed and ended by trump                                         10\n",
              "enter for your chance to win a                                                                             9\n",
              "ste trump cracks down on food stamp fraud and it instantly does wonders                                    9\n",
              "listen to the title track of the upcoming mashup album thefourhorsemen theartofwar ft t                    9\n",
              "jumping up and down with delight to be retweeted by mr trump realdonaldtrump �� makeamericagreatagain      8\n",
              "ste traitor jeff flake is now defending obama                                                              8\n",
              "just posted a photo                                                                                        8\n",
              "Name: content without http, dtype: int64"
            ]
          },
          "metadata": {
            "tags": []
          },
          "execution_count": 39
        }
      ]
    },
    {
      "cell_type": "code",
      "metadata": {
        "id": "pIjPobq3jI55",
        "outputId": "393085bd-8c98-40e5-804e-4f4e2f7e13d2"
      },
      "source": [
        "eng_tweets[eng_tweets['retweet']==0]['content without http'].value_counts()[:10]"
      ],
      "execution_count": null,
      "outputs": [
        {
          "output_type": "execute_result",
          "data": {
            "text/plain": [
              "benghazi liar susan rices treachery continues with trump surveillance  maga pjnet tcot     22\n",
              "political unmasking of team trump must be prosecuted    maga pjn                           12\n",
              "                                                                                           11\n",
              "rescind obamacare rule exempting hypocrites in congress   maga p                           11\n",
              " circuit infringes on  amendment  american thinker   nra maga pjnet                        11\n",
              "is flynns unmasking mccabes revenge   maga pjnet  standwithf                               11\n",
              "comey fired  now indict hillary clinton  american thinker maga tcot pjnet                   9\n",
              "debbie dwstweets subverted our democracy not russians   maga pj                             9\n",
              "colossus of corruption ben rhodes unmasked   maga pjnet tcot                                8\n",
              "did john brennan collude with foreign spies to help hillary  maga pjnet tcot ccot           8\n",
              "Name: content without http, dtype: int64"
            ]
          },
          "metadata": {
            "tags": []
          },
          "execution_count": 40
        }
      ]
    },
    {
      "cell_type": "markdown",
      "metadata": {
        "id": "QUl7OcEOjI56"
      },
      "source": [
        "There is a recurrence of Trump and Hilary in these tweets as well as Obama"
      ]
    },
    {
      "cell_type": "code",
      "metadata": {
        "id": "B8XBZt1tjI56",
        "outputId": "0e75383c-42ee-443f-ebfc-6592ce723065"
      },
      "source": [
        "key_wrds=['trump','hillary','obama']\n",
        "str_containing=[]\n",
        "for i in eng_tweets[eng_tweets['retweet']==1]['content without http'].values:\n",
        "    if type(i)==str and re.search(key_wrds[0],i):\n",
        "        str_containing.append(i)\n",
        "        \n",
        "str_containing[:15]"
      ],
      "execution_count": null,
      "outputs": [
        {
          "output_type": "execute_result",
          "data": {
            "text/plain": [
              "['clinton half of trump supporters are in basket of deplorables   —hillary clinton told an audience of donors ',\n",
              " 'trumps former campaign manager purpose of immigration speech was to lock in white guys  ',\n",
              " 'the only point of all these tweets is to destroy trust in all news media handy fascist tactic mepfuller  realdonaldtrump',\n",
              " 'here are all the possible paths to electoral college victory for trump in less than a minute ',\n",
              " 'great piece by the great ejdionne  opinion  admit it trump is unfit to serve ',\n",
              " 'and their next plan is back to trump u  his foundation lol they are officially out of ideas  out of ammo ',\n",
              " 'gen kelly is a worldclass leader and huge addition to a trump cabinet that will keep us safe and finally put americafirst maga ',\n",
              " 'joyannreid trump aide talks investment with sanctioned kremlin fund ',\n",
              " 'mark levin to congress investigate obamas silent coup vs trump ',\n",
              " 'jersey city  celebration report cbs  via   oh oh more proof trump is right����',\n",
              " 'a cynic might find irony in washpost amp ny times which intervened on clintons behalf daily carping that russia did the same for trump',\n",
              " 'trumpsfavoriteheadline the forward combover is found to be the sexiest hairdo amongst gold diggers',\n",
              " 'celebrities like amyschumer spikelee rosie threaten to leave the us if realdonaldtrump wins all the more reason to vote ',\n",
              " 'politics gop sexpred realdonaldtrump top adviser joshkushner has potl  obamacare conflictofinterest ',\n",
              " 'ste lol video  the view tries to do a trump spoof fails miserably  ']"
            ]
          },
          "metadata": {
            "tags": []
          },
          "execution_count": 41
        }
      ]
    },
    {
      "cell_type": "code",
      "metadata": {
        "id": "IhwbFxzqjI56",
        "outputId": "8e939c3b-5969-4e5d-b488-d3b5d7ea441c"
      },
      "source": [
        "eng_tweets[eng_tweets['retweet']==1]['content without http'].\\\n",
        "isin(str_containing).value_counts()"
      ],
      "execution_count": null,
      "outputs": [
        {
          "output_type": "execute_result",
          "data": {
            "text/plain": [
              "False    23177\n",
              "True      2841\n",
              "Name: content without http, dtype: int64"
            ]
          },
          "metadata": {
            "tags": []
          },
          "execution_count": 42
        }
      ]
    },
    {
      "cell_type": "code",
      "metadata": {
        "id": "rfktSNWjjI57",
        "outputId": "ab1034ad-7c75-4a66-a044-c68fb897184e"
      },
      "source": [
        "tr_clin_obama_tweets=eng_tweets[eng_tweets['content without http'].\\\n",
        "isin(str_containing)]\n",
        "\n",
        "tr_clin_obama_tweets['content without http'].value_counts()[:20]"
      ],
      "execution_count": null,
      "outputs": [
        {
          "output_type": "execute_result",
          "data": {
            "text/plain": [
              "ste massive obama era food stamp fraud exposed and ended by trump                                                                       10\n",
              "ste trump cracks down on food stamp fraud and it instantly does wonders                                                                  9\n",
              "jumping up and down with delight to be retweeted by mr trump realdonaldtrump �� makeamericagreatagain                                    8\n",
              "ste trumps lawyer going to scotus over blockade of undercover abortion videos                                                            6\n",
              "ste sick antifa attacked trump supporters during a prayer rally                                                                          5\n",
              "ste liberal author attacks trumps birther comments forgets one huge problem                                                              5\n",
              "riots at trumpoc                                                                                                                         5\n",
              "famous sculptorpredictor of other presidential victoriesenvisions trump as president and creates marble sculpture                        4\n",
              "danscavino realdonaldtrump  front page trump wins in landslide new york times  november                                                  4\n",
              "upayr obama rules by exec order against wishes of population how many times is irrelevant trump case closed                              4\n",
              "realdonaldtrump  please dont let the most trusted names get u down we the people of usa declare u atlas strong                           3\n",
              "ste lol look how team trump left reince stranded after his dismissal                                                                     3\n",
              "ste atheists losing their sht over trumps christian white house                                                                          3\n",
              "if youre voting for trump this november retweet this tweet follow everyone who retweets lets spread the messagemakeamericagreatagain     3\n",
              "life comes from r daily choices choose life realdonaldtrump drmartyfox lindasuhler drjamescabot trumpnewmedia                            3\n",
              "ste while dems and media obsess on russia trumps american economy is booming                                                             3\n",
              "realdonaldtrump                                                                                                                          3\n",
              "hi brianstelter remember when you said trumps wiretap claim is a conspiracy theory  brian we are waiting for your apology  manafort      2\n",
              "happy to be apart of history the energy was incredible for realdonaldtrump mississippi trump  gop ��                                     2\n",
              "realdonaldtrump                                                                                                                          2\n",
              "Name: content without http, dtype: int64"
            ]
          },
          "metadata": {
            "tags": []
          },
          "execution_count": 43
        }
      ]
    },
    {
      "cell_type": "code",
      "metadata": {
        "id": "x2dz2fzbjI57"
      },
      "source": [
        "top_20_tweets_TR_CLin=list(tr_clin_obama_tweets['content without http'].\\\n",
        "                           value_counts().index[:20])"
      ],
      "execution_count": null,
      "outputs": []
    },
    {
      "cell_type": "code",
      "metadata": {
        "id": "_k9BgWY5jI57",
        "outputId": "907900c4-efa5-49bd-a54d-e3de0e27edd4"
      },
      "source": [
        "tmp=tr_clin_obama_tweets[tr_clin_obama_tweets['retweet']==1]\n",
        "\n",
        "tmp[tmp['content without http'].\\\n",
        "    isin(top_20_tweets_TR_CLin)]['content without http'].value_counts()[:5]\n",
        "\n",
        "#None"
      ],
      "execution_count": null,
      "outputs": [
        {
          "output_type": "execute_result",
          "data": {
            "text/plain": [
              "ste massive obama era food stamp fraud exposed and ended by trump                                         10\n",
              "ste trump cracks down on food stamp fraud and it instantly does wonders                                    9\n",
              "jumping up and down with delight to be retweeted by mr trump realdonaldtrump �� makeamericagreatagain      8\n",
              "ste trumps lawyer going to scotus over blockade of undercover abortion videos                              6\n",
              "ste liberal author attacks trumps birther comments forgets one huge problem                                5\n",
              "Name: content without http, dtype: int64"
            ]
          },
          "metadata": {
            "tags": []
          },
          "execution_count": 45
        }
      ]
    },
    {
      "cell_type": "code",
      "metadata": {
        "id": "Gm6VccOXjI57"
      },
      "source": [
        "tmp=tr_clin_obama_tweets[tr_clin_obama_tweets['retweet']==1]\n",
        "\n",
        "two_tweets_=tmp[tmp['content without http'].\\\n",
        "    isin(top_20_tweets_TR_CLin)]['content without http'].value_counts().index[:2]\n",
        "\n",
        "# tmp[tmp['kinda_clean_content'].isin(two_tweets_)].sort_values('publish_date')"
      ],
      "execution_count": null,
      "outputs": []
    },
    {
      "cell_type": "code",
      "metadata": {
        "id": "szFiIGTQjI58",
        "outputId": "82660806-db8c-497c-8755-eab11b2ae6fc"
      },
      "source": [
        "two_tweets_=tmp[tmp['content without http'].\\\n",
        "    isin(top_20_tweets_TR_CLin)]['content without http'].value_counts().index[:2]\n",
        "\n",
        "\n",
        "two_tweets_to_plot=tr_clin_obama_tweets[tr_clin_obama_tweets['content without http'].\\\n",
        "                   isin(two_tweets_)].sort_values('publish_date').reset_index()\n",
        "\n",
        "two_tweets_to_plot.head()\n",
        "# .head()"
      ],
      "execution_count": null,
      "outputs": [
        {
          "output_type": "execute_result",
          "data": {
            "text/html": [
              "<div>\n",
              "<style scoped>\n",
              "    .dataframe tbody tr th:only-of-type {\n",
              "        vertical-align: middle;\n",
              "    }\n",
              "\n",
              "    .dataframe tbody tr th {\n",
              "        vertical-align: top;\n",
              "    }\n",
              "\n",
              "    .dataframe thead th {\n",
              "        text-align: right;\n",
              "    }\n",
              "</style>\n",
              "<table border=\"1\" class=\"dataframe\">\n",
              "  <thead>\n",
              "    <tr style=\"text-align: right;\">\n",
              "      <th></th>\n",
              "      <th>index</th>\n",
              "      <th>id</th>\n",
              "      <th>author</th>\n",
              "      <th>content</th>\n",
              "      <th>region</th>\n",
              "      <th>language</th>\n",
              "      <th>publish_date</th>\n",
              "      <th>following</th>\n",
              "      <th>followers</th>\n",
              "      <th>post_type</th>\n",
              "      <th>account_type</th>\n",
              "      <th>retweet</th>\n",
              "      <th>account_category</th>\n",
              "      <th>tweet_id</th>\n",
              "      <th>content without http</th>\n",
              "      <th>follower_to_following_Ratio</th>\n",
              "      <th>RT_source</th>\n",
              "      <th>hashtags</th>\n",
              "      <th>publish_date_Only</th>\n",
              "      <th>time</th>\n",
              "    </tr>\n",
              "  </thead>\n",
              "  <tbody>\n",
              "    <tr>\n",
              "      <th>0</th>\n",
              "      <td>30658</td>\n",
              "      <td>30708</td>\n",
              "      <td>AMBERRPAR</td>\n",
              "      <td>#ste Massive Obama Era Food Stamp Fraud EXPOSE...</td>\n",
              "      <td>Unknown</td>\n",
              "      <td>English</td>\n",
              "      <td>2017-08-08 05:14:00</td>\n",
              "      <td>0</td>\n",
              "      <td>0</td>\n",
              "      <td>RETWEET</td>\n",
              "      <td>Right</td>\n",
              "      <td>1</td>\n",
              "      <td>RightTroll</td>\n",
              "      <td>894788961121443840</td>\n",
              "      <td>ste massive obama era food stamp fraud exposed...</td>\n",
              "      <td>NaN</td>\n",
              "      <td>None</td>\n",
              "      <td>None</td>\n",
              "      <td>08/08/2017</td>\n",
              "      <td>05</td>\n",
              "    </tr>\n",
              "    <tr>\n",
              "      <th>1</th>\n",
              "      <td>36131</td>\n",
              "      <td>36188</td>\n",
              "      <td>AMELINAASTR</td>\n",
              "      <td>#ste Trump Cracks Down on Food Stamp Fraud and...</td>\n",
              "      <td>United States</td>\n",
              "      <td>English</td>\n",
              "      <td>2017-08-08 05:25:00</td>\n",
              "      <td>19</td>\n",
              "      <td>0</td>\n",
              "      <td>RETWEET</td>\n",
              "      <td>Right</td>\n",
              "      <td>1</td>\n",
              "      <td>RightTroll</td>\n",
              "      <td>894791625389428736</td>\n",
              "      <td>ste trump cracks down on food stamp fraud and ...</td>\n",
              "      <td>0.000000</td>\n",
              "      <td>None</td>\n",
              "      <td>None</td>\n",
              "      <td>08/08/2017</td>\n",
              "      <td>05</td>\n",
              "    </tr>\n",
              "    <tr>\n",
              "      <th>2</th>\n",
              "      <td>29264</td>\n",
              "      <td>29312</td>\n",
              "      <td>AMELINAASTR</td>\n",
              "      <td>#ste Massive Obama Era Food Stamp Fraud EXPOSE...</td>\n",
              "      <td>United States</td>\n",
              "      <td>English</td>\n",
              "      <td>2017-08-08 05:26:00</td>\n",
              "      <td>19</td>\n",
              "      <td>0</td>\n",
              "      <td>RETWEET</td>\n",
              "      <td>Right</td>\n",
              "      <td>1</td>\n",
              "      <td>RightTroll</td>\n",
              "      <td>894791791571947520</td>\n",
              "      <td>ste massive obama era food stamp fraud exposed...</td>\n",
              "      <td>0.000000</td>\n",
              "      <td>None</td>\n",
              "      <td>None</td>\n",
              "      <td>08/08/2017</td>\n",
              "      <td>05</td>\n",
              "    </tr>\n",
              "    <tr>\n",
              "      <th>3</th>\n",
              "      <td>34821</td>\n",
              "      <td>34876</td>\n",
              "      <td>AMIISTRS</td>\n",
              "      <td>#ste Trump Cracks Down on Food Stamp Fraud and...</td>\n",
              "      <td>Unknown</td>\n",
              "      <td>English</td>\n",
              "      <td>2017-08-08 05:33:00</td>\n",
              "      <td>29</td>\n",
              "      <td>2</td>\n",
              "      <td>RETWEET</td>\n",
              "      <td>Right</td>\n",
              "      <td>1</td>\n",
              "      <td>RightTroll</td>\n",
              "      <td>894793590299213825</td>\n",
              "      <td>ste trump cracks down on food stamp fraud and ...</td>\n",
              "      <td>0.068966</td>\n",
              "      <td>None</td>\n",
              "      <td>None</td>\n",
              "      <td>08/08/2017</td>\n",
              "      <td>05</td>\n",
              "    </tr>\n",
              "    <tr>\n",
              "      <th>4</th>\n",
              "      <td>13980</td>\n",
              "      <td>14002</td>\n",
              "      <td>AMYYSLEGENTR</td>\n",
              "      <td>#ste Trump Cracks Down on Food Stamp Fraud and...</td>\n",
              "      <td>Unknown</td>\n",
              "      <td>English</td>\n",
              "      <td>2017-08-08 05:51:00</td>\n",
              "      <td>26</td>\n",
              "      <td>1</td>\n",
              "      <td>RETWEET</td>\n",
              "      <td>Right</td>\n",
              "      <td>1</td>\n",
              "      <td>RightTroll</td>\n",
              "      <td>894798177487998976</td>\n",
              "      <td>ste trump cracks down on food stamp fraud and ...</td>\n",
              "      <td>0.038462</td>\n",
              "      <td>None</td>\n",
              "      <td>None</td>\n",
              "      <td>08/08/2017</td>\n",
              "      <td>05</td>\n",
              "    </tr>\n",
              "  </tbody>\n",
              "</table>\n",
              "</div>"
            ],
            "text/plain": [
              "   index     id        author  \\\n",
              "0  30658  30708     AMBERRPAR   \n",
              "1  36131  36188   AMELINAASTR   \n",
              "2  29264  29312   AMELINAASTR   \n",
              "3  34821  34876      AMIISTRS   \n",
              "4  13980  14002  AMYYSLEGENTR   \n",
              "\n",
              "                                             content         region language  \\\n",
              "0  #ste Massive Obama Era Food Stamp Fraud EXPOSE...        Unknown  English   \n",
              "1  #ste Trump Cracks Down on Food Stamp Fraud and...  United States  English   \n",
              "2  #ste Massive Obama Era Food Stamp Fraud EXPOSE...  United States  English   \n",
              "3  #ste Trump Cracks Down on Food Stamp Fraud and...        Unknown  English   \n",
              "4  #ste Trump Cracks Down on Food Stamp Fraud and...        Unknown  English   \n",
              "\n",
              "         publish_date  following  followers post_type account_type  retweet  \\\n",
              "0 2017-08-08 05:14:00          0          0   RETWEET        Right        1   \n",
              "1 2017-08-08 05:25:00         19          0   RETWEET        Right        1   \n",
              "2 2017-08-08 05:26:00         19          0   RETWEET        Right        1   \n",
              "3 2017-08-08 05:33:00         29          2   RETWEET        Right        1   \n",
              "4 2017-08-08 05:51:00         26          1   RETWEET        Right        1   \n",
              "\n",
              "  account_category            tweet_id  \\\n",
              "0       RightTroll  894788961121443840   \n",
              "1       RightTroll  894791625389428736   \n",
              "2       RightTroll  894791791571947520   \n",
              "3       RightTroll  894793590299213825   \n",
              "4       RightTroll  894798177487998976   \n",
              "\n",
              "                                content without http  \\\n",
              "0  ste massive obama era food stamp fraud exposed...   \n",
              "1  ste trump cracks down on food stamp fraud and ...   \n",
              "2  ste massive obama era food stamp fraud exposed...   \n",
              "3  ste trump cracks down on food stamp fraud and ...   \n",
              "4  ste trump cracks down on food stamp fraud and ...   \n",
              "\n",
              "   follower_to_following_Ratio RT_source hashtags publish_date_Only time  \n",
              "0                          NaN      None     None        08/08/2017   05  \n",
              "1                     0.000000      None     None        08/08/2017   05  \n",
              "2                     0.000000      None     None        08/08/2017   05  \n",
              "3                     0.068966      None     None        08/08/2017   05  \n",
              "4                     0.038462      None     None        08/08/2017   05  "
            ]
          },
          "metadata": {
            "tags": []
          },
          "execution_count": 47
        }
      ]
    },
    {
      "cell_type": "code",
      "metadata": {
        "id": "SXRm1xBPjI58"
      },
      "source": [
        "two_tweets_to_plot['new_time']=two_tweets_to_plot['publish_date'].\\\n",
        "dt.strftime('%m/%d/%Y %H:%M')"
      ],
      "execution_count": null,
      "outputs": []
    },
    {
      "cell_type": "code",
      "metadata": {
        "id": "f0mJi3P3jI58"
      },
      "source": [
        "first_tweet=two_tweets_to_plot.iloc[:18,:]\n",
        "\n",
        "second_tweet=two_tweets_to_plot.iloc[18:,:].reset_index()"
      ],
      "execution_count": null,
      "outputs": []
    },
    {
      "cell_type": "code",
      "metadata": {
        "id": "8Vi-THm3jI58",
        "outputId": "a5e5b72f-7a96-45b9-a74e-5f795625cbad"
      },
      "source": [
        "from datetime import datetime\n",
        "\n",
        "\n",
        "def time_to_int(df_to_parse,starting_point):\n",
        "    ll=[]\n",
        "    for i in df_to_parse:\n",
        "        FMT = '%m/%d/%Y %H:%M'\n",
        "        tdelta = datetime.strptime(i, FMT) -\\\n",
        "        datetime.strptime(starting_point, FMT)\n",
        "        convrt_mins=float(tdelta.total_seconds())/60\n",
        "        if tdelta.total_seconds() <10800:\n",
        "            ll.append(int(tdelta.total_seconds())/60)\n",
        "        else:\n",
        "            ll.append('Nope')\n",
        "    return ll\n",
        "# len(ll)\n",
        "\n",
        "first_tweet['min_ints']=time_to_int(first_tweet['new_time'],first_tweet['new_time'][0])\n",
        "\n",
        "# second_tweet"
      ],
      "execution_count": null,
      "outputs": [
        {
          "output_type": "stream",
          "text": [
            "<ipython-input-50-df07cc0d23b3>:18: SettingWithCopyWarning: \n",
            "A value is trying to be set on a copy of a slice from a DataFrame.\n",
            "Try using .loc[row_indexer,col_indexer] = value instead\n",
            "\n",
            "See the caveats in the documentation: https://pandas.pydata.org/pandas-docs/stable/user_guide/indexing.html#returning-a-view-versus-a-copy\n",
            "  first_tweet['min_ints']=time_to_int(first_tweet['new_time'],first_tweet['new_time'][0])\n"
          ],
          "name": "stderr"
        }
      ]
    },
    {
      "cell_type": "code",
      "metadata": {
        "id": "0vT63R7qjI59"
      },
      "source": [
        "second_tweet['min_ints']=time_to_int(second_tweet['new_time'],second_tweet['new_time'][0])"
      ],
      "execution_count": null,
      "outputs": []
    },
    {
      "cell_type": "code",
      "metadata": {
        "id": "JdGCOFpNjI5-",
        "outputId": "727945f8-f402-4f9f-c67b-481d0c8a32db"
      },
      "source": [
        "# This plot shows the amplification of sample tweet from first author to last\n",
        "sns.catplot(data=first_tweet,x='min_ints',y='author',\n",
        "                    col='content without http',aspect=2)"
      ],
      "execution_count": null,
      "outputs": [
        {
          "output_type": "execute_result",
          "data": {
            "text/plain": [
              "<seaborn.axisgrid.FacetGrid at 0x29256b79ee0>"
            ]
          },
          "metadata": {
            "tags": []
          },
          "execution_count": 52
        },
        {
          "output_type": "display_data",
          "data": {
            "image/png": "[encoded data removed]",
            "text/plain": [
              "<Figure size 1440x360 with 2 Axes>"
            ]
          },
          "metadata": {
            "tags": [],
            "needs_background": "light"
          }
        }
      ]
    },
    {
      "cell_type": "markdown",
      "metadata": {
        "id": "5bGMvEUSjI5-"
      },
      "source": [
        "From the above, we can see a ripple of the tweet from the original author"
      ]
    },
    {
      "cell_type": "code",
      "metadata": {
        "id": "8mAvu5DIjI5_",
        "outputId": "cc45f109-ad8b-4fdc-ebb5-003f8f5f33ad"
      },
      "source": [
        "#WordCloud after some data cleaning\n",
        "text = ' '.join([str(x) for x in data['content without http']])\n",
        "\n",
        "wc = WordCloud(stopwords=STOPWORDS,background_color='white',max_words=200,scale=3).generate(text)\n",
        "plt.figure(figsize=(15,15))\n",
        "plt.axis('off')\n",
        "plt.imshow(wc)\n",
        "plt.show()"
      ],
      "execution_count": null,
      "outputs": [
        {
          "output_type": "display_data",
          "data": {
            "image/png": "[encoded data removed]",
            "text/plain": [
              "<Figure size 1080x1080 with 1 Axes>"
            ]
          },
          "metadata": {
            "tags": [],
            "needs_background": "light"
          }
        }
      ]
    },
    {
      "cell_type": "code",
      "metadata": {
        "id": "eqeLSEyQjI5_"
      },
      "source": [
        "#The most popular words are electoral keywords: Trump, Hillary, Obama, vote, democrat\n",
        "#Also popular trends in America: blacklivesmatter\n",
        "#Dataset could still use a bit of cleaning too"
      ],
      "execution_count": null,
      "outputs": []
    },
    {
      "cell_type": "code",
      "metadata": {
        "id": "JLfNIAFljI6A"
      },
      "source": [
        ""
      ],
      "execution_count": null,
      "outputs": []
    }
  ]
}